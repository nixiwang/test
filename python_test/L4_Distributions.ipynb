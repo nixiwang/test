{
 "cells": [
  {
   "cell_type": "markdown",
   "metadata": {},
   "source": [
    "### Distributions, PDFs/PMFs, CDF and sampling from distributions\n",
    "\n",
    "Today we are going to explore statistical distributions, create figures of their PDFs and PMFs, calculate the CDFs and write some code to sample from the distributions.\n",
    "\n",
    "But first, imports..."
   ]
  },
  {
   "cell_type": "code",
   "execution_count": 7,
   "metadata": {},
   "outputs": [],
   "source": [
    "import math\n",
    "\n",
    "import matplotlib.pyplot as plt\n",
    "import numpy as np\n",
    "import pandas as pd\n",
    "import scipy \n",
    "\n",
    "%matplotlib inline"
   ]
  },
  {
   "cell_type": "markdown",
   "metadata": {},
   "source": [
    "#### Let's start with the binomial distribution\n",
    "\n",
    "Use LaTeX to write the equation for the PMF in the cell below.  Use the form with _N_ and _p_.  [Here](https://www.sharelatex.com/learn/Mathematical_expressions) is a guide to writing mathematical expressions in LaTeX."
   ]
  },
  {
   "cell_type": "markdown",
   "metadata": {},
   "source": []
  },
  {
   "cell_type": "markdown",
   "metadata": {},
   "source": [
    "$$E=m$$\n",
    "\n",
    "\\begin{equation}\n",
    "P(n|N)=\\binom{N}{n}p^{n}q^{N-n}=\\frac{N!}{n!(N-n)!}p^{n}(1-p)^{N-n}\n",
    "\\end{equation}"
   ]
  },
  {
   "cell_type": "markdown",
   "metadata": {},
   "source": [
    "\\begin{equation}\n",
    "P(n|N)=\\binom{N}{n}p^{n}q^{N-n}=\\frac{N!}{n!(N-n)!}p^{n}(1-p)^{N-n}\n",
    "\\end{equation}"
   ]
  },
  {
   "cell_type": "markdown",
   "metadata": {},
   "source": [
    "#### Create a function that can be used to compute P(x).\n",
    "\n",
    "Your function will need three arguments.  Hint: look at ``math.factorial`` for computing factorials and ``math.pow`` for exponents."
   ]
  },
  {
   "cell_type": "code",
   "execution_count": 40,
   "metadata": {},
   "outputs": [],
   "source": [
    "def binomial_pmf(p, n, k):\n",
    "    fact = math.factorial(n)/(math.factorial(k)*math.factorial(n-k))\n",
    "    probability = fact*math.pow(p, k)*math.pow(1-p, n-k)\n",
    "    \n",
    "    return probability"
   ]
  },
  {
   "cell_type": "code",
   "execution_count": 41,
   "metadata": {},
   "outputs": [
    {
     "data": {
      "text/plain": [
       "8.0"
      ]
     },
     "execution_count": 41,
     "metadata": {},
     "output_type": "execute_result"
    }
   ],
   "source": [
    "math.pow(2, 3)"
   ]
  },
  {
   "cell_type": "code",
   "execution_count": 42,
   "metadata": {},
   "outputs": [
    {
     "data": {
      "text/plain": [
       "0.2255859375"
      ]
     },
     "execution_count": 42,
     "metadata": {},
     "output_type": "execute_result"
    }
   ],
   "source": [
    "binomial_pmf(0.5, 12, 6)"
   ]
  },
  {
   "cell_type": "markdown",
   "metadata": {},
   "source": [
    "#### Call your function on the integers from 0 to _N_\n",
    "\n",
    "Why can't it be bigger than _N_?\n",
    "\n",
    "Hint: Look at ``np.arange`` for generating linearly spaced integers.  List comprehensions are you friend here.  For loops also work.  A list comprehension is like a compressed for loop.  Use either construct as you prefer, but the list comprehension might look like this:\n",
    "```\n",
    "[binomial_P(20, .5, n) for n in np.arange(0, 21)]\n",
    "```"
   ]
  },
  {
   "cell_type": "code",
   "execution_count": 43,
   "metadata": {},
   "outputs": [
    {
     "data": {
      "text/plain": [
       "array([ 0,  1,  2,  3,  4,  5,  6,  7,  8,  9, 10])"
      ]
     },
     "execution_count": 43,
     "metadata": {},
     "output_type": "execute_result"
    }
   ],
   "source": [
    "np.arange(0, 11)"
   ]
  },
  {
   "cell_type": "code",
   "execution_count": 49,
   "metadata": {},
   "outputs": [
    {
     "data": {
      "text/plain": [
       "[0.0009765625,\n",
       " 0.009765625,\n",
       " 0.0439453125,\n",
       " 0.1171875,\n",
       " 0.205078125,\n",
       " 0.24609375,\n",
       " 0.205078125,\n",
       " 0.1171875,\n",
       " 0.0439453125,\n",
       " 0.009765625,\n",
       " 0.0009765625]"
      ]
     },
     "execution_count": 49,
     "metadata": {},
     "output_type": "execute_result"
    }
   ],
   "source": [
    "[binomial_pmf(0.5, 10, k) for k in np.arange(0, 11)]"
   ]
  },
  {
   "cell_type": "code",
   "execution_count": null,
   "metadata": {},
   "outputs": [],
   "source": []
  },
  {
   "cell_type": "code",
   "execution_count": null,
   "metadata": {},
   "outputs": [],
   "source": []
  },
  {
   "cell_type": "markdown",
   "metadata": {},
   "source": [
    "#### Now, make a figure of _x_ vs _P(x)_\n",
    "\n",
    "Try to reproduce this figure:\n",
    "<img src=\"https://upload.wikimedia.org/wikipedia/commons/7/75/Binomial_distribution_pmf.svg\"/>"
   ]
  },
  {
   "cell_type": "code",
   "execution_count": 54,
   "metadata": {},
   "outputs": [
    {
     "data": {
      "image/png": "[encoded data removed]",
      "text/plain": [
       "<Figure size 504x360 with 1 Axes>"
      ]
     },
     "metadata": {
      "needs_background": "light"
     },
     "output_type": "display_data"
    }
   ],
   "source": [
    "\n",
    "y1 = [binomial_pmf(0.5, 20, k) for k in np.arange(0, 21)]\n",
    "y2 = [binomial_pmf(0.7, 20, k) for k in np.arange(0, 21)]\n",
    "y3 = [binomial_pmf(0.5, 40, k) for k in np.arange(0, 41)]\n",
    "\n",
    "fig = plt.figure(figsize=(7, 5))\n",
    "ax1 = plt.scatter(np.arange(0, 21), y1, c='b', label='p=0.5 and n=20')\n",
    "ax2 = plt.scatter(np.arange(0, 21), y2, c='g', label='p=0.7 and n=20')\n",
    "ax3 = plt.scatter(np.arange(0, 41), y3, c='r', label='p=0.5 and n=40')\n",
    "plt.legend()\n",
    "plt.yticks(np.arange(0, 0.26, 0.05))\n",
    "plt.ylim([-0.02, 0.27])\n",
    "plt.show()"
   ]
  },
  {
   "cell_type": "code",
   "execution_count": null,
   "metadata": {},
   "outputs": [],
   "source": []
  },
  {
   "cell_type": "code",
   "execution_count": null,
   "metadata": {},
   "outputs": [],
   "source": []
  },
  {
   "cell_type": "markdown",
   "metadata": {},
   "source": [
    "#### Moving on, do the same thing for the Poisson distribution\n",
    "\n",
    "Write the LaTeX in the cell below:"
   ]
  },
  {
   "cell_type": "markdown",
   "metadata": {},
   "source": []
  },
  {
   "cell_type": "markdown",
   "metadata": {},
   "source": [
    "#### Create a function for the _P(X)_\n",
    "\n",
    "Include arguments for $\\lambda$ and _k_."
   ]
  },
  {
   "cell_type": "code",
   "execution_count": 55,
   "metadata": {},
   "outputs": [],
   "source": [
    "def poisson_p(lamb, k):\n",
    "    probability = math.pow(lamb, k)*math.exp(-lamb)/math.factorial(k)\n",
    "    \n",
    "    return probability"
   ]
  },
  {
   "cell_type": "markdown",
   "metadata": {},
   "source": [
    "#### Call your function on integers linearly spaced"
   ]
  },
  {
   "cell_type": "code",
   "execution_count": 56,
   "metadata": {},
   "outputs": [
    {
     "data": {
      "text/plain": [
       "[0.36787944117144233,\n",
       " 0.36787944117144233,\n",
       " 0.18393972058572117,\n",
       " 0.06131324019524039,\n",
       " 0.015328310048810098,\n",
       " 0.0030656620097620196,\n",
       " 0.0005109436682936699,\n",
       " 7.299195261338141e-05,\n",
       " 9.123994076672677e-06,\n",
       " 1.0137771196302974e-06,\n",
       " 1.0137771196302975e-07,\n",
       " 9.216155633002704e-09,\n",
       " 7.68012969416892e-10,\n",
       " 5.907792072437631e-11,\n",
       " 4.2198514803125934e-12,\n",
       " 2.8132343202083955e-13,\n",
       " 1.7582714501302472e-14,\n",
       " 1.0342773236060278e-15,\n",
       " 5.745985131144599e-17,\n",
       " 3.0242027006024205e-18,\n",
       " 1.5121013503012103e-19]"
      ]
     },
     "execution_count": 56,
     "metadata": {},
     "output_type": "execute_result"
    }
   ],
   "source": [
    "[poisson_p(1, k) for k in np.arange(0, 21)]"
   ]
  },
  {
   "cell_type": "markdown",
   "metadata": {},
   "source": [
    "#### Make a figure\n",
    "\n",
    "Try to reproduce this figure:\n",
    "<img src=\"https://upload.wikimedia.org/wikipedia/commons/thumb/1/16/Poisson_pmf.svg/650px-Poisson_pmf.svg.png\"/>\n",
    "\n",
    "What is wrong with this figure, BTW?"
   ]
  },
  {
   "cell_type": "markdown",
   "metadata": {},
   "source": []
  },
  {
   "cell_type": "code",
   "execution_count": 12,
   "metadata": {},
   "outputs": [
    {
     "data": {
      "image/png": "[encoded data removed]",
      "text/plain": [
       "<Figure size 504x360 with 1 Axes>"
      ]
     },
     "metadata": {
      "needs_background": "light"
     },
     "output_type": "display_data"
    }
   ],
   "source": [
    "y1 = [poisson_p(1, k) for k in np.arange(0, 21)]\n",
    "y2 = [poisson_p(4, k) for k in np.arange(0, 21)]\n",
    "y3 = [poisson_p(10, k) for k in np.arange(0, 21)]\n",
    "\n",
    "fig = plt.figure(figsize=(7, 5))\n",
    "\n",
    "ax1 = plt.plot(np.arange(0, 21), y1, c='k', linewidth=0.75, zorder=0)\n",
    "ax2 = plt.plot(np.arange(0, 21), y2, c='k', linewidth=0.75, zorder=1)\n",
    "ax3 = plt.plot(np.arange(0, 21), y3, c='k', linewidth=0.75, zorder=2)\n",
    "\n",
    "ax1 = plt.scatter(np.arange(0, 21), y1, s=70, c='gold', edgecolors='k', label='$\\lambda =1$', zorder=3)\n",
    "ax2 = plt.scatter(np.arange(0, 21), y2, s=70, c='purple', edgecolors='k', label='$\\lambda =4$', zorder=4)\n",
    "ax3 = plt.scatter(np.arange(0, 21), y3, s=70, c='cyan', edgecolors='k', label='$\\lambda =10$', zorder=5)\n",
    "\n",
    "plt.legend()\n",
    "#plt.yticks(np.arange(0, 0.26, 0.05))\n",
    "plt.ylim([0, 0.4])\n",
    "plt.show()"
   ]
  },
  {
   "cell_type": "code",
   "execution_count": null,
   "metadata": {},
   "outputs": [],
   "source": []
  },
  {
   "cell_type": "code",
   "execution_count": null,
   "metadata": {},
   "outputs": [],
   "source": []
  },
  {
   "cell_type": "markdown",
   "metadata": {},
   "source": [
    "#### Enough with the discrete distributions, let's try a continuous one:  The normal distribution.\n",
    "\n",
    "Begin by writing the P(x) equation in LaTeX in the cell below."
   ]
  },
  {
   "cell_type": "markdown",
   "metadata": {},
   "source": []
  },
  {
   "cell_type": "markdown",
   "metadata": {},
   "source": [
    "#### Write a function that implements P(x)"
   ]
  },
  {
   "cell_type": "code",
   "execution_count": 17,
   "metadata": {},
   "outputs": [],
   "source": [
    "\n",
    "def normal_p(x, mu, sigma):\n",
    "    coef = math.pow(2*math.pi*math.pow(sigma, 2), -0.5)\n",
    "    probability = coef*math.exp(-math.pow(x-mu, 2)/(2*math.pow(sigma, 2)))\n",
    "    return probability"
   ]
  },
  {
   "cell_type": "code",
   "execution_count": 18,
   "metadata": {},
   "outputs": [
    {
     "data": {
      "text/plain": [
       "1.4867195147342977e-06"
      ]
     },
     "execution_count": 18,
     "metadata": {},
     "output_type": "execute_result"
    }
   ],
   "source": [
    "normal_p(5, 0, 1)"
   ]
  },
  {
   "cell_type": "markdown",
   "metadata": {},
   "source": [
    "#### Call your function on a list of numbers\n",
    "\n",
    "Hint: look at ``np.linspace``."
   ]
  },
  {
   "cell_type": "code",
   "execution_count": 19,
   "metadata": {},
   "outputs": [
    {
     "data": {
      "text/plain": [
       "array([-10.        ,  -8.94736842,  -7.89473684,  -6.84210526,\n",
       "        -5.78947368,  -4.73684211,  -3.68421053,  -2.63157895,\n",
       "        -1.57894737,  -0.52631579,   0.52631579,   1.57894737,\n",
       "         2.63157895,   3.68421053,   4.73684211,   5.78947368,\n",
       "         6.84210526,   7.89473684,   8.94736842,  10.        ])"
      ]
     },
     "execution_count": 19,
     "metadata": {},
     "output_type": "execute_result"
    }
   ],
   "source": [
    "np.linspace(-10, 10, 20)"
   ]
  },
  {
   "cell_type": "code",
   "execution_count": 20,
   "metadata": {},
   "outputs": [
    {
     "data": {
      "text/plain": [
       "[7.69459862670642e-23,\n",
       " 1.6485437289111684e-18,\n",
       " 1.1662784480831181e-14,\n",
       " 2.7245281949674377e-11,\n",
       " 2.101685077170377e-08,\n",
       " 5.353419200482968e-06,\n",
       " 0.00045027946514195825,\n",
       " 0.012506054257598969,\n",
       " 0.11469533473205255,\n",
       " 0.34734293966681634,\n",
       " 0.3473429396668167,\n",
       " 0.11469533473205289,\n",
       " 0.012506054257598969,\n",
       " 0.00045027946514195825,\n",
       " 5.353419200482986e-06,\n",
       " 2.1016850771703843e-08,\n",
       " 2.7245281949674474e-11,\n",
       " 1.1662784480831181e-14,\n",
       " 1.648543728911192e-18,\n",
       " 7.69459862670642e-23]"
      ]
     },
     "execution_count": 20,
     "metadata": {},
     "output_type": "execute_result"
    }
   ],
   "source": [
    "[normal_p(x, 0, 1) for x in np.linspace(-10, 10, 20)]"
   ]
  },
  {
   "cell_type": "markdown",
   "metadata": {},
   "source": [
    "#### Reproduce this figure:\n",
    "\n",
    "<img src=\"https://upload.wikimedia.org/wikipedia/commons/thumb/7/74/Normal_Distribution_PDF.svg/700px-Normal_Distribution_PDF.svg.png\"/>"
   ]
  },
  {
   "cell_type": "code",
   "execution_count": 21,
   "metadata": {},
   "outputs": [
    {
     "data": {
      "image/png": "[encoded data removed]",
      "text/plain": [
       "<Figure size 504x360 with 1 Axes>"
      ]
     },
     "metadata": {
      "needs_background": "light"
     },
     "output_type": "display_data"
    }
   ],
   "source": [
    "y1 = [normal_p(x, 0, 0.2) for x in np.linspace(-5, 5, 100)]\n",
    "y2 = [normal_p(x, 0, 1.0) for x in np.linspace(-5, 5, 100)]\n",
    "y3 = [normal_p(x, 0, 5.0) for x in np.linspace(-5, 5, 100)]\n",
    "y4 = [normal_p(x, -2, 0.5) for x in np.linspace(-5, 5, 100)]\n",
    "\n",
    "fig = plt.figure(figsize=(7, 5))\n",
    "\n",
    "ax1 = plt.plot(np.linspace(-5, 5, 100), y1, c='b', linewidth=3, label='$\\mu$=0, $\\sigma^{2}$=0.2')\n",
    "ax2 = plt.plot(np.linspace(-5, 5, 100), y2, c='r', linewidth=3, label='$\\mu$=0, $\\sigma^{2}$=1.0')\n",
    "ax3 = plt.plot(np.linspace(-5, 5, 100), y3, c='y', linewidth=3, label='$\\mu$=0, $\\sigma^{2}$=5.0')\n",
    "ax4 = plt.plot(np.linspace(-5, 5, 100), y4, c='g', linewidth=3, label='$\\mu$=-2, $\\sigma^{2}$=0.5')\n",
    "\n",
    "plt.legend()\n",
    "plt.yticks(np.linspace(0, 2.0, 6))\n",
    "plt.ylim([-0.05, 2])\n",
    "plt.xticks(np.linspace(-5, 5, 11))\n",
    "plt.xlim([-5.2, 5.2])\n",
    "plt.xlabel('$x$')\n",
    "plt.ylabel('$\\psi_{\\mu,\\sigma^{2}}(x)$')\n",
    "plt.grid(True)\n",
    "plt.minorticks_on()\n",
    "plt.tick_params(direction='in', length=10)\n",
    "plt.tick_params(which='minor', direction='in', length=5)\n",
    "plt.show()"
   ]
  },
  {
   "cell_type": "code",
   "execution_count": null,
   "metadata": {},
   "outputs": [],
   "source": []
  },
  {
   "cell_type": "markdown",
   "metadata": {},
   "source": [
    "### OK, now to CDFs\n",
    "\n",
    "Let's look at the CDF for an emperical distribution.  Recall this from our descriptive statistics notebook.\n"
   ]
  },
  {
   "cell_type": "code",
   "execution_count": 22,
   "metadata": {},
   "outputs": [
    {
     "data": {
      "text/html": [
       "<div>\n",
       "<style scoped>\n",
       "    .dataframe tbody tr th:only-of-type {\n",
       "        vertical-align: middle;\n",
       "    }\n",
       "\n",
       "    .dataframe tbody tr th {\n",
       "        vertical-align: top;\n",
       "    }\n",
       "\n",
       "    .dataframe thead th {\n",
       "        text-align: right;\n",
       "    }\n",
       "</style>\n",
       "<table border=\"1\" class=\"dataframe\">\n",
       "  <thead>\n",
       "    <tr style=\"text-align: right;\">\n",
       "      <th></th>\n",
       "      <th>population</th>\n",
       "    </tr>\n",
       "  </thead>\n",
       "  <tbody>\n",
       "    <tr>\n",
       "      <th>0</th>\n",
       "      <td>-4.270222</td>\n",
       "    </tr>\n",
       "    <tr>\n",
       "      <th>1</th>\n",
       "      <td>-8.553139</td>\n",
       "    </tr>\n",
       "    <tr>\n",
       "      <th>2</th>\n",
       "      <td>-7.043959</td>\n",
       "    </tr>\n",
       "    <tr>\n",
       "      <th>3</th>\n",
       "      <td>-5.193408</td>\n",
       "    </tr>\n",
       "    <tr>\n",
       "      <th>4</th>\n",
       "      <td>-5.935234</td>\n",
       "    </tr>\n",
       "  </tbody>\n",
       "</table>\n",
       "</div>"
      ],
      "text/plain": [
       "   population\n",
       "0   -4.270222\n",
       "1   -8.553139\n",
       "2   -7.043959\n",
       "3   -5.193408\n",
       "4   -5.935234"
      ]
     },
     "execution_count": 22,
     "metadata": {},
     "output_type": "execute_result"
    }
   ],
   "source": [
    "d1 = np.random.normal(loc=-6.4, scale=1.2, size=40000)\n",
    "d2 = np.random.normal(loc=4, scale=10, size=16000)\n",
    "d3 = np.random.normal(loc=22, scale=8, size=72000)\n",
    "population = np.concatenate([d1, d2, d3])\n",
    "pop = pd.DataFrame(data=population, columns=['population'])\n",
    "pop.head()"
   ]
  },
  {
   "cell_type": "markdown",
   "metadata": {},
   "source": [
    "#### First, plot a histogram of the data"
   ]
  },
  {
   "cell_type": "code",
   "execution_count": 23,
   "metadata": {},
   "outputs": [
    {
     "data": {
      "text/plain": [
       "array([[<matplotlib.axes._subplots.AxesSubplot object at 0x000002E00A6F4780>]],\n",
       "      dtype=object)"
      ]
     },
     "execution_count": 23,
     "metadata": {},
     "output_type": "execute_result"
    },
    {
     "data": {
      "image/png": "[encoded data removed]",
      "text/plain": [
       "<Figure size 432x288 with 1 Axes>"
      ]
     },
     "metadata": {
      "needs_background": "light"
     },
     "output_type": "display_data"
    }
   ],
   "source": [
    "pop.hist(bins=100)"
   ]
  },
  {
   "cell_type": "markdown",
   "metadata": {},
   "source": [
    "#### Now let's make a function to interpolate our histogram\n",
    "\n",
    "If you aren't sure what interpolation is, read [this](https://en.wikipedia.org/wiki/Interpolation).\n",
    "\n",
    "Call your function ``inverse_CDF`` and have it take two arguments:\n",
    "* ``data`` which is a list of values that are the emperical distribution you want to construct the CDF from\n",
    "* ``bins`` which is the number of bins to use in the histogram used to interpolate the CDF\n",
    "\n",
    "The function should use ``np.histogram`` to create data objects (not plots) that contain binned data.  Hint: your call will look something like:\n",
    "```\n",
    "    hist_data, bin_edges = np.histogram(data, bins=bins, density=True)\n",
    "```\n",
    "Why are we using the ``density=True`` parameter?\n",
    "\n",
    "Remember that the CDF is the cumulative sum of the probabilty density function.  This means we can create new list with an entry for each bin and use ``np.cumsum`` to sum across a list that is the histogram density * width of a bin.  \n",
    "Here is what I came up with:\n",
    "```\n",
    "    cdf_bins = np.cumsum(hist_data * np.diff(bin_edges))\n",
    "    cdf_bins = np.insert(cdf_bins, 0, 0)\n",
    "```\n",
    "Two questions for you:\n",
    "* ``np.diff`` computes the bin width.  Why?\n",
    "* Why do I have the ``np.insert``?\n",
    "\n"
   ]
  },
  {
   "cell_type": "markdown",
   "metadata": {},
   "source": []
  },
  {
   "cell_type": "markdown",
   "metadata": {},
   "source": [
    "\n",
    "``scipy`` has a nice interpolation family of functions:\n",
    "```\n",
    "import scipy.interpolate\n",
    "\n",
    "inv_cdf = scipy.interpolate.interp1d(cdf_bins, bin_edges)\n",
    "```\n",
    "Google that for more information.  Hint: look at the function ``scipy.interpolate.interp1d``.  Make sure you have the order of the arguments `cdf_bins` and `bin_edges` right.  One way gives you the CDF.  The other way gives you the inverse CDF.  Have your function return the CDF and the inverse CDF.  E.g.\n",
    "```\n",
    "return [cdf, inv_cdf]\n",
    "```\n",
    "Note that the ``scipy.interpolate.interp1d`` interface returns something like a function that you can call and pass it a list of values.  e.g. ``inv_cdf([0.1, 0.2, 0.3])``\n",
    "\n",
    "#### Use the following cells to build your function"
   ]
  },
  {
   "cell_type": "code",
   "execution_count": 24,
   "metadata": {},
   "outputs": [],
   "source": [
    "import scipy.interpolate"
   ]
  },
  {
   "cell_type": "code",
   "execution_count": 25,
   "metadata": {},
   "outputs": [
    {
     "data": {
      "text/plain": [
       "(array([1.64781023e-05, 0.00000000e+00, 0.00000000e+00, 0.00000000e+00,\n",
       "        1.64781023e-05, 0.00000000e+00, 0.00000000e+00, 0.00000000e+00,\n",
       "        8.23905116e-06, 4.11952558e-05, 8.23905116e-06, 2.47171535e-05,\n",
       "        2.47171535e-05, 3.29562046e-05, 7.41514605e-05, 9.88686139e-05,\n",
       "        1.15346716e-04, 1.23585767e-04, 1.97737228e-04, 2.96605842e-04,\n",
       "        2.30693433e-04, 4.44908763e-04, 6.01450735e-04, 6.75602195e-04,\n",
       "        8.56861321e-04, 1.07931570e-03, 1.02988140e-03, 1.29353103e-03,\n",
       "        1.55718067e-03, 2.45523725e-03, 6.88784677e-03, 2.75101918e-02,\n",
       "        6.95128747e-02, 1.03119964e-01, 8.65265153e-02, 4.15001007e-02,\n",
       "        1.26222264e-02, 5.84972633e-03, 4.39141427e-03, 5.02582121e-03,\n",
       "        5.01758216e-03, 5.99802925e-03, 6.18752742e-03, 6.84665152e-03,\n",
       "        7.06086685e-03, 7.77766430e-03, 8.74987233e-03, 9.47490884e-03,\n",
       "        1.03400092e-02, 1.14275640e-02, 1.32895895e-02, 1.33966972e-02,\n",
       "        1.50609855e-02, 1.70713140e-02, 1.90074910e-02, 2.09436681e-02,\n",
       "        2.27974546e-02, 2.41651371e-02, 2.47665878e-02, 2.70900002e-02,\n",
       "        2.79221444e-02, 2.82187502e-02, 2.91909583e-02, 2.94463689e-02,\n",
       "        2.84741608e-02, 2.83340969e-02, 2.72712593e-02, 2.53103652e-02,\n",
       "        2.35554473e-02, 2.23195896e-02, 1.97984399e-02, 1.81094345e-02,\n",
       "        1.61979746e-02, 1.37344983e-02, 1.27046169e-02, 1.08178742e-02,\n",
       "        8.65924277e-03, 7.40690699e-03, 6.37702560e-03, 4.86104019e-03,\n",
       "        3.46040149e-03, 2.86718980e-03, 2.57882301e-03, 1.66428833e-03,\n",
       "        1.36768249e-03, 9.47490884e-04, 7.57992707e-04, 4.94343070e-04,\n",
       "        2.88366791e-04, 2.63649637e-04, 1.56541972e-04, 9.88686139e-05,\n",
       "        4.94343070e-05, 9.06295628e-05, 2.47171535e-05, 1.64781023e-05,\n",
       "        1.64781023e-05, 1.64781023e-05, 0.00000000e+00, 8.23905116e-06]),\n",
       " array([-38.32660959, -37.37838147, -36.43015335, -35.48192523,\n",
       "        -34.53369711, -33.58546899, -32.63724087, -31.68901274,\n",
       "        -30.74078462, -29.7925565 , -28.84432838, -27.89610026,\n",
       "        -26.94787214, -25.99964402, -25.0514159 , -24.10318778,\n",
       "        -23.15495966, -22.20673154, -21.25850342, -20.3102753 ,\n",
       "        -19.36204718, -18.41381905, -17.46559093, -16.51736281,\n",
       "        -15.56913469, -14.62090657, -13.67267845, -12.72445033,\n",
       "        -11.77622221, -10.82799409,  -9.87976597,  -8.93153785,\n",
       "         -7.98330973,  -7.03508161,  -6.08685348,  -5.13862536,\n",
       "         -4.19039724,  -3.24216912,  -2.293941  ,  -1.34571288,\n",
       "         -0.39748476,   0.55074336,   1.49897148,   2.4471996 ,\n",
       "          3.39542772,   4.34365584,   5.29188396,   6.24011208,\n",
       "          7.18834021,   8.13656833,   9.08479645,  10.03302457,\n",
       "         10.98125269,  11.92948081,  12.87770893,  13.82593705,\n",
       "         14.77416517,  15.72239329,  16.67062141,  17.61884953,\n",
       "         18.56707765,  19.51530577,  20.4635339 ,  21.41176202,\n",
       "         22.35999014,  23.30821826,  24.25644638,  25.2046745 ,\n",
       "         26.15290262,  27.10113074,  28.04935886,  28.99758698,\n",
       "         29.9458151 ,  30.89404322,  31.84227134,  32.79049946,\n",
       "         33.73872759,  34.68695571,  35.63518383,  36.58341195,\n",
       "         37.53164007,  38.47986819,  39.42809631,  40.37632443,\n",
       "         41.32455255,  42.27278067,  43.22100879,  44.16923691,\n",
       "         45.11746503,  46.06569316,  47.01392128,  47.9621494 ,\n",
       "         48.91037752,  49.85860564,  50.80683376,  51.75506188,\n",
       "         52.70329   ,  53.65151812,  54.59974624,  55.54797436,\n",
       "         56.49620248]))"
      ]
     },
     "execution_count": 25,
     "metadata": {},
     "output_type": "execute_result"
    }
   ],
   "source": [
    "np.histogram(population, bins=100, density=True)"
   ]
  },
  {
   "cell_type": "code",
   "execution_count": 27,
   "metadata": {},
   "outputs": [
    {
     "data": {
      "text/plain": [
       "array([0.00000000e+00, 1.56250000e-05, 1.56250000e-05, 1.56250000e-05,\n",
       "       1.56250000e-05, 3.12500000e-05, 3.12500000e-05, 3.12500000e-05,\n",
       "       3.12500000e-05, 3.90625000e-05, 7.81250000e-05, 8.59375000e-05,\n",
       "       1.09375000e-04, 1.32812500e-04, 1.64062500e-04, 2.34375000e-04,\n",
       "       3.28125000e-04, 4.37500000e-04, 5.54687500e-04, 7.42187500e-04,\n",
       "       1.02343750e-03, 1.24218750e-03, 1.66406250e-03, 2.23437500e-03,\n",
       "       2.87500000e-03, 3.68750000e-03, 4.71093750e-03, 5.68750000e-03,\n",
       "       6.91406250e-03, 8.39062500e-03, 1.07187500e-02, 1.72500000e-02,\n",
       "       4.33359375e-02, 1.09250000e-01, 2.07031250e-01, 2.89078125e-01,\n",
       "       3.28429687e-01, 3.40398437e-01, 3.45945312e-01, 3.50109375e-01,\n",
       "       3.54875000e-01, 3.59632813e-01, 3.65320313e-01, 3.71187500e-01,\n",
       "       3.77679688e-01, 3.84375000e-01, 3.91750000e-01, 4.00046875e-01,\n",
       "       4.09031250e-01, 4.18835938e-01, 4.29671875e-01, 4.42273438e-01,\n",
       "       4.54976563e-01, 4.69257813e-01, 4.85445313e-01, 5.03468750e-01,\n",
       "       5.23328125e-01, 5.44945313e-01, 5.67859375e-01, 5.91343750e-01,\n",
       "       6.17031250e-01, 6.43507812e-01, 6.70265625e-01, 6.97945313e-01,\n",
       "       7.25867188e-01, 7.52867188e-01, 7.79734375e-01, 8.05593750e-01,\n",
       "       8.29593750e-01, 8.51929688e-01, 8.73093750e-01, 8.91867188e-01,\n",
       "       9.09039063e-01, 9.24398438e-01, 9.37421875e-01, 9.49468750e-01,\n",
       "       9.59726563e-01, 9.67937500e-01, 9.74960938e-01, 9.81007813e-01,\n",
       "       9.85617188e-01, 9.88898438e-01, 9.91617188e-01, 9.94062500e-01,\n",
       "       9.95640625e-01, 9.96937500e-01, 9.97835938e-01, 9.98554688e-01,\n",
       "       9.99023438e-01, 9.99296875e-01, 9.99546875e-01, 9.99695313e-01,\n",
       "       9.99789063e-01, 9.99835938e-01, 9.99921875e-01, 9.99945313e-01,\n",
       "       9.99960938e-01, 9.99976562e-01, 9.99992187e-01, 9.99992187e-01,\n",
       "       1.00000000e+00])"
      ]
     },
     "execution_count": 27,
     "metadata": {},
     "output_type": "execute_result"
    }
   ],
   "source": [
    "hist_data, bin_edges = np.histogram(population, bins=100, density=True)\n",
    "cdf_bins = np.cumsum(hist_data * np.diff(bin_edges))\n",
    "cdf_bins = np.insert(cdf_bins, 0, 0)\n",
    "cdf_bins"
   ]
  },
  {
   "cell_type": "code",
   "execution_count": 37,
   "metadata": {},
   "outputs": [],
   "source": [
    "def inverse_cdf(data, bins=100):\n",
    "    hist_data, bin_edges = np.histogram(data, bins=100, density=True)\n",
    "    cdf_bins = np.cumsum(hist_data * np.diff(bin_edges))\n",
    "    cdf_bins = np.insert(cdf_bins, 0, 0)\n",
    "    \n",
    "    inv_cdf = scipy.interpolate.interp1d(cdf_bins, bin_edges)\n",
    "    cdf = scipy.interpolate.interp1d(bin_edges, cdf_bins)\n",
    "    \n",
    "    return [cdf, inv_cdf]"
   ]
  },
  {
   "cell_type": "markdown",
   "metadata": {},
   "source": [
    "If you did it right, the cell below should use your function to create interpolations of the CDF and the inverse CDF."
   ]
  },
  {
   "cell_type": "code",
   "execution_count": 38,
   "metadata": {},
   "outputs": [],
   "source": [
    "[cdf, inv_cdf] = inverse_cdf(population, 100)"
   ]
  },
  {
   "cell_type": "code",
   "execution_count": 42,
   "metadata": {},
   "outputs": [
    {
     "data": {
      "text/plain": [
       "array([0.36232747, 0.36842044, 0.37497233])"
      ]
     },
     "execution_count": 42,
     "metadata": {},
     "output_type": "execute_result"
    }
   ],
   "source": [
    "x=[1,2,3]\n",
    "cdf(x)"
   ]
  },
  {
   "cell_type": "markdown",
   "metadata": {},
   "source": [
    "#### Now, plot the CDF using the next two cells\n",
    "\n",
    "You can modify them if you need too, but they should give you a place to start."
   ]
  },
  {
   "cell_type": "code",
   "execution_count": 40,
   "metadata": {},
   "outputs": [],
   "source": [
    "x = np.linspace(np.min(population), np.max(population), num=100)"
   ]
  },
  {
   "cell_type": "code",
   "execution_count": 33,
   "metadata": {},
   "outputs": [
    {
     "data": {
      "text/plain": [
       "[<matplotlib.lines.Line2D at 0x2e0094509e8>]"
      ]
     },
     "execution_count": 33,
     "metadata": {},
     "output_type": "execute_result"
    },
    {
     "data": {
      "image/png": "[encoded data removed]",
      "text/plain": [
       "<Figure size 432x288 with 1 Axes>"
      ]
     },
     "metadata": {
      "needs_background": "light"
     },
     "output_type": "display_data"
    }
   ],
   "source": [
    "plt.plot(x, cdf(x))"
   ]
  },
  {
   "cell_type": "markdown",
   "metadata": {},
   "source": [
    "#### Now, plot the inverse CDF using the next two cells\n",
    "\n",
    "You can modify them if you need too, but they should give you a place to start."
   ]
  },
  {
   "cell_type": "code",
   "execution_count": 98,
   "metadata": {},
   "outputs": [],
   "source": [
    "zero2one = np.linspace(0, .9999, num=100)"
   ]
  },
  {
   "cell_type": "code",
   "execution_count": 68,
   "metadata": {},
   "outputs": [
    {
     "data": {
      "text/plain": [
       "[<matplotlib.lines.Line2D at 0x2c307ee02e8>]"
      ]
     },
     "execution_count": 68,
     "metadata": {},
     "output_type": "execute_result"
    },
    {
     "data": {
      "image/png": "[encoded data removed]",
      "text/plain": [
       "<Figure size 432x288 with 1 Axes>"
      ]
     },
     "metadata": {
      "needs_background": "light"
     },
     "output_type": "display_data"
    }
   ],
   "source": [
    "plt.plot(zero2one, inv_cdf(zero2one))"
   ]
  },
  {
   "cell_type": "markdown",
   "metadata": {},
   "source": [
    "#### Cool!  Now you have taken your empirical distribution, computed a CDF and the inverse CDF.  Now you can sample from your inverse CDF to generate values from our empirical distribution.\n",
    "\n",
    "Let's do that with ``np.random.rand``.  Why are we using this random function?  What is special about how it works that makes it useful with the inverse CDF?\n"
   ]
  },
  {
   "cell_type": "markdown",
   "metadata": {},
   "source": []
  },
  {
   "cell_type": "markdown",
   "metadata": {},
   "source": [
    "OK, let's put this together with something like:\n",
    "```\n",
    "sample = inv_cdf(np.random.rand(1000))\n",
    "```"
   ]
  },
  {
   "cell_type": "code",
   "execution_count": 35,
   "metadata": {},
   "outputs": [],
   "source": [
    "sample = inv_cdf(np.random.rand(1000))"
   ]
  },
  {
   "cell_type": "markdown",
   "metadata": {},
   "source": [
    "Now make a histogram of sample and set the bins to 100.  How does it look?  What happens if you increase the argument to ``np.random.rand``?"
   ]
  },
  {
   "cell_type": "code",
   "execution_count": null,
   "metadata": {},
   "outputs": [],
   "source": []
  },
  {
   "cell_type": "code",
   "execution_count": 36,
   "metadata": {},
   "outputs": [
    {
     "data": {
      "text/plain": [
       "(0, 0.15)"
      ]
     },
     "execution_count": 36,
     "metadata": {},
     "output_type": "execute_result"
    },
    {
     "data": {
      "image/png": "[encoded data removed]",
      "text/plain": [
       "<Figure size 432x288 with 1 Axes>"
      ]
     },
     "metadata": {
      "needs_background": "light"
     },
     "output_type": "display_data"
    }
   ],
   "source": [
    "sample = inv_cdf(np.random.rand(1000))\n",
    "cdf_data = pd.DataFrame(data=sample, columns=['inv_cdf'])\n",
    "cdf_data.hist(bins=100, density=True)\n",
    "plt.xlim([-40, 60])\n",
    "plt.ylim([0, 0.15])"
   ]
  },
  {
   "cell_type": "code",
   "execution_count": 71,
   "metadata": {},
   "outputs": [
    {
     "data": {
      "text/plain": [
       "(0, 0.15)"
      ]
     },
     "execution_count": 71,
     "metadata": {},
     "output_type": "execute_result"
    },
    {
     "data": {
      "image/png": "[encoded data removed]",
      "text/plain": [
       "<Figure size 432x288 with 1 Axes>"
      ]
     },
     "metadata": {
      "needs_background": "light"
     },
     "output_type": "display_data"
    }
   ],
   "source": [
    "sample = inv_cdf(np.random.rand(100))\n",
    "cdf_data = pd.DataFrame(data=sample, columns=['inv_cdf'])\n",
    "cdf_data.hist(bins=100, density=True)\n",
    "plt.xlim([-40, 60])\n",
    "plt.ylim([0, 0.15])"
   ]
  },
  {
   "cell_type": "code",
   "execution_count": 72,
   "metadata": {},
   "outputs": [
    {
     "data": {
      "text/plain": [
       "(0, 0.15)"
      ]
     },
     "execution_count": 72,
     "metadata": {},
     "output_type": "execute_result"
    },
    {
     "data": {
      "image/png": "[encoded data removed]",
      "text/plain": [
       "<Figure size 432x288 with 1 Axes>"
      ]
     },
     "metadata": {
      "needs_background": "light"
     },
     "output_type": "display_data"
    }
   ],
   "source": [
    "sample = inv_cdf(np.random.rand(10000))\n",
    "cdf_data = pd.DataFrame(data=sample, columns=['inv_cdf'])\n",
    "cdf_data.hist(bins=100, density=True)\n",
    "plt.xlim([-40, 60])\n",
    "plt.ylim([0, 0.15])"
   ]
  },
  {
   "cell_type": "code",
   "execution_count": 73,
   "metadata": {},
   "outputs": [
    {
     "data": {
      "text/plain": [
       "(0, 0.15)"
      ]
     },
     "execution_count": 73,
     "metadata": {},
     "output_type": "execute_result"
    },
    {
     "data": {
      "image/png": "[encoded data removed]",
      "text/plain": [
       "<Figure size 432x288 with 1 Axes>"
      ]
     },
     "metadata": {
      "needs_background": "light"
     },
     "output_type": "display_data"
    }
   ],
   "source": [
    "sample = inv_cdf(np.random.rand(100000))\n",
    "cdf_data = pd.DataFrame(data=sample, columns=['inv_cdf'])\n",
    "cdf_data.hist(bins=100, density=True)\n",
    "plt.xlim([-40, 60])\n",
    "plt.ylim([0, 0.15])"
   ]
  },
  {
   "cell_type": "markdown",
   "metadata": {
    "collapsed": true
   },
   "source": [
    "In practice, you will use pre-existing tools for sampling from disitributions that are typical.  To see the complete set available in scipy, look [here](https://docs.scipy.org/doc/scipy/reference/stats.html)."
   ]
  },
  {
   "cell_type": "markdown",
   "metadata": {},
   "source": [
    "### That's it for today!  "
   ]
  },
  {
   "cell_type": "code",
   "execution_count": null,
   "metadata": {},
   "outputs": [],
   "source": []
  }
 ],
 "metadata": {
  "kernelspec": {
   "display_name": "Python 3",
   "language": "python",
   "name": "python3"
  },
  "language_info": {
   "codemirror_mode": {
    "name": "ipython",
    "version": 3
   },
   "file_extension": ".py",
   "mimetype": "text/x-python",
   "name": "python",
   "nbconvert_exporter": "python",
   "pygments_lexer": "ipython3",
   "version": "3.7.0"
  }
 },
 "nbformat": 4,
 "nbformat_minor": 1
}

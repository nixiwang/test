{
 "cells": [
  {
   "cell_type": "markdown",
   "metadata": {},
   "source": [
    "## If a cell begins with DNC: do not change it and leave the markdown there so I can expect a basic level of  organization that is common to all HW (will help me with grading). This also clearly delineates the sections for me"
   ]
  },
  {
   "cell_type": "markdown",
   "metadata": {},
   "source": [
    "## DNC: preamble leave any general comments here and, in keeping with good practice, I suggest you load all needed modules in the preamble"
   ]
  },
  {
   "cell_type": "markdown",
   "metadata": {},
   "source": [
    "## DNC: Begin Part 1: Descriptive Statistics "
   ]
  },
  {
   "cell_type": "code",
   "execution_count": 168,
   "metadata": {},
   "outputs": [],
   "source": [
    "import matplotlib.pyplot as plt\n",
    "import numpy as np\n",
    "import pandas as pd\n",
    "import scipy \n",
    "import scipy.stats\n",
    "import math\n",
    "import scipy.interpolate\n",
    "\n",
    "%matplotlib inline"
   ]
  },
  {
   "cell_type": "markdown",
   "metadata": {},
   "source": [
    "### Part 1: Problems for descriptive statistics \n",
    "\n",
    "#### 1-1: Understanding statistical calculations in python \n",
    "\n",
    "* Create a numpy array that has 10 uniform random numbers between 25.0 and 35.0, store it as a variable \n",
    "* Createa pandas dataframe with one frame based on your numpy array \n",
    "* Use \"np.std\" and \"pd.std\" formulas to calculate the standard deviation from both arrays, do not change any of the default arguments \n",
    "* The numbers should be different, explain why \n",
    "* Repeat the exercise with 1E6 uniform random numbers drawn from the same range \n",
    "* Comment on whether the numbers are different or not and explain why \n",
    "* Demonstrate that by using the proper function arguments you can obtain the same answer in both methods \n"
   ]
  },
  {
   "cell_type": "code",
   "execution_count": 11,
   "metadata": {},
   "outputs": [
    {
     "name": "stdout",
     "output_type": "stream",
     "text": [
      "0    2.674363\n",
      "dtype: float64\n",
      "0    2.819026\n",
      "dtype: float64\n"
     ]
    }
   ],
   "source": [
    "dat = np.random.rand(10)*10 + 25\n",
    "df = pd.DataFrame(dat)\n",
    "print(np.std(df))\n",
    "print(df.std())"
   ]
  },
  {
   "cell_type": "markdown",
   "metadata": {},
   "source": [
    "> Pandas uses the denominator as N-1, while Numpy does not. If setting ddof=1 to the numpy function, they become the same. Now we can confirm it as below. "
   ]
  },
  {
   "cell_type": "code",
   "execution_count": 14,
   "metadata": {},
   "outputs": [
    {
     "name": "stdout",
     "output_type": "stream",
     "text": [
      "0    3.37936\n",
      "dtype: float64\n",
      "0    3.37936\n",
      "dtype: float64\n"
     ]
    }
   ],
   "source": [
    "dat = np.random.rand(10)*10 + 25\n",
    "df = pd.DataFrame(dat)\n",
    "print(np.std(df, ddof=1))\n",
    "print(df.std())"
   ]
  },
  {
   "cell_type": "markdown",
   "metadata": {},
   "source": [
    "> Let's try for 1E6 numbers instead of 10 numbers. "
   ]
  },
  {
   "cell_type": "code",
   "execution_count": 13,
   "metadata": {},
   "outputs": [
    {
     "name": "stdout",
     "output_type": "stream",
     "text": [
      "0    2.889479\n",
      "dtype: float64\n",
      "0    2.88948\n",
      "dtype: float64\n"
     ]
    }
   ],
   "source": [
    "dat = np.random.rand(10**6)*10 + 25\n",
    "df = pd.DataFrame(dat)\n",
    "print(np.std(df))\n",
    "print(df.std())"
   ]
  },
  {
   "cell_type": "markdown",
   "metadata": {},
   "source": [
    "> As the number increases, the result from `numpy.std` converges to the value of unbiased estimator, the result of `pandas.std`. This is because the **law of large numbers (LLN)**, the average of the results from a large number of trials would be close to the expected value. "
   ]
  },
  {
   "cell_type": "code",
   "execution_count": 38,
   "metadata": {},
   "outputs": [
    {
     "name": "stdout",
     "output_type": "stream",
     "text": [
      "0    2.886902\n",
      "dtype: float64\n",
      "0    2.886903\n",
      "dtype: float64\n",
      "0    2.886903\n",
      "dtype: float64\n"
     ]
    }
   ],
   "source": [
    "dat = np.random.rand(10**6)*10 + 25\n",
    "df = pd.DataFrame(dat)\n",
    "print(np.std(df))\n",
    "print(df.std())"
   ]
  },
  {
   "cell_type": "markdown",
   "metadata": {},
   "source": [
    "> Now manually we can verify the result as below using the unbiased estimator `N-1` for the square root of the variance. "
   ]
  },
  {
   "cell_type": "code",
   "execution_count": 40,
   "metadata": {},
   "outputs": [
    {
     "data": {
      "text/plain": [
       "0    2.886903\n",
       "dtype: float64"
      ]
     },
     "execution_count": 40,
     "metadata": {},
     "output_type": "execute_result"
    }
   ],
   "source": [
    "np.sqrt(((df - df.mean())**2).sum()/(10**6-1))"
   ]
  },
  {
   "cell_type": "markdown",
   "metadata": {},
   "source": [
    "\n",
    "#### 1-2: Box plots \n",
    "\n",
    "* The data file GerberdingElectricityChilledWater.csv shows chilled water (energy) and electricity usage for Gerberding Hall over approximately an 18 month period from Jan 2013 to June 2014.  \n",
    "* **Note: these are real data! If you make any executive decisions (e.g., remove some points for very specific reasons), clearly explain your decision and motivation for doing so** \n",
    "\n",
    "* Load the data into Python (your choice of method) and prepare a box plot summary of the data. \n",
    "* Present the plot in the nicest possible format (e.g., improve it from the default and prepare it for publication or presentation format) - this is open ended and you can use your judgement \n",
    "* Explain in your own words what each part on the box plot means"
   ]
  },
  {
   "cell_type": "code",
   "execution_count": 44,
   "metadata": {},
   "outputs": [
    {
     "data": {
      "text/html": [
       "<div>\n",
       "<style scoped>\n",
       "    .dataframe tbody tr th:only-of-type {\n",
       "        vertical-align: middle;\n",
       "    }\n",
       "\n",
       "    .dataframe tbody tr th {\n",
       "        vertical-align: top;\n",
       "    }\n",
       "\n",
       "    .dataframe thead th {\n",
       "        text-align: right;\n",
       "    }\n",
       "</style>\n",
       "<table border=\"1\" class=\"dataframe\">\n",
       "  <thead>\n",
       "    <tr style=\"text-align: right;\">\n",
       "      <th></th>\n",
       "      <th>DateTime</th>\n",
       "      <th>Btu</th>\n",
       "      <th>kWh</th>\n",
       "    </tr>\n",
       "  </thead>\n",
       "  <tbody>\n",
       "    <tr>\n",
       "      <th>0</th>\n",
       "      <td>1/1/13 0:15</td>\n",
       "      <td>49664.0</td>\n",
       "      <td>19.69</td>\n",
       "    </tr>\n",
       "    <tr>\n",
       "      <th>1</th>\n",
       "      <td>1/1/13 0:30</td>\n",
       "      <td>90112.0</td>\n",
       "      <td>20.84</td>\n",
       "    </tr>\n",
       "    <tr>\n",
       "      <th>2</th>\n",
       "      <td>1/1/13 0:45</td>\n",
       "      <td>19968.0</td>\n",
       "      <td>17.42</td>\n",
       "    </tr>\n",
       "    <tr>\n",
       "      <th>3</th>\n",
       "      <td>1/1/13 1:00</td>\n",
       "      <td>50176.0</td>\n",
       "      <td>19.59</td>\n",
       "    </tr>\n",
       "    <tr>\n",
       "      <th>4</th>\n",
       "      <td>1/1/13 1:15</td>\n",
       "      <td>99840.0</td>\n",
       "      <td>20.46</td>\n",
       "    </tr>\n",
       "  </tbody>\n",
       "</table>\n",
       "</div>"
      ],
      "text/plain": [
       "      DateTime      Btu    kWh\n",
       "0  1/1/13 0:15  49664.0  19.69\n",
       "1  1/1/13 0:30  90112.0  20.84\n",
       "2  1/1/13 0:45  19968.0  17.42\n",
       "3  1/1/13 1:00  50176.0  19.59\n",
       "4  1/1/13 1:15  99840.0  20.46"
      ]
     },
     "execution_count": 44,
     "metadata": {},
     "output_type": "execute_result"
    }
   ],
   "source": [
    "d1 = pd.read_csv('GerberdingElectricityChilledWater.csv')\n",
    "d1.head()"
   ]
  },
  {
   "cell_type": "code",
   "execution_count": 47,
   "metadata": {},
   "outputs": [
    {
     "data": {
      "text/html": [
       "<div>\n",
       "<style scoped>\n",
       "    .dataframe tbody tr th:only-of-type {\n",
       "        vertical-align: middle;\n",
       "    }\n",
       "\n",
       "    .dataframe tbody tr th {\n",
       "        vertical-align: top;\n",
       "    }\n",
       "\n",
       "    .dataframe thead th {\n",
       "        text-align: right;\n",
       "    }\n",
       "</style>\n",
       "<table border=\"1\" class=\"dataframe\">\n",
       "  <thead>\n",
       "    <tr style=\"text-align: right;\">\n",
       "      <th></th>\n",
       "      <th>Btu</th>\n",
       "      <th>kWh</th>\n",
       "    </tr>\n",
       "  </thead>\n",
       "  <tbody>\n",
       "    <tr>\n",
       "      <th>count</th>\n",
       "      <td>4.999800e+04</td>\n",
       "      <td>49998.000000</td>\n",
       "    </tr>\n",
       "    <tr>\n",
       "      <th>mean</th>\n",
       "      <td>6.142801e+04</td>\n",
       "      <td>18.673828</td>\n",
       "    </tr>\n",
       "    <tr>\n",
       "      <th>std</th>\n",
       "      <td>3.378179e+04</td>\n",
       "      <td>14.736762</td>\n",
       "    </tr>\n",
       "    <tr>\n",
       "      <th>min</th>\n",
       "      <td>0.000000e+00</td>\n",
       "      <td>-71.682969</td>\n",
       "    </tr>\n",
       "    <tr>\n",
       "      <th>25%</th>\n",
       "      <td>3.993600e+04</td>\n",
       "      <td>15.900000</td>\n",
       "    </tr>\n",
       "    <tr>\n",
       "      <th>50%</th>\n",
       "      <td>5.017600e+04</td>\n",
       "      <td>18.080000</td>\n",
       "    </tr>\n",
       "    <tr>\n",
       "      <th>75%</th>\n",
       "      <td>7.987200e+04</td>\n",
       "      <td>26.117500</td>\n",
       "    </tr>\n",
       "    <tr>\n",
       "      <th>max</th>\n",
       "      <td>2.070016e+06</td>\n",
       "      <td>51.010000</td>\n",
       "    </tr>\n",
       "  </tbody>\n",
       "</table>\n",
       "</div>"
      ],
      "text/plain": [
       "                Btu           kWh\n",
       "count  4.999800e+04  49998.000000\n",
       "mean   6.142801e+04     18.673828\n",
       "std    3.378179e+04     14.736762\n",
       "min    0.000000e+00    -71.682969\n",
       "25%    3.993600e+04     15.900000\n",
       "50%    5.017600e+04     18.080000\n",
       "75%    7.987200e+04     26.117500\n",
       "max    2.070016e+06     51.010000"
      ]
     },
     "execution_count": 47,
     "metadata": {},
     "output_type": "execute_result"
    },
    {
     "data": {
      "image/png": "[encoded data removed]",
      "text/plain": [
       "<Figure size 432x288 with 2 Axes>"
      ]
     },
     "metadata": {
      "needs_background": "light"
     },
     "output_type": "display_data"
    }
   ],
   "source": [
    "d1.hist()\n",
    "d1.describe()"
   ]
  },
  {
   "cell_type": "markdown",
   "metadata": {},
   "source": [
    "> Now we can see there are some outliers which don't make sense in the real world (e.g., energy consumption couldn't be negative unless otherwise it generates electricity). Let's remove those outliers from the data. "
   ]
  },
  {
   "cell_type": "code",
   "execution_count": 57,
   "metadata": {},
   "outputs": [
    {
     "data": {
      "text/html": [
       "<div>\n",
       "<style scoped>\n",
       "    .dataframe tbody tr th:only-of-type {\n",
       "        vertical-align: middle;\n",
       "    }\n",
       "\n",
       "    .dataframe tbody tr th {\n",
       "        vertical-align: top;\n",
       "    }\n",
       "\n",
       "    .dataframe thead th {\n",
       "        text-align: right;\n",
       "    }\n",
       "</style>\n",
       "<table border=\"1\" class=\"dataframe\">\n",
       "  <thead>\n",
       "    <tr style=\"text-align: right;\">\n",
       "      <th></th>\n",
       "      <th>Btu</th>\n",
       "      <th>kWh</th>\n",
       "    </tr>\n",
       "  </thead>\n",
       "  <tbody>\n",
       "    <tr>\n",
       "      <th>count</th>\n",
       "      <td>42966.000000</td>\n",
       "      <td>42966.000000</td>\n",
       "    </tr>\n",
       "    <tr>\n",
       "      <th>mean</th>\n",
       "      <td>52496.660828</td>\n",
       "      <td>19.975075</td>\n",
       "    </tr>\n",
       "    <tr>\n",
       "      <th>std</th>\n",
       "      <td>21737.208541</td>\n",
       "      <td>5.984937</td>\n",
       "    </tr>\n",
       "    <tr>\n",
       "      <th>min</th>\n",
       "      <td>0.000000</td>\n",
       "      <td>0.000000</td>\n",
       "    </tr>\n",
       "    <tr>\n",
       "      <th>25%</th>\n",
       "      <td>39936.000000</td>\n",
       "      <td>15.810000</td>\n",
       "    </tr>\n",
       "    <tr>\n",
       "      <th>50%</th>\n",
       "      <td>50176.000000</td>\n",
       "      <td>17.780000</td>\n",
       "    </tr>\n",
       "    <tr>\n",
       "      <th>75%</th>\n",
       "      <td>69632.000000</td>\n",
       "      <td>23.147500</td>\n",
       "    </tr>\n",
       "    <tr>\n",
       "      <th>max</th>\n",
       "      <td>99840.000000</td>\n",
       "      <td>51.010000</td>\n",
       "    </tr>\n",
       "  </tbody>\n",
       "</table>\n",
       "</div>"
      ],
      "text/plain": [
       "                Btu           kWh\n",
       "count  42966.000000  42966.000000\n",
       "mean   52496.660828     19.975075\n",
       "std    21737.208541      5.984937\n",
       "min        0.000000      0.000000\n",
       "25%    39936.000000     15.810000\n",
       "50%    50176.000000     17.780000\n",
       "75%    69632.000000     23.147500\n",
       "max    99840.000000     51.010000"
      ]
     },
     "execution_count": 57,
     "metadata": {},
     "output_type": "execute_result"
    },
    {
     "data": {
      "image/png": "[encoded data removed]",
      "text/plain": [
       "<Figure size 432x288 with 2 Axes>"
      ]
     },
     "metadata": {
      "needs_background": "light"
     },
     "output_type": "display_data"
    }
   ],
   "source": [
    "d1 = d1[d1['kWh'] >= 0]\n",
    "d1 = d1[d1['Btu'] < 10**5]\n",
    "d1.hist()\n",
    "d1.describe()"
   ]
  },
  {
   "cell_type": "code",
   "execution_count": 130,
   "metadata": {},
   "outputs": [
    {
     "data": {
      "image/png": "[encoded data removed]",
      "text/plain": [
       "<Figure size 720x432 with 2 Axes>"
      ]
     },
     "metadata": {
      "needs_background": "light"
     },
     "output_type": "display_data"
    }
   ],
   "source": [
    "fig, axes = plt.subplots(nrows=1, ncols=2, figsize=(10, 6))\n",
    "\n",
    "d1['Btu'].plot(ax=axes[0], kind='box')\n",
    "d1['kWh'].plot(ax=axes[1], kind='box')\n",
    "axes[0].set_title('Chilled water (energy) in Btu', )\n",
    "axes[1].set_title('Electricity in kWh')\n",
    "plt.show()"
   ]
  },
  {
   "cell_type": "markdown",
   "metadata": {},
   "source": [
    "> Interquartile range (IQR) is the difference between Q3 or 75% and Q1 or 25% that represents the box in the middle. Whiskers are the line extensions for each bottom and top side of 1.5 times of IQR. Those points exceeding the end of both whiskers could be considered to be outliers. We can confirm the data of electricity comparatively has a lower variance while having more outliers. "
   ]
  },
  {
   "cell_type": "markdown",
   "metadata": {},
   "source": [
    "## DNC: Begin Part 2"
   ]
  },
  {
   "cell_type": "markdown",
   "metadata": {},
   "source": [
    "### Part 2: Distributions \n",
    "\n",
    "* Your goal is to prepare a side-by-side plot describing the distribution of data from part 1 related to Gerberding Hall.\n",
    "\n",
    "1) To complete the plot you should assume the data are normally distributed and determine the mean and standard deviation of the chilled water data series.  \n",
    "\n",
    "2) The left panel of the plot should be a normalized histogram of the chilled water data with an **overlay** of the PDF of the normal distribution based on the $\\bar x$ and $s$ values from the data series.  The right panel of the plot should be contain two lines corresponding to the measured CDF and CDF from the normal distribution estimated from the data. \n",
    "\n",
    "3) Repeat (2) for the electricity water \n",
    "\n",
    "4) Comment in a Markdown cell on the ability of a normal distribution to describe this data \n"
   ]
  },
  {
   "cell_type": "markdown",
   "metadata": {},
   "source": [
    "> Let's make a function to plot the four different graphs. "
   ]
  },
  {
   "cell_type": "code",
   "execution_count": 275,
   "metadata": {},
   "outputs": [],
   "source": [
    "def normal_p(x, mu, sigma):\n",
    "    coef = math.pow(2*math.pi*math.pow(sigma, 2), -0.5)\n",
    "    probability = coef*math.exp(-math.pow(x-mu, 2)/(2*math.pow(sigma, 2)))\n",
    "    return probability\n",
    "\n",
    "\n",
    "def dra_plt(dat):\n",
    "\n",
    "    y1 = [normal_p(x, dat.mean(), dat.std()) for x in np.linspace(min(dat), max(dat), 100)]\n",
    "\n",
    "    hist_data, bin_edges = np.histogram(dat, bins=100, density=True)\n",
    "    cdf_bins = np.cumsum(hist_data * np.diff(bin_edges))\n",
    "    cdf_bins = np.insert(cdf_bins, 0, 0)\n",
    "    cdf = scipy.interpolate.interp1d(bin_edges, cdf_bins)\n",
    "\n",
    "    fig, axes = plt.subplots(nrows=1, ncols=2, figsize=(10, 6))\n",
    "\n",
    "    x = np.linspace(min(dat), max(dat), 100)\n",
    "    y_cdf = scipy.stats.norm.cdf(x, dat.mean(), dat.std()) \n",
    "\n",
    "    axes[0].hist(dat, bins = 10, normed=True,label='histogram')\n",
    "    axes[0].plot(x, y1,label='normal pdf')\n",
    "    axes[0].legend()\n",
    "\n",
    "    axes[1].plot(x, cdf(x),label='cdf from the histogram')\n",
    "    axes[1].plot(x, y_cdf,label='cdf from the normal distribution')\n",
    "    axes[1].legend()"
   ]
  },
  {
   "cell_type": "markdown",
   "metadata": {},
   "source": [
    "> Although the data, water energy in Btu is not smooth, it shows a little bit of normality trend as verified in the below graphs of `histogram`, `normal pdf`, `cdf from the histogram`, and `cdf from the normal pdf`. "
   ]
  },
  {
   "cell_type": "code",
   "execution_count": 276,
   "metadata": {},
   "outputs": [
    {
     "name": "stderr",
     "output_type": "stream",
     "text": [
      "C:\\Users\\Yohan_Min\\Anaconda3\\lib\\site-packages\\matplotlib\\axes\\_axes.py:6521: MatplotlibDeprecationWarning: \n",
      "The 'normed' kwarg was deprecated in Matplotlib 2.1 and will be removed in 3.1. Use 'density' instead.\n",
      "  alternative=\"'density'\", removal=\"3.1\")\n"
     ]
    },
    {
     "data": {
      "image/png": "[encoded data removed]",
      "text/plain": [
       "<Figure size 720x432 with 2 Axes>"
      ]
     },
     "metadata": {
      "needs_background": "light"
     },
     "output_type": "display_data"
    }
   ],
   "source": [
    "dra_plt(d1['Btu'])"
   ]
  },
  {
   "cell_type": "markdown",
   "metadata": {},
   "source": [
    "> On the other hand, the other data, electricity consumption in kWh, shows a bit variable trend in terms of interval as indicated in the two graphs below. It may explain why this data has more `outliers` which may distort the line of `CDF` compared to the `normal CDF`. "
   ]
  },
  {
   "cell_type": "code",
   "execution_count": 277,
   "metadata": {},
   "outputs": [
    {
     "name": "stderr",
     "output_type": "stream",
     "text": [
      "C:\\Users\\Yohan_Min\\Anaconda3\\lib\\site-packages\\matplotlib\\axes\\_axes.py:6521: MatplotlibDeprecationWarning: \n",
      "The 'normed' kwarg was deprecated in Matplotlib 2.1 and will be removed in 3.1. Use 'density' instead.\n",
      "  alternative=\"'density'\", removal=\"3.1\")\n"
     ]
    },
    {
     "data": {
      "image/png": "[encoded data removed]",
      "text/plain": [
       "<Figure size 720x432 with 2 Axes>"
      ]
     },
     "metadata": {
      "needs_background": "light"
     },
     "output_type": "display_data"
    }
   ],
   "source": [
    "dra_plt(d1['kWh'])"
   ]
  },
  {
   "cell_type": "markdown",
   "metadata": {
    "collapsed": true
   },
   "source": [
    "## DNC: Begin Part 3"
   ]
  },
  {
   "cell_type": "markdown",
   "metadata": {},
   "source": [
    "### Part 3: Hypothesis testing \n",
    "\n",
    "The file energyuse.csv contains energy use data for 6 UW students. The data include electricity for lighting, all other electricity use and total electricity use. The final entry in the data file is the national average of the same values. \n",
    "\n",
    "Please do the following\n",
    "\n",
    "1) Formulate a statistical hypothesis to test about the three data sets and clearly state it  \n",
    "2) Perform a test a significance level of P=0.05 (_make sure to clearly comment your work so I can follow what you are doing_)  \n",
    "3) Clearly state the meaning of the results in plain language "
   ]
  },
  {
   "cell_type": "markdown",
   "metadata": {},
   "source": [
    "> Let's take a look at the data with the summary table."
   ]
  },
  {
   "cell_type": "code",
   "execution_count": 252,
   "metadata": {},
   "outputs": [
    {
     "name": "stdout",
     "output_type": "stream",
     "text": [
      "Group          National Avg\n",
      "Lighting               1.76\n",
      "Electricity            1.28\n",
      "Total                  3.04\n",
      "Name: 6, dtype: object\n"
     ]
    },
    {
     "data": {
      "text/html": [
       "<div>\n",
       "<style scoped>\n",
       "    .dataframe tbody tr th:only-of-type {\n",
       "        vertical-align: middle;\n",
       "    }\n",
       "\n",
       "    .dataframe tbody tr th {\n",
       "        vertical-align: top;\n",
       "    }\n",
       "\n",
       "    .dataframe thead th {\n",
       "        text-align: right;\n",
       "    }\n",
       "</style>\n",
       "<table border=\"1\" class=\"dataframe\">\n",
       "  <thead>\n",
       "    <tr style=\"text-align: right;\">\n",
       "      <th></th>\n",
       "      <th>Lighting</th>\n",
       "      <th>Electricity</th>\n",
       "      <th>Total</th>\n",
       "    </tr>\n",
       "  </thead>\n",
       "  <tbody>\n",
       "    <tr>\n",
       "      <th>count</th>\n",
       "      <td>6.000000</td>\n",
       "      <td>6.000000</td>\n",
       "      <td>6.000000</td>\n",
       "    </tr>\n",
       "    <tr>\n",
       "      <th>mean</th>\n",
       "      <td>1.086667</td>\n",
       "      <td>1.276667</td>\n",
       "      <td>2.363333</td>\n",
       "    </tr>\n",
       "    <tr>\n",
       "      <th>std</th>\n",
       "      <td>0.746522</td>\n",
       "      <td>0.492119</td>\n",
       "      <td>0.487082</td>\n",
       "    </tr>\n",
       "    <tr>\n",
       "      <th>min</th>\n",
       "      <td>0.410000</td>\n",
       "      <td>0.634000</td>\n",
       "      <td>1.721000</td>\n",
       "    </tr>\n",
       "    <tr>\n",
       "      <th>25%</th>\n",
       "      <td>0.515250</td>\n",
       "      <td>0.861250</td>\n",
       "      <td>2.088750</td>\n",
       "    </tr>\n",
       "    <tr>\n",
       "      <th>50%</th>\n",
       "      <td>0.870500</td>\n",
       "      <td>1.449500</td>\n",
       "      <td>2.288000</td>\n",
       "    </tr>\n",
       "    <tr>\n",
       "      <th>75%</th>\n",
       "      <td>1.459000</td>\n",
       "      <td>1.632000</td>\n",
       "      <td>2.686000</td>\n",
       "    </tr>\n",
       "    <tr>\n",
       "      <th>max</th>\n",
       "      <td>2.317000</td>\n",
       "      <td>1.769000</td>\n",
       "      <td>3.042000</td>\n",
       "    </tr>\n",
       "  </tbody>\n",
       "</table>\n",
       "</div>"
      ],
      "text/plain": [
       "       Lighting  Electricity     Total\n",
       "count  6.000000     6.000000  6.000000\n",
       "mean   1.086667     1.276667  2.363333\n",
       "std    0.746522     0.492119  0.487082\n",
       "min    0.410000     0.634000  1.721000\n",
       "25%    0.515250     0.861250  2.088750\n",
       "50%    0.870500     1.449500  2.288000\n",
       "75%    1.459000     1.632000  2.686000\n",
       "max    2.317000     1.769000  3.042000"
      ]
     },
     "execution_count": 252,
     "metadata": {},
     "output_type": "execute_result"
    }
   ],
   "source": [
    "d2 = pd.read_csv('energyuse.csv')\n",
    "d2.iloc[:,0:4]\n",
    "print(d2.iloc[6,:])\n",
    "d3 = d2.iloc[:6,:]\n",
    "d3.describe()"
   ]
  },
  {
   "cell_type": "markdown",
   "metadata": {},
   "source": [
    "> First, let's see these three groups (`lighting`, `electricity`, and `total`) are different from their repective national averages by `t-test` with the degree of freedome, `5`. Let's see the significance level of P=0.05 to distinguish if the group is significantly different from the national average. "
   ]
  },
  {
   "cell_type": "code",
   "execution_count": 239,
   "metadata": {},
   "outputs": [
    {
     "name": "stdout",
     "output_type": "stream",
     "text": [
      "0.08057948993769382\n",
      "0.9871204249316541\n",
      "0.02427050341769103\n"
     ]
    }
   ],
   "source": [
    "for i in range(3):\n",
    "    [t, p] = scipy.stats.ttest_1samp(d2.iloc[:,i+1], d2.iloc[6,i+1])\n",
    "    print(p)"
   ]
  },
  {
   "cell_type": "markdown",
   "metadata": {},
   "source": [
    "> It turns out `lighting` and `electricity` are considered to have the same population parameter with the national average while `total` is significantly different from the national average with `0.05 p-value`. Let's conclude with the 0.05 significant level, the `total` group is different from the national average. \n",
    "\n",
    "> Now let's compare the two groups `lighting` and `electricity` if they are from the same mean parameter assuming they are indipendent groups (i.e., they are `not paired`). The test shows they are not significantly different each other in terms of mean."
   ]
  },
  {
   "cell_type": "code",
   "execution_count": 257,
   "metadata": {},
   "outputs": [
    {
     "name": "stdout",
     "output_type": "stream",
     "text": [
      "0.6140388776564885\n"
     ]
    }
   ],
   "source": [
    "[t, p] = scipy.stats.ttest_ind(d3.iloc[:,1], d3.iloc[:,2])\n",
    "print(p)"
   ]
  },
  {
   "cell_type": "markdown",
   "metadata": {},
   "source": [
    "> But as we know, the two groups are in fact, from the same persons. Let's now try the `paired t-test` to see if the difference between the conditions (i.e., `lighting` and `electricity`) are significantly different from `zero` with the significance level of 0.05. Below with the 0.706 shows that they are not significantly different from `zero` meaning that there is no difference. "
   ]
  },
  {
   "cell_type": "code",
   "execution_count": 258,
   "metadata": {},
   "outputs": [
    {
     "name": "stdout",
     "output_type": "stream",
     "text": [
      "0.7064506323218149\n"
     ]
    }
   ],
   "source": [
    "[t, p] = scipy.stats.ttest_rel(d3.iloc[:,1], d3.iloc[:,2])\n",
    "print(p)"
   ]
  },
  {
   "cell_type": "code",
   "execution_count": null,
   "metadata": {},
   "outputs": [],
   "source": []
  }
 ],
 "metadata": {
  "anaconda-cloud": {},
  "kernelspec": {
   "display_name": "Python 3",
   "language": "python",
   "name": "python3"
  },
  "language_info": {
   "codemirror_mode": {
    "name": "ipython",
    "version": 3
   },
   "file_extension": ".py",
   "mimetype": "text/x-python",
   "name": "python",
   "nbconvert_exporter": "python",
   "pygments_lexer": "ipython3",
   "version": "3.7.0"
  }
 },
 "nbformat": 4,
 "nbformat_minor": 1
}

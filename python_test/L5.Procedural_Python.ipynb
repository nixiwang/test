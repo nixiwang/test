{
 "cells": [
  {
   "cell_type": "markdown",
   "metadata": {},
   "source": [
    "# Procedural programming in python\n",
    "\n",
    "## Topics\n",
    "* Tuples, lists and dictionaries\n",
    "* Flow control, part 1\n",
    " * If\n",
    " * For\n",
    "   * range() function\n",
    "* Some hacky hack time\n",
    "* Flow control, part 2\n",
    " * Functions"
   ]
  },
  {
   "cell_type": "markdown",
   "metadata": {},
   "source": [
    "<hr>"
   ]
  },
  {
   "cell_type": "markdown",
   "metadata": {},
   "source": [
    "### Tuples\n",
    "\n",
    "Let's begin by creating a tuple called `my_tuple` that contains three elements."
   ]
  },
  {
   "cell_type": "code",
   "execution_count": 119,
   "metadata": {},
   "outputs": [
    {
     "data": {
      "text/plain": [
       "('I', 'like', 'cake')"
      ]
     },
     "execution_count": 119,
     "metadata": {},
     "output_type": "execute_result"
    }
   ],
   "source": [
    "my_tuple = ('I', 'like', 'cake')\n",
    "my_tuple"
   ]
  },
  {
   "cell_type": "markdown",
   "metadata": {},
   "source": [
    "Tuples are simple containers for data.  They are ordered, meaining the order the elements are in when the tuple is created are preserved.  We can get values from our tuple by using array indexing, similar to what we were doing with pandas."
   ]
  },
  {
   "cell_type": "code",
   "execution_count": 120,
   "metadata": {},
   "outputs": [
    {
     "data": {
      "text/plain": [
       "'I'"
      ]
     },
     "execution_count": 120,
     "metadata": {},
     "output_type": "execute_result"
    }
   ],
   "source": [
    "my_tuple[0]"
   ]
  },
  {
   "cell_type": "markdown",
   "metadata": {},
   "source": [
    "Recall that Python indexes start at 0.  So the first element in a tuple is 0 and the last is array length - 1.  You can also address from the `end` to the `front` by using negative (`-`) indexes, e.g."
   ]
  },
  {
   "cell_type": "code",
   "execution_count": 121,
   "metadata": {},
   "outputs": [
    {
     "data": {
      "text/plain": [
       "'cake'"
      ]
     },
     "execution_count": 121,
     "metadata": {},
     "output_type": "execute_result"
    }
   ],
   "source": [
    "my_tuple[-1]"
   ]
  },
  {
   "cell_type": "markdown",
   "metadata": {},
   "source": [
    "You can also access a range of elements, e.g. the first two, the first three, by using the `:` to expand a range.  This is called ``slicing``."
   ]
  },
  {
   "cell_type": "code",
   "execution_count": 6,
   "metadata": {},
   "outputs": [
    {
     "data": {
      "text/plain": [
       "('I', 'like')"
      ]
     },
     "execution_count": 6,
     "metadata": {},
     "output_type": "execute_result"
    }
   ],
   "source": [
    "my_tuple[0:2]"
   ]
  },
  {
   "cell_type": "code",
   "execution_count": 7,
   "metadata": {},
   "outputs": [
    {
     "data": {
      "text/plain": [
       "('I', 'like', 'cake')"
      ]
     },
     "execution_count": 7,
     "metadata": {},
     "output_type": "execute_result"
    }
   ],
   "source": [
    "my_tuple[0:3]"
   ]
  },
  {
   "cell_type": "markdown",
   "metadata": {},
   "source": [
    "What do you notice about how the upper bound is referenced?"
   ]
  },
  {
   "cell_type": "markdown",
   "metadata": {},
   "source": []
  },
  {
   "cell_type": "markdown",
   "metadata": {},
   "source": [
    "Without either end, the ``:`` expands to the entire list."
   ]
  },
  {
   "cell_type": "code",
   "execution_count": 8,
   "metadata": {},
   "outputs": [
    {
     "data": {
      "text/plain": [
       "('like', 'cake')"
      ]
     },
     "execution_count": 8,
     "metadata": {},
     "output_type": "execute_result"
    }
   ],
   "source": [
    "my_tuple[1:]"
   ]
  },
  {
   "cell_type": "code",
   "execution_count": 9,
   "metadata": {},
   "outputs": [
    {
     "data": {
      "text/plain": [
       "('I', 'like')"
      ]
     },
     "execution_count": 9,
     "metadata": {},
     "output_type": "execute_result"
    }
   ],
   "source": [
    "my_tuple[:-1]"
   ]
  },
  {
   "cell_type": "code",
   "execution_count": 10,
   "metadata": {},
   "outputs": [
    {
     "data": {
      "text/plain": [
       "('I', 'like', 'cake')"
      ]
     },
     "execution_count": 10,
     "metadata": {},
     "output_type": "execute_result"
    }
   ],
   "source": [
    "my_tuple[:]"
   ]
  },
  {
   "cell_type": "markdown",
   "metadata": {},
   "source": [
    "Tuples have a key feature that distinguishes them from other types of object containers in Python.  They are _immutable_.  This means that once the values are set, they cannot change."
   ]
  },
  {
   "cell_type": "code",
   "execution_count": 11,
   "metadata": {},
   "outputs": [
    {
     "data": {
      "text/plain": [
       "'cake'"
      ]
     },
     "execution_count": 11,
     "metadata": {},
     "output_type": "execute_result"
    }
   ],
   "source": [
    "my_tuple[2]"
   ]
  },
  {
   "cell_type": "markdown",
   "metadata": {},
   "source": [
    "So what happens if I decide that I really prefer pie over cake?"
   ]
  },
  {
   "cell_type": "code",
   "execution_count": 13,
   "metadata": {},
   "outputs": [],
   "source": [
    "# my_tuple[2] = 'pie'"
   ]
  },
  {
   "cell_type": "markdown",
   "metadata": {},
   "source": [
    "Facts about tuples:\n",
    "* You can't add elements to a tuple. Tuples have no append or extend method.\n",
    "* You can't remove elements from a tuple. Tuples have no remove or pop method.\n",
    "* You can also use the in operator to check if an element exists in the tuple.\n",
    "\n",
    "So then, what are the use cases of tuples?  \n",
    "* Speed\n",
    "* `Write-protects` data that other pieces of code should not alter"
   ]
  },
  {
   "cell_type": "markdown",
   "metadata": {},
   "source": [
    "You can alter the value of a tuple variable, e.g. change the tuple it holds, but you can't modify it."
   ]
  },
  {
   "cell_type": "code",
   "execution_count": 14,
   "metadata": {},
   "outputs": [
    {
     "data": {
      "text/plain": [
       "('I', 'like', 'cake')"
      ]
     },
     "execution_count": 14,
     "metadata": {},
     "output_type": "execute_result"
    }
   ],
   "source": [
    "my_tuple"
   ]
  },
  {
   "cell_type": "code",
   "execution_count": 15,
   "metadata": {},
   "outputs": [
    {
     "data": {
      "text/plain": [
       "('I', 'love', 'pie')"
      ]
     },
     "execution_count": 15,
     "metadata": {},
     "output_type": "execute_result"
    }
   ],
   "source": [
    "my_tuple = ('I', 'love', 'pie')\n",
    "my_tuple"
   ]
  },
  {
   "cell_type": "markdown",
   "metadata": {},
   "source": [
    "There is a really handy operator ``in`` that can be used with tuples that will return `True` if an element is present in a tuple and `False` otherwise."
   ]
  },
  {
   "cell_type": "code",
   "execution_count": 16,
   "metadata": {},
   "outputs": [
    {
     "data": {
      "text/plain": [
       "True"
      ]
     },
     "execution_count": 16,
     "metadata": {},
     "output_type": "execute_result"
    }
   ],
   "source": [
    "'love' in my_tuple"
   ]
  },
  {
   "cell_type": "markdown",
   "metadata": {},
   "source": [
    "Finally, tuples can contain different types of data, not just strings."
   ]
  },
  {
   "cell_type": "code",
   "execution_count": 125,
   "metadata": {},
   "outputs": [
    {
     "data": {
      "text/plain": [
       "(42, 'Elephants', 'ate', 3.141592653589793)"
      ]
     },
     "execution_count": 125,
     "metadata": {},
     "output_type": "execute_result"
    }
   ],
   "source": [
    "import math\n",
    "my_second_tuple = (42, 'Elephants', 'ate', math.pi)\n",
    "my_second_tuple"
   ]
  },
  {
   "cell_type": "markdown",
   "metadata": {},
   "source": [
    "Numerical operators work... Sort of.  What happens when you add? \n",
    "\n",
    "``my_second_tuple + 'plus'``"
   ]
  },
  {
   "cell_type": "code",
   "execution_count": 126,
   "metadata": {},
   "outputs": [
    {
     "data": {
      "text/plain": [
       "((42, 'Elephants', 'ate', 3.141592653589793), ('I', 'like', 'cake'))"
      ]
     },
     "execution_count": 126,
     "metadata": {},
     "output_type": "execute_result"
    }
   ],
   "source": [
    "third = (my_second_tuple, my_tuple)\n",
    "third"
   ]
  },
  {
   "cell_type": "code",
   "execution_count": null,
   "metadata": {},
   "outputs": [],
   "source": [
    "a = [1,2,3]\n",
    "b = [4,5,6]\n",
    "c = [a, b]\n",
    "c"
   ]
  },
  {
   "cell_type": "code",
   "execution_count": 128,
   "metadata": {},
   "outputs": [
    {
     "data": {
      "text/plain": [
       "[1, 2, 3, 4, 5, 6]"
      ]
     },
     "execution_count": 128,
     "metadata": {},
     "output_type": "execute_result"
    }
   ],
   "source": [
    "a + b"
   ]
  },
  {
   "cell_type": "markdown",
   "metadata": {},
   "source": [
    "Not what you expects?  What about adding two tuples?"
   ]
  },
  {
   "cell_type": "code",
   "execution_count": 129,
   "metadata": {},
   "outputs": [
    {
     "data": {
      "text/plain": [
       "(42, 'Elephants', 'ate', 3.141592653589793, 'I', 'like', 'cake')"
      ]
     },
     "execution_count": 129,
     "metadata": {},
     "output_type": "execute_result"
    }
   ],
   "source": [
    "my_second_tuple + my_tuple"
   ]
  },
  {
   "cell_type": "code",
   "execution_count": 130,
   "metadata": {},
   "outputs": [
    {
     "data": {
      "text/plain": [
       "[1, 2, 3, 4]"
      ]
     },
     "execution_count": 130,
     "metadata": {},
     "output_type": "execute_result"
    }
   ],
   "source": [
    "[1,2,3] + [4]"
   ]
  },
  {
   "cell_type": "code",
   "execution_count": 131,
   "metadata": {},
   "outputs": [
    {
     "data": {
      "text/plain": [
       "(1, 2, 3, 1, 2)"
      ]
     },
     "execution_count": 131,
     "metadata": {},
     "output_type": "execute_result"
    }
   ],
   "source": [
    "(1,2,3) + (1,2)"
   ]
  },
  {
   "cell_type": "code",
   "execution_count": 136,
   "metadata": {},
   "outputs": [
    {
     "data": {
      "text/plain": [
       "(42,\n",
       " 'Elephants',\n",
       " 'ate',\n",
       " 3.141592653589793,\n",
       " 42,\n",
       " 'Elephants',\n",
       " 'ate',\n",
       " 3.141592653589793)"
      ]
     },
     "execution_count": 136,
     "metadata": {},
     "output_type": "execute_result"
    }
   ],
   "source": [
    "my_second_tuple * 2"
   ]
  },
  {
   "cell_type": "code",
   "execution_count": 140,
   "metadata": {},
   "outputs": [
    {
     "data": {
      "text/plain": [
       "(42, 'Elephants', 'ate', 3.141592653589793)"
      ]
     },
     "execution_count": 140,
     "metadata": {},
     "output_type": "execute_result"
    }
   ],
   "source": [
    "my_second_tuple"
   ]
  },
  {
   "cell_type": "markdown",
   "metadata": {},
   "source": [
    "Other operators: -, /, *"
   ]
  },
  {
   "cell_type": "code",
   "execution_count": 141,
   "metadata": {},
   "outputs": [
    {
     "data": {
      "text/plain": [
       "('hi', 'there')"
      ]
     },
     "execution_count": 141,
     "metadata": {},
     "output_type": "execute_result"
    }
   ],
   "source": [
    "foo = 'hi'\n",
    "fourth = (foo, 'there')\n",
    "fourth"
   ]
  },
  {
   "cell_type": "code",
   "execution_count": 142,
   "metadata": {},
   "outputs": [
    {
     "data": {
      "text/plain": [
       "('hi', 'there')"
      ]
     },
     "execution_count": 142,
     "metadata": {},
     "output_type": "execute_result"
    }
   ],
   "source": [
    "foo = 3\n",
    "fourth"
   ]
  },
  {
   "cell_type": "code",
   "execution_count": 143,
   "metadata": {},
   "outputs": [
    {
     "data": {
      "text/plain": [
       "['hi', 'there']"
      ]
     },
     "execution_count": 143,
     "metadata": {},
     "output_type": "execute_result"
    }
   ],
   "source": [
    "foo = 'hi'\n",
    "fourth = [foo, 'there']\n",
    "fourth"
   ]
  },
  {
   "cell_type": "code",
   "execution_count": 144,
   "metadata": {},
   "outputs": [
    {
     "data": {
      "text/plain": [
       "['hi', 'there']"
      ]
     },
     "execution_count": 144,
     "metadata": {},
     "output_type": "execute_result"
    }
   ],
   "source": [
    "foo = 3\n",
    "fourth"
   ]
  },
  {
   "cell_type": "markdown",
   "metadata": {},
   "source": [
    "### Questions about tuples before we move on?"
   ]
  },
  {
   "cell_type": "markdown",
   "metadata": {},
   "source": [
    "<hr>\n",
    "\n",
    "### Lists\n",
    "\n",
    "Let's begin by creating a list called `my_list` that contains three elements."
   ]
  },
  {
   "cell_type": "code",
   "execution_count": 145,
   "metadata": {},
   "outputs": [
    {
     "data": {
      "text/plain": [
       "['I', 'like', 'cake']"
      ]
     },
     "execution_count": 145,
     "metadata": {},
     "output_type": "execute_result"
    }
   ],
   "source": [
    "my_list = ['I', 'like', 'cake']\n",
    "my_list"
   ]
  },
  {
   "cell_type": "markdown",
   "metadata": {},
   "source": [
    "At first glance, tuples and lists look pretty similar.  Notice the lists use '[' and ']' instead of '(' and ')'.  But indexing and refering to the first entry as 0 and the last as -1 still works the same."
   ]
  },
  {
   "cell_type": "code",
   "execution_count": 146,
   "metadata": {},
   "outputs": [
    {
     "data": {
      "text/plain": [
       "'I'"
      ]
     },
     "execution_count": 146,
     "metadata": {},
     "output_type": "execute_result"
    }
   ],
   "source": [
    "my_list[0]"
   ]
  },
  {
   "cell_type": "code",
   "execution_count": 147,
   "metadata": {},
   "outputs": [
    {
     "data": {
      "text/plain": [
       "'cake'"
      ]
     },
     "execution_count": 147,
     "metadata": {},
     "output_type": "execute_result"
    }
   ],
   "source": [
    "my_list[-1]"
   ]
  },
  {
   "cell_type": "code",
   "execution_count": 148,
   "metadata": {},
   "outputs": [
    {
     "data": {
      "text/plain": [
       "['I', 'like', 'cake']"
      ]
     },
     "execution_count": 148,
     "metadata": {},
     "output_type": "execute_result"
    }
   ],
   "source": [
    "my_list[0:3]"
   ]
  },
  {
   "cell_type": "markdown",
   "metadata": {},
   "source": [
    "Lists, however, unlike tuples, are mutable.  "
   ]
  },
  {
   "cell_type": "code",
   "execution_count": 149,
   "metadata": {},
   "outputs": [
    {
     "data": {
      "text/plain": [
       "['I', 'like', 'pie']"
      ]
     },
     "execution_count": 149,
     "metadata": {},
     "output_type": "execute_result"
    }
   ],
   "source": [
    "my_list[2] = 'pie'\n",
    "my_list"
   ]
  },
  {
   "cell_type": "markdown",
   "metadata": {},
   "source": [
    "Multiple elements in the list can even be changed at once!"
   ]
  },
  {
   "cell_type": "code",
   "execution_count": 150,
   "metadata": {},
   "outputs": [
    {
     "data": {
      "text/plain": [
       "['I', 'love', 'puppies']"
      ]
     },
     "execution_count": 150,
     "metadata": {},
     "output_type": "execute_result"
    }
   ],
   "source": [
    "my_list[1:] = ['love', 'puppies']\n",
    "my_list"
   ]
  },
  {
   "cell_type": "markdown",
   "metadata": {},
   "source": [
    "You can still use the `in` operator."
   ]
  },
  {
   "cell_type": "code",
   "execution_count": 151,
   "metadata": {},
   "outputs": [
    {
     "data": {
      "text/plain": [
       "True"
      ]
     },
     "execution_count": 151,
     "metadata": {},
     "output_type": "execute_result"
    }
   ],
   "source": [
    "'puppies' in my_list"
   ]
  },
  {
   "cell_type": "code",
   "execution_count": 152,
   "metadata": {},
   "outputs": [
    {
     "data": {
      "text/plain": [
       "False"
      ]
     },
     "execution_count": 152,
     "metadata": {},
     "output_type": "execute_result"
    }
   ],
   "source": [
    "'kittens' in my_list"
   ]
  },
  {
   "cell_type": "markdown",
   "metadata": {},
   "source": [
    "So when to use a tuple and when to use a list?\n",
    "\n",
    "* Use a list when you will modify it after it is created?\n",
    "\n",
    "Ways to modify a list?  You have already seen by index.  Let's start with an empty list."
   ]
  },
  {
   "cell_type": "code",
   "execution_count": 153,
   "metadata": {},
   "outputs": [
    {
     "data": {
      "text/plain": [
       "[]"
      ]
     },
     "execution_count": 153,
     "metadata": {},
     "output_type": "execute_result"
    }
   ],
   "source": [
    "my_new_list = []\n",
    "my_new_list"
   ]
  },
  {
   "cell_type": "markdown",
   "metadata": {},
   "source": [
    "We can add to the list using the append method on it."
   ]
  },
  {
   "cell_type": "code",
   "execution_count": 154,
   "metadata": {},
   "outputs": [
    {
     "data": {
      "text/plain": [
       "['Now']"
      ]
     },
     "execution_count": 154,
     "metadata": {},
     "output_type": "execute_result"
    }
   ],
   "source": [
    "my_new_list.append('Now')\n",
    "my_new_list"
   ]
  },
  {
   "cell_type": "markdown",
   "metadata": {},
   "source": [
    "We can use the `+` operator to create a longer list by adding the contents of two lists together."
   ]
  },
  {
   "cell_type": "code",
   "execution_count": 155,
   "metadata": {},
   "outputs": [
    {
     "data": {
      "text/plain": [
       "['Now', 'I', 'love', 'puppies']"
      ]
     },
     "execution_count": 155,
     "metadata": {},
     "output_type": "execute_result"
    }
   ],
   "source": [
    "tmp = my_new_list + my_list\n",
    "tmp"
   ]
  },
  {
   "cell_type": "markdown",
   "metadata": {},
   "source": [
    "One of the useful things to know about a list how many elements are in it.  This can be found with the `len` function."
   ]
  },
  {
   "cell_type": "code",
   "execution_count": 156,
   "metadata": {},
   "outputs": [
    {
     "data": {
      "text/plain": [
       "3"
      ]
     },
     "execution_count": 156,
     "metadata": {},
     "output_type": "execute_result"
    }
   ],
   "source": [
    "len(my_list)"
   ]
  },
  {
   "cell_type": "code",
   "execution_count": 157,
   "metadata": {},
   "outputs": [
    {
     "data": {
      "text/plain": [
       "43"
      ]
     },
     "execution_count": 157,
     "metadata": {},
     "output_type": "execute_result"
    }
   ],
   "source": [
    "max([1,2,3,43])"
   ]
  },
  {
   "cell_type": "markdown",
   "metadata": {},
   "source": [
    "Some other handy functions with lists:\n",
    "* max\n",
    "* min\n",
    "* cmp"
   ]
  },
  {
   "cell_type": "code",
   "execution_count": 158,
   "metadata": {},
   "outputs": [
    {
     "data": {
      "text/plain": [
       "[None, 'I', 'love', 'puppies']"
      ]
     },
     "execution_count": 158,
     "metadata": {},
     "output_type": "execute_result"
    }
   ],
   "source": [
    "tmp[0] = None\n",
    "tmp"
   ]
  },
  {
   "cell_type": "markdown",
   "metadata": {},
   "source": [
    "Sometimes you have a tuple and you need to make it a list.  You can `cast` the tuple to a list with ``list(my_tuple)``"
   ]
  },
  {
   "cell_type": "code",
   "execution_count": 159,
   "metadata": {},
   "outputs": [
    {
     "data": {
      "text/plain": [
       "['I', 'like', 'cake']"
      ]
     },
     "execution_count": 159,
     "metadata": {},
     "output_type": "execute_result"
    }
   ],
   "source": [
    "list(my_tuple)"
   ]
  },
  {
   "cell_type": "markdown",
   "metadata": {},
   "source": [
    "What in the above told us it was a list?  \n",
    "\n",
    "You can also use the ``type`` function to figure out the type."
   ]
  },
  {
   "cell_type": "code",
   "execution_count": 160,
   "metadata": {},
   "outputs": [
    {
     "data": {
      "text/plain": [
       "tuple"
      ]
     },
     "execution_count": 160,
     "metadata": {},
     "output_type": "execute_result"
    }
   ],
   "source": [
    "type(my_tuple)"
   ]
  },
  {
   "cell_type": "code",
   "execution_count": 161,
   "metadata": {},
   "outputs": [
    {
     "data": {
      "text/plain": [
       "'32'"
      ]
     },
     "execution_count": 161,
     "metadata": {},
     "output_type": "execute_result"
    }
   ],
   "source": [
    "'3' + '2'"
   ]
  },
  {
   "cell_type": "code",
   "execution_count": 162,
   "metadata": {},
   "outputs": [
    {
     "data": {
      "text/plain": [
       "list"
      ]
     },
     "execution_count": 162,
     "metadata": {},
     "output_type": "execute_result"
    }
   ],
   "source": [
    "type(list(my_tuple))"
   ]
  },
  {
   "cell_type": "code",
   "execution_count": 164,
   "metadata": {},
   "outputs": [],
   "source": [
    "my_list = [\"I\", \"love\", \"puppies\"]"
   ]
  },
  {
   "cell_type": "markdown",
   "metadata": {},
   "source": [
    "There are other useful methods on lists, including:\n",
    "\n",
    "| methods  |  description  |\n",
    "|---|---|\n",
    "| list.append(obj)  | Appends object obj to list  |\n",
    "| list.count(obj)| Returns count of how many times obj occurs in list  |\n",
    "| list.extend(seq)  | Appends the contents of seq to list  |\n",
    "| list.index(obj)  | Returns the lowest index in list that obj appears  |\n",
    "| list.insert(index, obj)  | Inserts object obj into list at offset index  |\n",
    "| list.pop(obj=list[-1])  | Removes and returns last object or obj from list  |\n",
    "| list.remove(obj)  | Removes object obj from list  |\n",
    "| list.reverse()  |  Reverses objects of list in place |\n",
    "| list.sort([func])  | Sort objects of list, use compare func, if given  |\n",
    "\n",
    "Try some of them now.\n",
    "\n",
    "```\n",
    "my_list.count('I')\n",
    "my_list\n",
    "\n",
    "my_list.append('I')\n",
    "my_list\n",
    "\n",
    "my_list.count('I')\n",
    "my_list\n",
    "\n",
    "#my_list.index(42)\n",
    "\n",
    "my_list.index('puppies')\n",
    "my_list\n",
    "\n",
    "my_list.insert(my_list.index('puppies'), 'furry')\n",
    "my_list\n",
    "```"
   ]
  },
  {
   "cell_type": "code",
   "execution_count": 171,
   "metadata": {},
   "outputs": [
    {
     "data": {
      "text/plain": [
       "['I', 'love', 'furry', 'cabbages']"
      ]
     },
     "execution_count": 171,
     "metadata": {},
     "output_type": "execute_result"
    }
   ],
   "source": [
    "my_list.remove('puppies')\n",
    "my_list\n",
    "\n",
    "my_list.append('cabbages')\n",
    "my_list"
   ]
  },
  {
   "cell_type": "code",
   "execution_count": 63,
   "metadata": {},
   "outputs": [
    {
     "data": {
      "text/plain": [
       "['I', 'love', 'furry', 'cabbages']"
      ]
     },
     "execution_count": 63,
     "metadata": {},
     "output_type": "execute_result"
    }
   ],
   "source": [
    "my_list.count('I')\n",
    "my_list\n",
    "\n",
    "my_list.append('I')\n",
    "my_list\n",
    "\n",
    "my_list.count('I')\n",
    "my_list\n",
    "\n",
    "#my_list.index(42)\n",
    "\n",
    "my_list.index('puppies')\n",
    "my_list\n",
    "\n",
    "my_list.insert(my_list.index('puppies'), 'furry')\n",
    "my_list\n",
    "\n",
    "my_list.pop()\n",
    "my_list\n",
    "\n",
    "my_list.remove('puppies')\n",
    "my_list\n",
    "\n",
    "my_list.append('cabbages')\n",
    "my_list"
   ]
  },
  {
   "cell_type": "code",
   "execution_count": 118,
   "metadata": {},
   "outputs": [
    {
     "data": {
      "text/plain": [
       "['I', 'love', 'furry', 'poppies']"
      ]
     },
     "execution_count": 118,
     "metadata": {},
     "output_type": "execute_result"
    }
   ],
   "source": [
    "my_list"
   ]
  },
  {
   "cell_type": "code",
   "execution_count": 92,
   "metadata": {},
   "outputs": [
    {
     "data": {
      "text/plain": [
       "['I', 'love', 'furry']"
      ]
     },
     "execution_count": 92,
     "metadata": {},
     "output_type": "execute_result"
    }
   ],
   "source": [
    "my_list"
   ]
  },
  {
   "cell_type": "code",
   "execution_count": null,
   "metadata": {},
   "outputs": [],
   "source": []
  },
  {
   "cell_type": "markdown",
   "metadata": {},
   "source": [
    "### Any questions about lists before we move on?"
   ]
  },
  {
   "cell_type": "markdown",
   "metadata": {},
   "source": [
    "<hr>\n",
    "### Dictionaries\n",
    "\n",
    "Dictionaries are similar to tuples and lists in that they hold a collection of objects.  Dictionaries, however, allow an additional indexing mode: keys.  Think of a real dictionary where the elements in it are the definitions of the words and the keys to retrieve the entries are the words themselves.\n",
    "\n",
    "| word | definition |\n",
    "|------|------------|\n",
    "| tuple | An immutable collection of ordered objects |\n",
    "| list | A mutable collection of ordered objects |\n",
    "| dictionary | A mutable collection of named objects |\n",
    "\n",
    "Let's create this data structure now.  Dictionaries, like tuples and elements use a unique referencing method, '{' and its evil twin '}'."
   ]
  },
  {
   "cell_type": "code",
   "execution_count": 172,
   "metadata": {},
   "outputs": [
    {
     "data": {
      "text/plain": [
       "{'tuple': 'An immutable collection of ordered objects',\n",
       " 'list': 'A mutable collection of ordered objects',\n",
       " 'dictionary': 'A mutable collection of objects'}"
      ]
     },
     "execution_count": 172,
     "metadata": {},
     "output_type": "execute_result"
    }
   ],
   "source": [
    "my_dict = { 'tuple' : 'An immutable collection of ordered objects',\n",
    "            'list' : 'A mutable collection of ordered objects',\n",
    "            'dictionary' : 'A mutable collection of objects' }\n",
    "my_dict"
   ]
  },
  {
   "cell_type": "markdown",
   "metadata": {},
   "source": [
    "We access items in the dictionary by name, e.g. "
   ]
  },
  {
   "cell_type": "code",
   "execution_count": 173,
   "metadata": {},
   "outputs": [
    {
     "data": {
      "text/plain": [
       "'A mutable collection of objects'"
      ]
     },
     "execution_count": 173,
     "metadata": {},
     "output_type": "execute_result"
    }
   ],
   "source": [
    "my_dict['dictionary']"
   ]
  },
  {
   "cell_type": "markdown",
   "metadata": {},
   "source": [
    "Since the dictionary is mutable, you can change the entries."
   ]
  },
  {
   "cell_type": "code",
   "execution_count": 174,
   "metadata": {},
   "outputs": [
    {
     "data": {
      "text/plain": [
       "{'tuple': 'An immutable collection of ordered objects',\n",
       " 'list': 'A mutable collection of ordered objects',\n",
       " 'dictionary': 'A mutable collection of named objects'}"
      ]
     },
     "execution_count": 174,
     "metadata": {},
     "output_type": "execute_result"
    }
   ],
   "source": [
    "my_dict['dictionary'] = 'A mutable collection of named objects'\n",
    "my_dict"
   ]
  },
  {
   "cell_type": "markdown",
   "metadata": {},
   "source": [
    "Notice that ordering is not preserved!\n",
    "\n",
    "And we can add new items to the list."
   ]
  },
  {
   "cell_type": "code",
   "execution_count": 175,
   "metadata": {},
   "outputs": [
    {
     "data": {
      "text/plain": [
       "{'tuple': 'An immutable collection of ordered objects',\n",
       " 'list': 'A mutable collection of ordered objects',\n",
       " 'dictionary': 'A mutable collection of named objects',\n",
       " 'cabbage': 'Green leafy plant in the Brassica family'}"
      ]
     },
     "execution_count": 175,
     "metadata": {},
     "output_type": "execute_result"
    }
   ],
   "source": [
    "my_dict['cabbage'] = 'Green leafy plant in the Brassica family'\n",
    "my_dict"
   ]
  },
  {
   "cell_type": "markdown",
   "metadata": {},
   "source": [
    "To delete an entry, we can't just set it to ``None``"
   ]
  },
  {
   "cell_type": "code",
   "execution_count": 181,
   "metadata": {},
   "outputs": [
    {
     "data": {
      "text/plain": [
       "{'tuple': 'An immutable collection of ordered objects',\n",
       " 'list': 'A mutable collection of ordered objects',\n",
       " 'dictionary': 'A mutable collection of named objects',\n",
       " 'cabbage': None}"
      ]
     },
     "execution_count": 181,
     "metadata": {},
     "output_type": "execute_result"
    }
   ],
   "source": [
    "my_dict['cabbage'] = None\n",
    "my_dict"
   ]
  },
  {
   "cell_type": "markdown",
   "metadata": {},
   "source": [
    "To delete it propery, we need to pop that specific entry."
   ]
  },
  {
   "cell_type": "code",
   "execution_count": 180,
   "metadata": {},
   "outputs": [
    {
     "data": {
      "text/plain": [
       "{'tuple': 'An immutable collection of ordered objects',\n",
       " 'list': 'A mutable collection of ordered objects',\n",
       " 'dictionary': 'A mutable collection of named objects'}"
      ]
     },
     "execution_count": 180,
     "metadata": {},
     "output_type": "execute_result"
    }
   ],
   "source": [
    "my_dict.pop('cabbage', None)\n",
    "my_dict"
   ]
  },
  {
   "cell_type": "code",
   "execution_count": 182,
   "metadata": {},
   "outputs": [
    {
     "data": {
      "text/plain": [
       "{'tuple': 'An immutable collection of ordered objects',\n",
       " 'list': 'A mutable collection of ordered objects',\n",
       " 'dictionary': 'A mutable collection of named objects'}"
      ]
     },
     "execution_count": 182,
     "metadata": {},
     "output_type": "execute_result"
    }
   ],
   "source": [
    "my_dict.pop('cabbage')\n",
    "my_dict"
   ]
  },
  {
   "cell_type": "markdown",
   "metadata": {},
   "source": [
    "You can use other objects as names, but that is a topic for another time.  You can mix and match key types, e.g."
   ]
  },
  {
   "cell_type": "code",
   "execution_count": 185,
   "metadata": {},
   "outputs": [
    {
     "data": {
      "text/plain": [
       "{1: 'One', '42': 42}"
      ]
     },
     "execution_count": 185,
     "metadata": {},
     "output_type": "execute_result"
    }
   ],
   "source": [
    "my_new_dict = {}\n",
    "my_new_dict[1] = 'One'\n",
    "my_new_dict['42'] = 42\n",
    "my_new_dict"
   ]
  },
  {
   "cell_type": "markdown",
   "metadata": {},
   "source": [
    "You can get a list of keys in the dictionary by using the ``keys`` method."
   ]
  },
  {
   "cell_type": "code",
   "execution_count": 214,
   "metadata": {},
   "outputs": [
    {
     "data": {
      "text/plain": [
       "dict_keys(['tuple', 'list', 'dictionary'])"
      ]
     },
     "execution_count": 214,
     "metadata": {},
     "output_type": "execute_result"
    }
   ],
   "source": [
    "my_dict.keys()"
   ]
  },
  {
   "cell_type": "markdown",
   "metadata": {},
   "source": [
    "Similarly the contents of the dictionary with the ``items`` method."
   ]
  },
  {
   "cell_type": "code",
   "execution_count": 189,
   "metadata": {},
   "outputs": [
    {
     "data": {
      "text/plain": [
       "dict_items([('tuple', 'An immutable collection of ordered objects'), ('list', 'A mutable collection of ordered objects'), ('dictionary', 'A mutable collection of named objects')])"
      ]
     },
     "execution_count": 189,
     "metadata": {},
     "output_type": "execute_result"
    }
   ],
   "source": [
    "my_dict.items()"
   ]
  },
  {
   "cell_type": "code",
   "execution_count": 190,
   "metadata": {},
   "outputs": [
    {
     "data": {
      "text/plain": [
       "dict_items"
      ]
     },
     "execution_count": 190,
     "metadata": {},
     "output_type": "execute_result"
    }
   ],
   "source": [
    "type(my_dict.items())"
   ]
  },
  {
   "cell_type": "markdown",
   "metadata": {},
   "source": [
    "We can use the keys list for fun stuff, e.g. with the ``in`` operator."
   ]
  },
  {
   "cell_type": "code",
   "execution_count": 191,
   "metadata": {},
   "outputs": [
    {
     "data": {
      "text/plain": [
       "True"
      ]
     },
     "execution_count": 191,
     "metadata": {},
     "output_type": "execute_result"
    }
   ],
   "source": [
    "'dictionary' in my_dict.keys()"
   ]
  },
  {
   "cell_type": "markdown",
   "metadata": {},
   "source": [
    "This is a synonym for `in my_dict`"
   ]
  },
  {
   "cell_type": "code",
   "execution_count": 193,
   "metadata": {},
   "outputs": [
    {
     "data": {
      "text/plain": [
       "True"
      ]
     },
     "execution_count": 193,
     "metadata": {},
     "output_type": "execute_result"
    }
   ],
   "source": [
    "'dictionary' in my_dict"
   ]
  },
  {
   "cell_type": "markdown",
   "metadata": {},
   "source": [
    "Notice, it doesn't work for elements."
   ]
  },
  {
   "cell_type": "code",
   "execution_count": 194,
   "metadata": {},
   "outputs": [
    {
     "data": {
      "text/plain": [
       "False"
      ]
     },
     "execution_count": 194,
     "metadata": {},
     "output_type": "execute_result"
    }
   ],
   "source": [
    "'A mutable collection of ordered objects' in my_dict"
   ]
  },
  {
   "cell_type": "code",
   "execution_count": 201,
   "metadata": {},
   "outputs": [
    {
     "data": {
      "text/plain": [
       "dict_values(['An immutable collection of ordered objects', 'A mutable collection of ordered objects', 'A mutable collection of named objects'])"
      ]
     },
     "execution_count": 201,
     "metadata": {},
     "output_type": "execute_result"
    }
   ],
   "source": [
    "my_dict.values()"
   ]
  },
  {
   "cell_type": "code",
   "execution_count": 202,
   "metadata": {},
   "outputs": [
    {
     "data": {
      "text/plain": [
       "True"
      ]
     },
     "execution_count": 202,
     "metadata": {},
     "output_type": "execute_result"
    }
   ],
   "source": [
    "'A mutable collection of ordered objects' in my_dict.values()"
   ]
  },
  {
   "cell_type": "code",
   "execution_count": 203,
   "metadata": {},
   "outputs": [],
   "source": [
    "mat = [\n",
    "    [[12,13,14],2,3],\n",
    "    [3,4,5],\n",
    "    [4,9,2]\n",
    "]"
   ]
  },
  {
   "cell_type": "code",
   "execution_count": 204,
   "metadata": {},
   "outputs": [
    {
     "data": {
      "text/plain": [
       "list"
      ]
     },
     "execution_count": 204,
     "metadata": {},
     "output_type": "execute_result"
    }
   ],
   "source": [
    "type(mat)"
   ]
  },
  {
   "cell_type": "code",
   "execution_count": 205,
   "metadata": {},
   "outputs": [
    {
     "data": {
      "text/plain": [
       "2"
      ]
     },
     "execution_count": 205,
     "metadata": {},
     "output_type": "execute_result"
    }
   ],
   "source": [
    "mat[0][1]"
   ]
  },
  {
   "cell_type": "markdown",
   "metadata": {},
   "source": [
    "Other dictionary methods:\n",
    "\n",
    "| methods  |  description  |\n",
    "|---|---|\n",
    "| dict.clear() | Removes all elements from dict |\n",
    "| dict.get(key, default=None) | For ``key`` key, returns value or ``default`` if key doesn't exist in dict | \n",
    "| dict.items() | Returns a list of dicts (key, value) tuple pairs | \n",
    "| dict.keys() | Returns a list of dictionary keys |\n",
    "| dict.setdefault(key, default=None) | Similar to get, but set the value of key if it doesn't exist in dict |\n",
    "| dict.update(dict2) | Add the key / value pairs in dict2 to dict |\n",
    "| dict.values | Returns a list of dictionary values|\n",
    "\n",
    "Feel free to experiment..."
   ]
  },
  {
   "cell_type": "code",
   "execution_count": 213,
   "metadata": {},
   "outputs": [
    {
     "data": {
      "text/plain": [
       "'An immutable collection of ordered objects'"
      ]
     },
     "execution_count": 213,
     "metadata": {},
     "output_type": "execute_result"
    }
   ],
   "source": [
    "my_dict.get('tuple')"
   ]
  },
  {
   "cell_type": "code",
   "execution_count": 208,
   "metadata": {},
   "outputs": [],
   "source": [
    "my_dict.get('key')"
   ]
  },
  {
   "cell_type": "markdown",
   "metadata": {},
   "source": [
    "<hr>\n",
    "## Flow control\n",
    "\n",
    "<img src=\"https://docs.oracle.com/cd/B19306_01/appdev.102/b14261/lnpls008.gif\">Flow control figure</img>\n",
    "\n",
    "Flow control refers how to programs do loops, conditional execution, and order of functional operations.  Let's start with conditionals, or the venerable ``if`` statement.\n",
    "\n",
    "Let's start with a simple list of instructors for these classes."
   ]
  },
  {
   "cell_type": "code",
   "execution_count": 42,
   "metadata": {},
   "outputs": [
    {
     "data": {
      "text/plain": [
       "['Dave', 'Jim', 'Dorkus the Clown']"
      ]
     },
     "execution_count": 42,
     "metadata": {},
     "output_type": "execute_result"
    }
   ],
   "source": [
    "instructors = ['Dave', 'Jim', 'Dorkus the Clown']\n",
    "instructors"
   ]
  },
  {
   "cell_type": "markdown",
   "metadata": {},
   "source": [
    "### If\n",
    "If statements can be use to execute some lines or block of code if a particular condition is satisfied.  E.g. Let's print something based on the entries in the list."
   ]
  },
  {
   "cell_type": "code",
   "execution_count": 50,
   "metadata": {},
   "outputs": [
    {
     "name": "stdout",
     "output_type": "stream",
     "text": [
      "#fakeinstructor\n"
     ]
    }
   ],
   "source": [
    "if 'Dorkus the Clown' in instructors:\n",
    "    print('#fakeinstructor')"
   ]
  },
  {
   "cell_type": "markdown",
   "metadata": {},
   "source": [
    "Usually we want conditional logic on both sides of a binary condition, e.g. some action when ``True`` and some when ``False``"
   ]
  },
  {
   "cell_type": "code",
   "execution_count": 44,
   "metadata": {},
   "outputs": [
    {
     "name": "stdout",
     "output_type": "stream",
     "text": [
      "There are fake names for class instructors in your list!\n"
     ]
    }
   ],
   "source": [
    "if 'Dorkus the Clown' in instructors:\n",
    "    print('There are fake names for class instructors in your list!')\n",
    "else:\n",
    "    print(\"Nothing to see here\")"
   ]
  },
  {
   "cell_type": "markdown",
   "metadata": {},
   "source": [
    "There is a special do nothing word: `pass` that skips over some arm of a conditional, e.g."
   ]
  },
  {
   "cell_type": "code",
   "execution_count": 52,
   "metadata": {},
   "outputs": [
    {
     "name": "stdout",
     "output_type": "stream",
     "text": [
      "Congratulations!  Jim is teaching, your class won't stink!\n"
     ]
    }
   ],
   "source": [
    "if 'Jim' in instructors:\n",
    "    print(\"Congratulations!  Jim is teaching, your class won't stink!\")\n",
    "else:\n",
    "    pass"
   ]
  },
  {
   "cell_type": "markdown",
   "metadata": {},
   "source": [
    "_Note_: what have you noticed in this session about quotes?  What is the difference between ``'`` and ``\"``?\n",
    "\n",
    "\n",
    "Another simple example:"
   ]
  },
  {
   "cell_type": "code",
   "execution_count": 46,
   "metadata": {
    "scrolled": true
   },
   "outputs": [
    {
     "name": "stdout",
     "output_type": "stream",
     "text": [
      "Everything is right with the world\n"
     ]
    }
   ],
   "source": [
    "if True is False:\n",
    "    print(\"I'm so confused\")\n",
    "else:\n",
    "    print(\"Everything is right with the world\")"
   ]
  },
  {
   "cell_type": "code",
   "execution_count": 53,
   "metadata": {},
   "outputs": [
    {
     "name": "stdout",
     "output_type": "stream",
     "text": [
      "Everything is right with the world\n"
     ]
    }
   ],
   "source": [
    "if True == False:\n",
    "    print(\"I'm so confused\")\n",
    "else:\n",
    "    print(\"Everything is right with the world\")"
   ]
  },
  {
   "cell_type": "markdown",
   "metadata": {},
   "source": [
    "It is always good practice to handle all cases explicity.  `Conditional fall through` is a common source of bugs.\n",
    "\n",
    "Sometimes we wish to test multiple conditions.  Use `if`, `elif`, and `else`."
   ]
  },
  {
   "cell_type": "code",
   "execution_count": 47,
   "metadata": {},
   "outputs": [
    {
     "name": "stdout",
     "output_type": "stream",
     "text": [
      "He likes pie!  I'll start making a cherry pie right now!\n"
     ]
    }
   ],
   "source": [
    "my_favorite = 'pie'\n",
    "\n",
    "if my_favorite is 'cake':\n",
    "    print(\"He likes cake!  I'll start making a double chocolate velvet cake right now!\")\n",
    "elif my_favorite is 'pie':\n",
    "    print(\"He likes pie!  I'll start making a cherry pie right now!\")\n",
    "else:\n",
    "    print(\"He likes \" + my_favorite + \".  I don't know how to make that.\")"
   ]
  },
  {
   "cell_type": "markdown",
   "metadata": {},
   "source": [
    "Conditionals can take ``and`` and ``or`` and ``not``.  E.g."
   ]
  },
  {
   "cell_type": "code",
   "execution_count": 210,
   "metadata": {},
   "outputs": [
    {
     "name": "stdout",
     "output_type": "stream",
     "text": [
      "pie : I have a recipe for that!\n"
     ]
    }
   ],
   "source": [
    "my_favorite = 'pie'\n",
    "\n",
    "if my_favorite is 'cake' or 'pie':\n",
    "    print(my_favorite + \" : I have a recipe for that!\")\n",
    "else:\n",
    "    print(\"Ew!  Who eats that?\")"
   ]
  },
  {
   "cell_type": "markdown",
   "metadata": {},
   "source": [
    "## For\n",
    "\n",
    "For loops are the standard loop, though `while` is also common.  For has the general form:\n",
    "```\n",
    "for items in list:\n",
    "    do stuff\n",
    "```\n",
    "\n",
    "For loops and collections like tuples, lists and dictionaries are natural friends."
   ]
  },
  {
   "cell_type": "code",
   "execution_count": 57,
   "metadata": {},
   "outputs": [
    {
     "name": "stdout",
     "output_type": "stream",
     "text": [
      "Dave\n",
      "Jim\n",
      "Dorkus the Clown\n"
     ]
    }
   ],
   "source": [
    "for instructor in instructors:\n",
    "    print(instructor)"
   ]
  },
  {
   "cell_type": "markdown",
   "metadata": {},
   "source": [
    "You can combine loops and conditionals:"
   ]
  },
  {
   "cell_type": "code",
   "execution_count": 58,
   "metadata": {},
   "outputs": [
    {
     "name": "stdout",
     "output_type": "stream",
     "text": [
      "Dave is so smart... all those gooey brains!\n",
      "Jim is so smart... all those gooey brains!\n",
      "Dorkus the Clown doesn't sound like a real instructor name!\n"
     ]
    }
   ],
   "source": [
    "for instructor in instructors:\n",
    "    if instructor.endswith('Clown'):\n",
    "        print(instructor + \" doesn't sound like a real instructor name!\")\n",
    "    else:\n",
    "        print(instructor + \" is so smart... all those gooey brains!\")"
   ]
  },
  {
   "cell_type": "code",
   "execution_count": 215,
   "metadata": {},
   "outputs": [
    {
     "data": {
      "text/plain": [
       "dict_keys(['tuple', 'list', 'dictionary'])"
      ]
     },
     "execution_count": 215,
     "metadata": {},
     "output_type": "execute_result"
    }
   ],
   "source": [
    "my_dict.keys()"
   ]
  },
  {
   "cell_type": "markdown",
   "metadata": {},
   "source": [
    "Dictionaries can use the `keys` method for iterating."
   ]
  },
  {
   "cell_type": "code",
   "execution_count": 59,
   "metadata": {},
   "outputs": [
    {
     "name": "stdout",
     "output_type": "stream",
     "text": [
      "A mutable collection of named objects\n"
     ]
    }
   ],
   "source": [
    "for key in my_dict.keys():\n",
    "    if len(key) > 5:\n",
    "        print(my_dict[key])"
   ]
  },
  {
   "cell_type": "markdown",
   "metadata": {},
   "source": [
    "### range()\n",
    "\n",
    "Since for operates over lists, it is common to want to do something like:\n",
    "```\n",
    "NOTE: C-like\n",
    "for (i = 0; i < 3; ++i) {\n",
    "    print(i);\n",
    "}\n",
    "```\n",
    "\n",
    "The Python equivalent is:\n",
    "\n",
    "```\n",
    "for i in [0, 1, 2]:\n",
    "    do something with i\n",
    "```\n",
    "\n",
    "What happens when the range you want to sample is big, e.g.\n",
    "```\n",
    "NOTE: C-like\n",
    "for (i = 0; i < 1000000000; ++i) {\n",
    "    print(i);\n",
    "}\n",
    "```\n",
    "\n",
    "That would be a real pain in the rear to have to write out the entire list from 1 to 1000000000.\n",
    "\n",
    "Enter, the `range()` function.  E.g.\n",
    " ```range(3) is [0, 1, 2]```"
   ]
  },
  {
   "cell_type": "code",
   "execution_count": 60,
   "metadata": {},
   "outputs": [
    {
     "data": {
      "text/plain": [
       "range(0, 3)"
      ]
     },
     "execution_count": 60,
     "metadata": {},
     "output_type": "execute_result"
    }
   ],
   "source": [
    "range(3)"
   ]
  },
  {
   "cell_type": "markdown",
   "metadata": {},
   "source": [
    "Notice that Python (in the newest versions, e.g. 3+) has an object type that is a range.  This saves memory and speeds up calculations vs. an explicit representation of a range as a list - but it can be automagically converted to a list on the fly by Python.  To show the contents as a `list` we can use the type case like with the tuple above.\n",
    "\n",
    "Sometimes, in older Python docs, you will see `xrange`.  This used the range object back in Python 2 and `range` returned an actual list.  Beware of this!"
   ]
  },
  {
   "cell_type": "code",
   "execution_count": 61,
   "metadata": {},
   "outputs": [
    {
     "data": {
      "text/plain": [
       "[0, 1, 2]"
      ]
     },
     "execution_count": 61,
     "metadata": {},
     "output_type": "execute_result"
    }
   ],
   "source": [
    "list(range(3))"
   ]
  },
  {
   "cell_type": "code",
   "execution_count": 216,
   "metadata": {},
   "outputs": [
    {
     "name": "stdout",
     "output_type": "stream",
     "text": [
      "range(0, 3)\n"
     ]
    }
   ],
   "source": [
    "print(range(3))"
   ]
  },
  {
   "cell_type": "code",
   "execution_count": 76,
   "metadata": {},
   "outputs": [
    {
     "data": {
      "text/plain": [
       "[4, 7, 10, 13, 16]"
      ]
     },
     "execution_count": 76,
     "metadata": {},
     "output_type": "execute_result"
    }
   ],
   "source": [
    "list(range(4, 18, 3))"
   ]
  },
  {
   "cell_type": "markdown",
   "metadata": {},
   "source": [
    "Remember earlier with slicing, the syntax `:3` meant `[0, 1, 2]`?  Well, the same upper bound philosophy applies here.\n"
   ]
  },
  {
   "cell_type": "code",
   "execution_count": 250,
   "metadata": {},
   "outputs": [
    {
     "name": "stdout",
     "output_type": "stream",
     "text": [
      "Dave is so smart... all those gooey brains!\n",
      "Jim is so smart... all those gooey brains!\n",
      "Dorkus the Clown doesn't sound like a real instructor name!\n"
     ]
    }
   ],
   "source": [
    "for index in range(3):\n",
    "    instructor = instructors[index]\n",
    "    if instructor.endswith('Clown'):\n",
    "        print(instructor + \" doesn't sound like a real instructor name!\")\n",
    "    else:\n",
    "        print(instructor + \" is so smart... all those gooey brains!\")"
   ]
  },
  {
   "cell_type": "code",
   "execution_count": 64,
   "metadata": {},
   "outputs": [
    {
     "name": "stdout",
     "output_type": "stream",
     "text": [
      "{'__name__': '__main__', '__doc__': 'Automatically created module for IPython interactive environment', '__package__': None, '__loader__': None, '__spec__': None, '__builtin__': <module 'builtins' (built-in)>, '__builtins__': <module 'builtins' (built-in)>, '_ih': ['', \"my_dict['cabbage'] = None\\nmy_dict\", \"my_dict = { 'tuple' : 'An immutable collection of ordered objects',\\n            'list' : 'A mutable collection of ordered objects',\\n            'dictionary' : 'A mutable collection of objects' }\\nmy_dict\", \"my_dict['dictionary']\", \"my_dict['dictionary'] = 'A mutable collection of named objects'\\nmy_dict\", \"my_dict['cabbage'] = 'Green leafy plant in the Brassica family'\\nmy_dict\", \"my_dict['cabbage'] = None\\nmy_dict\", \"my_dict.pop('cabbage', None)\\nmy_dict\", \"my_dict['cabbage'] = 'Green leafy plant in the Brassica family'\\nmy_dict\", \"my_dict.pop('cabbage')\\nmy_dict\", \"my_dict.pop('cabbage', None)\\nmy_dict\", 'my_dict.items()', \"'dictionary' in my_dict.keys()\", \"'dictionary' in my_dict\", \"'A mutable collection of ordered objects' in my_dict\", 'type(my_dict.items())', \"my_dict['cabbage'] = 'Green leafy plant in the Brassica family'\\nmy_dict\", \"my_dict.pop('cabbage')\\nmy_dict\", '[\\n    [1,2,3],\\n    [3,4,5],\\n    [4,9,2]\\n]', 'mat = [\\n    [1,2,3],\\n    [3,4,5],\\n    [4,9,2]\\n]', 'mat[1,2]', 'mat.loc[1,2]', 'mat[0]', 'mat[0][2]', 'mat.shape', 'mat = [\\n    [[12,13,14],2,3],\\n    [3,4,5],\\n    [4,9,2]\\n]', 'mat[0][2]', 'mat[0][0]', 'mat[0][1]', 'np.array(mat)', 'type(mat)', \"'A mutable collection of ordered objects' in my_dict.values()\", \"'A mutable collection of ordered objects' in my_dict.values\", \"'A mutable collection of ordered objects' in my_dict.values()\", 'dict.get(key, default=None)', 'dict.get(\"key\", default=None)', 'my_dict.get(\"key\", default=None)', \"my_dict.get('ke', default=None)\", \"my_dict.get('tuple', default=None)\", 'my_dict', \"my_dict.get('tuple', None)\", \"my_dict.get('key', None)\", \"instructors = ['Dave', 'Jim', 'Dorkus the Clown']\\ninstructors\", \"if 'Dorkus the Clown' in instructors:\\n    print('#fakeinstructor')\", 'if \\'Dorkus the Clown\\' in instructors:\\n    print(\\'There are fake names for class instructors in your list!\\')\\nelse:\\n    print(\"Nothing to see here\")', 'if \\'Jim\\' in instructors:\\n    print(\"Congratulations!  Jim is teaching, your class won\\'t stink!\")\\nelse:\\n    pass', 'if True is False:\\n    print(\"I\\'m so confused\")\\nelse:\\n    print(\"Everything is right with the world\")', 'my_favorite = \\'pie\\'\\n\\nif my_favorite is \\'cake\\':\\n    print(\"He likes cake!  I\\'ll start making a double chocolate velvet cake right now!\")\\nelif my_favorite is \\'pie\\':\\n    print(\"He likes pie!  I\\'ll start making a cherry pie right now!\")\\nelse:\\n    print(\"He likes \" + my_favorite + \".  I don\\'t know how to make that.\")', 'my_favorite = \\'pie\\'\\n\\nif my_favorite is \\'cake\\' or my_favorite is \\'pie\\':\\n    print(my_favorite + \" : I have a recipe for that!\")\\nelse:\\n    print(\"Ew!  Who eats that?\")', \"if 'Dorkus the Clwn' in instructors:\\n    print('#fakeinstructor')\", \"if 'Dorkus the Clown' in instructors:\\n    print('#fakeinstructor')\", 'if \\'Jm\\' in instructors:\\n    print(\"Congratulations!  Jim is teaching, your class won\\'t stink!\")\\nelse:\\n    pass', 'if \\'Jim\\' in instructors:\\n    print(\"Congratulations!  Jim is teaching, your class won\\'t stink!\")\\nelse:\\n    pass', 'if True == False:\\n    print(\"I\\'m so confused\")\\nelse:\\n    print(\"Everything is right with the world\")', 'my_favorite = \\'pie\\'\\n\\nif my_favorite is \\'cake\\' or\\'pie\\':\\n    print(my_favorite + \" : I have a recipe for that!\")\\nelse:\\n    print(\"Ew!  Who eats that?\")', 'my_favorite = \\'pie\\'\\n\\nif my_favorite is \\'cake\\' and \\'pie\\':\\n    print(my_favorite + \" : I have a recipe for that!\")\\nelse:\\n    print(\"Ew!  Who eats that?\")', 'my_favorite = \\'pie\\'\\n\\nif my_favorite is \\'cake\\' or \\'pie\\':\\n    print(my_favorite + \" : I have a recipe for that!\")\\nelse:\\n    print(\"Ew!  Who eats that?\")', 'for instructor in instructors:\\n    print(instructor)', 'for instructor in instructors:\\n    if instructor.endswith(\\'Clown\\'):\\n        print(instructor + \" doesn\\'t sound like a real instructor name!\")\\n    else:\\n        print(instructor + \" is so smart... all those gooey brains!\")', 'for key in my_dict.keys():\\n    if len(key) > 5:\\n        print(my_dict[key])', 'range(3)', 'list(range(3))', 'for index in range(3):\\n    instructor = instructors[index]\\n    if instructor.endswith(\\'Clown\\'):\\n        print(instructor + \" doesn\\'t sound like a real instructor name!\")\\n    else:\\n        print(instructor + \" is so smart... all those gooey brains!\")', 'for index in range(len(instructors)):\\n    instructor = instructors[index]\\n    if instructor.endswith(\\'Clown\\'):\\n        print(instructor + \" doesn\\'t sound like a real instructor name!\")\\n    else:\\n        print(instructor + \" is so smart... all those gooey brains!\")', 'print(locals())'], '_oh': {2: {'tuple': 'An immutable collection of ordered objects', 'list': 'A mutable collection of ordered objects', 'dictionary': 'A mutable collection of named objects'}, 3: 'A mutable collection of objects', 4: {'tuple': 'An immutable collection of ordered objects', 'list': 'A mutable collection of ordered objects', 'dictionary': 'A mutable collection of named objects'}, 5: {'tuple': 'An immutable collection of ordered objects', 'list': 'A mutable collection of ordered objects', 'dictionary': 'A mutable collection of named objects'}, 6: {'tuple': 'An immutable collection of ordered objects', 'list': 'A mutable collection of ordered objects', 'dictionary': 'A mutable collection of named objects'}, 7: {'tuple': 'An immutable collection of ordered objects', 'list': 'A mutable collection of ordered objects', 'dictionary': 'A mutable collection of named objects'}, 8: {'tuple': 'An immutable collection of ordered objects', 'list': 'A mutable collection of ordered objects', 'dictionary': 'A mutable collection of named objects'}, 9: {'tuple': 'An immutable collection of ordered objects', 'list': 'A mutable collection of ordered objects', 'dictionary': 'A mutable collection of named objects'}, 10: {'tuple': 'An immutable collection of ordered objects', 'list': 'A mutable collection of ordered objects', 'dictionary': 'A mutable collection of named objects'}, 11: dict_items([('tuple', 'An immutable collection of ordered objects'), ('list', 'A mutable collection of ordered objects'), ('dictionary', 'A mutable collection of named objects')]), 12: True, 13: True, 14: False, 15: <class 'dict_items'>, 16: {'tuple': 'An immutable collection of ordered objects', 'list': 'A mutable collection of ordered objects', 'dictionary': 'A mutable collection of named objects'}, 17: {'tuple': 'An immutable collection of ordered objects', 'list': 'A mutable collection of ordered objects', 'dictionary': 'A mutable collection of named objects'}, 18: [[1, 2, 3], [3, 4, 5], [4, 9, 2]], 22: [1, 2, 3], 23: 3, 26: 3, 27: [12, 13, 14], 28: 2, 30: <class 'list'>, 31: True, 33: True, 39: {'tuple': 'An immutable collection of ordered objects', 'list': 'A mutable collection of ordered objects', 'dictionary': 'A mutable collection of named objects'}, 40: 'An immutable collection of ordered objects', 42: ['Dave', 'Jim', 'Dorkus the Clown'], 60: range(0, 3), 61: [0, 1, 2]}, '_dh': ['C:\\\\Users\\\\Yohan_Min\\\\DIRECT'], 'In': ['', \"my_dict['cabbage'] = None\\nmy_dict\", \"my_dict = { 'tuple' : 'An immutable collection of ordered objects',\\n            'list' : 'A mutable collection of ordered objects',\\n            'dictionary' : 'A mutable collection of objects' }\\nmy_dict\", \"my_dict['dictionary']\", \"my_dict['dictionary'] = 'A mutable collection of named objects'\\nmy_dict\", \"my_dict['cabbage'] = 'Green leafy plant in the Brassica family'\\nmy_dict\", \"my_dict['cabbage'] = None\\nmy_dict\", \"my_dict.pop('cabbage', None)\\nmy_dict\", \"my_dict['cabbage'] = 'Green leafy plant in the Brassica family'\\nmy_dict\", \"my_dict.pop('cabbage')\\nmy_dict\", \"my_dict.pop('cabbage', None)\\nmy_dict\", 'my_dict.items()', \"'dictionary' in my_dict.keys()\", \"'dictionary' in my_dict\", \"'A mutable collection of ordered objects' in my_dict\", 'type(my_dict.items())', \"my_dict['cabbage'] = 'Green leafy plant in the Brassica family'\\nmy_dict\", \"my_dict.pop('cabbage')\\nmy_dict\", '[\\n    [1,2,3],\\n    [3,4,5],\\n    [4,9,2]\\n]', 'mat = [\\n    [1,2,3],\\n    [3,4,5],\\n    [4,9,2]\\n]', 'mat[1,2]', 'mat.loc[1,2]', 'mat[0]', 'mat[0][2]', 'mat.shape', 'mat = [\\n    [[12,13,14],2,3],\\n    [3,4,5],\\n    [4,9,2]\\n]', 'mat[0][2]', 'mat[0][0]', 'mat[0][1]', 'np.array(mat)', 'type(mat)', \"'A mutable collection of ordered objects' in my_dict.values()\", \"'A mutable collection of ordered objects' in my_dict.values\", \"'A mutable collection of ordered objects' in my_dict.values()\", 'dict.get(key, default=None)', 'dict.get(\"key\", default=None)', 'my_dict.get(\"key\", default=None)', \"my_dict.get('ke', default=None)\", \"my_dict.get('tuple', default=None)\", 'my_dict', \"my_dict.get('tuple', None)\", \"my_dict.get('key', None)\", \"instructors = ['Dave', 'Jim', 'Dorkus the Clown']\\ninstructors\", \"if 'Dorkus the Clown' in instructors:\\n    print('#fakeinstructor')\", 'if \\'Dorkus the Clown\\' in instructors:\\n    print(\\'There are fake names for class instructors in your list!\\')\\nelse:\\n    print(\"Nothing to see here\")', 'if \\'Jim\\' in instructors:\\n    print(\"Congratulations!  Jim is teaching, your class won\\'t stink!\")\\nelse:\\n    pass', 'if True is False:\\n    print(\"I\\'m so confused\")\\nelse:\\n    print(\"Everything is right with the world\")', 'my_favorite = \\'pie\\'\\n\\nif my_favorite is \\'cake\\':\\n    print(\"He likes cake!  I\\'ll start making a double chocolate velvet cake right now!\")\\nelif my_favorite is \\'pie\\':\\n    print(\"He likes pie!  I\\'ll start making a cherry pie right now!\")\\nelse:\\n    print(\"He likes \" + my_favorite + \".  I don\\'t know how to make that.\")', 'my_favorite = \\'pie\\'\\n\\nif my_favorite is \\'cake\\' or my_favorite is \\'pie\\':\\n    print(my_favorite + \" : I have a recipe for that!\")\\nelse:\\n    print(\"Ew!  Who eats that?\")', \"if 'Dorkus the Clwn' in instructors:\\n    print('#fakeinstructor')\", \"if 'Dorkus the Clown' in instructors:\\n    print('#fakeinstructor')\", 'if \\'Jm\\' in instructors:\\n    print(\"Congratulations!  Jim is teaching, your class won\\'t stink!\")\\nelse:\\n    pass', 'if \\'Jim\\' in instructors:\\n    print(\"Congratulations!  Jim is teaching, your class won\\'t stink!\")\\nelse:\\n    pass', 'if True == False:\\n    print(\"I\\'m so confused\")\\nelse:\\n    print(\"Everything is right with the world\")', 'my_favorite = \\'pie\\'\\n\\nif my_favorite is \\'cake\\' or\\'pie\\':\\n    print(my_favorite + \" : I have a recipe for that!\")\\nelse:\\n    print(\"Ew!  Who eats that?\")', 'my_favorite = \\'pie\\'\\n\\nif my_favorite is \\'cake\\' and \\'pie\\':\\n    print(my_favorite + \" : I have a recipe for that!\")\\nelse:\\n    print(\"Ew!  Who eats that?\")', 'my_favorite = \\'pie\\'\\n\\nif my_favorite is \\'cake\\' or \\'pie\\':\\n    print(my_favorite + \" : I have a recipe for that!\")\\nelse:\\n    print(\"Ew!  Who eats that?\")', 'for instructor in instructors:\\n    print(instructor)', 'for instructor in instructors:\\n    if instructor.endswith(\\'Clown\\'):\\n        print(instructor + \" doesn\\'t sound like a real instructor name!\")\\n    else:\\n        print(instructor + \" is so smart... all those gooey brains!\")', 'for key in my_dict.keys():\\n    if len(key) > 5:\\n        print(my_dict[key])', 'range(3)', 'list(range(3))', 'for index in range(3):\\n    instructor = instructors[index]\\n    if instructor.endswith(\\'Clown\\'):\\n        print(instructor + \" doesn\\'t sound like a real instructor name!\")\\n    else:\\n        print(instructor + \" is so smart... all those gooey brains!\")', 'for index in range(len(instructors)):\\n    instructor = instructors[index]\\n    if instructor.endswith(\\'Clown\\'):\\n        print(instructor + \" doesn\\'t sound like a real instructor name!\")\\n    else:\\n        print(instructor + \" is so smart... all those gooey brains!\")', 'print(locals())'], 'Out': {2: {'tuple': 'An immutable collection of ordered objects', 'list': 'A mutable collection of ordered objects', 'dictionary': 'A mutable collection of named objects'}, 3: 'A mutable collection of objects', 4: {'tuple': 'An immutable collection of ordered objects', 'list': 'A mutable collection of ordered objects', 'dictionary': 'A mutable collection of named objects'}, 5: {'tuple': 'An immutable collection of ordered objects', 'list': 'A mutable collection of ordered objects', 'dictionary': 'A mutable collection of named objects'}, 6: {'tuple': 'An immutable collection of ordered objects', 'list': 'A mutable collection of ordered objects', 'dictionary': 'A mutable collection of named objects'}, 7: {'tuple': 'An immutable collection of ordered objects', 'list': 'A mutable collection of ordered objects', 'dictionary': 'A mutable collection of named objects'}, 8: {'tuple': 'An immutable collection of ordered objects', 'list': 'A mutable collection of ordered objects', 'dictionary': 'A mutable collection of named objects'}, 9: {'tuple': 'An immutable collection of ordered objects', 'list': 'A mutable collection of ordered objects', 'dictionary': 'A mutable collection of named objects'}, 10: {'tuple': 'An immutable collection of ordered objects', 'list': 'A mutable collection of ordered objects', 'dictionary': 'A mutable collection of named objects'}, 11: dict_items([('tuple', 'An immutable collection of ordered objects'), ('list', 'A mutable collection of ordered objects'), ('dictionary', 'A mutable collection of named objects')]), 12: True, 13: True, 14: False, 15: <class 'dict_items'>, 16: {'tuple': 'An immutable collection of ordered objects', 'list': 'A mutable collection of ordered objects', 'dictionary': 'A mutable collection of named objects'}, 17: {'tuple': 'An immutable collection of ordered objects', 'list': 'A mutable collection of ordered objects', 'dictionary': 'A mutable collection of named objects'}, 18: [[1, 2, 3], [3, 4, 5], [4, 9, 2]], 22: [1, 2, 3], 23: 3, 26: 3, 27: [12, 13, 14], 28: 2, 30: <class 'list'>, 31: True, 33: True, 39: {'tuple': 'An immutable collection of ordered objects', 'list': 'A mutable collection of ordered objects', 'dictionary': 'A mutable collection of named objects'}, 40: 'An immutable collection of ordered objects', 42: ['Dave', 'Jim', 'Dorkus the Clown'], 60: range(0, 3), 61: [0, 1, 2]}, 'get_ipython': <bound method InteractiveShell.get_ipython of <ipykernel.zmqshell.ZMQInteractiveShell object at 0x000002712D0A45F8>>, 'exit': <IPython.core.autocall.ZMQExitAutocall object at 0x000002712F165BE0>, 'quit': <IPython.core.autocall.ZMQExitAutocall object at 0x000002712F165BE0>, '_': [0, 1, 2], '__': range(0, 3), '___': ['Dave', 'Jim', 'Dorkus the Clown'], '_i': 'for index in range(len(instructors)):\\n    instructor = instructors[index]\\n    if instructor.endswith(\\'Clown\\'):\\n        print(instructor + \" doesn\\'t sound like a real instructor name!\")\\n    else:\\n        print(instructor + \" is so smart... all those gooey brains!\")', '_ii': 'for index in range(3):\\n    instructor = instructors[index]\\n    if instructor.endswith(\\'Clown\\'):\\n        print(instructor + \" doesn\\'t sound like a real instructor name!\")\\n    else:\\n        print(instructor + \" is so smart... all those gooey brains!\")', '_iii': 'list(range(3))', '_i1': \"my_dict['cabbage'] = None\\nmy_dict\", '_i2': \"my_dict = { 'tuple' : 'An immutable collection of ordered objects',\\n            'list' : 'A mutable collection of ordered objects',\\n            'dictionary' : 'A mutable collection of objects' }\\nmy_dict\", 'my_dict': {'tuple': 'An immutable collection of ordered objects', 'list': 'A mutable collection of ordered objects', 'dictionary': 'A mutable collection of named objects'}, '_2': {'tuple': 'An immutable collection of ordered objects', 'list': 'A mutable collection of ordered objects', 'dictionary': 'A mutable collection of named objects'}, '_i3': \"my_dict['dictionary']\", '_3': 'A mutable collection of objects', '_i4': \"my_dict['dictionary'] = 'A mutable collection of named objects'\\nmy_dict\", '_4': {'tuple': 'An immutable collection of ordered objects', 'list': 'A mutable collection of ordered objects', 'dictionary': 'A mutable collection of named objects'}, '_i5': \"my_dict['cabbage'] = 'Green leafy plant in the Brassica family'\\nmy_dict\", '_5': {'tuple': 'An immutable collection of ordered objects', 'list': 'A mutable collection of ordered objects', 'dictionary': 'A mutable collection of named objects'}, '_i6': \"my_dict['cabbage'] = None\\nmy_dict\", '_6': {'tuple': 'An immutable collection of ordered objects', 'list': 'A mutable collection of ordered objects', 'dictionary': 'A mutable collection of named objects'}, '_i7': \"my_dict.pop('cabbage', None)\\nmy_dict\", '_7': {'tuple': 'An immutable collection of ordered objects', 'list': 'A mutable collection of ordered objects', 'dictionary': 'A mutable collection of named objects'}, '_i8': \"my_dict['cabbage'] = 'Green leafy plant in the Brassica family'\\nmy_dict\", '_8': {'tuple': 'An immutable collection of ordered objects', 'list': 'A mutable collection of ordered objects', 'dictionary': 'A mutable collection of named objects'}, '_i9': \"my_dict.pop('cabbage')\\nmy_dict\", '_9': {'tuple': 'An immutable collection of ordered objects', 'list': 'A mutable collection of ordered objects', 'dictionary': 'A mutable collection of named objects'}, '_i10': \"my_dict.pop('cabbage', None)\\nmy_dict\", '_10': {'tuple': 'An immutable collection of ordered objects', 'list': 'A mutable collection of ordered objects', 'dictionary': 'A mutable collection of named objects'}, '_i11': 'my_dict.items()', '_11': dict_items([('tuple', 'An immutable collection of ordered objects'), ('list', 'A mutable collection of ordered objects'), ('dictionary', 'A mutable collection of named objects')]), '_i12': \"'dictionary' in my_dict.keys()\", '_12': True, '_i13': \"'dictionary' in my_dict\", '_13': True, '_i14': \"'A mutable collection of ordered objects' in my_dict\", '_14': False, '_i15': 'type(my_dict.items())', '_15': <class 'dict_items'>, '_i16': \"my_dict['cabbage'] = 'Green leafy plant in the Brassica family'\\nmy_dict\", '_16': {'tuple': 'An immutable collection of ordered objects', 'list': 'A mutable collection of ordered objects', 'dictionary': 'A mutable collection of named objects'}, '_i17': \"my_dict.pop('cabbage')\\nmy_dict\", '_17': {'tuple': 'An immutable collection of ordered objects', 'list': 'A mutable collection of ordered objects', 'dictionary': 'A mutable collection of named objects'}, '_i18': '[\\n    [1,2,3],\\n    [3,4,5],\\n    [4,9,2]\\n]', '_18': [[1, 2, 3], [3, 4, 5], [4, 9, 2]], '_i19': 'mat = [\\n    [1,2,3],\\n    [3,4,5],\\n    [4,9,2]\\n]', 'mat': [[[12, 13, 14], 2, 3], [3, 4, 5], [4, 9, 2]], '_i20': 'mat[1,2]', '_i21': 'mat.loc[1,2]', '_i22': 'mat[0]', '_22': [1, 2, 3], '_i23': 'mat[0][2]', '_23': 3, '_i24': 'mat.shape', '_i25': 'mat = [\\n    [[12,13,14],2,3],\\n    [3,4,5],\\n    [4,9,2]\\n]', '_i26': 'mat[0][2]', '_26': 3, '_i27': 'mat[0][0]', '_27': [12, 13, 14], '_i28': 'mat[0][1]', '_28': 2, '_i29': 'np.array(mat)', '_i30': 'type(mat)', '_30': <class 'list'>, '_i31': \"'A mutable collection of ordered objects' in my_dict.values()\", '_31': True, '_i32': \"'A mutable collection of ordered objects' in my_dict.values\", '_i33': \"'A mutable collection of ordered objects' in my_dict.values()\", '_33': True, '_i34': 'dict.get(key, default=None)', '_i35': 'dict.get(\"key\", default=None)', '_i36': 'my_dict.get(\"key\", default=None)', '_i37': \"my_dict.get('ke', default=None)\", '_i38': \"my_dict.get('tuple', default=None)\", '_i39': 'my_dict', '_39': {'tuple': 'An immutable collection of ordered objects', 'list': 'A mutable collection of ordered objects', 'dictionary': 'A mutable collection of named objects'}, '_i40': \"my_dict.get('tuple', None)\", '_40': 'An immutable collection of ordered objects', '_i41': \"my_dict.get('key', None)\", '_i42': \"instructors = ['Dave', 'Jim', 'Dorkus the Clown']\\ninstructors\", 'instructors': ['Dave', 'Jim', 'Dorkus the Clown'], '_42': ['Dave', 'Jim', 'Dorkus the Clown'], '_i43': \"if 'Dorkus the Clown' in instructors:\\n    print('#fakeinstructor')\", '_i44': 'if \\'Dorkus the Clown\\' in instructors:\\n    print(\\'There are fake names for class instructors in your list!\\')\\nelse:\\n    print(\"Nothing to see here\")', '_i45': 'if \\'Jim\\' in instructors:\\n    print(\"Congratulations!  Jim is teaching, your class won\\'t stink!\")\\nelse:\\n    pass', '_i46': 'if True is False:\\n    print(\"I\\'m so confused\")\\nelse:\\n    print(\"Everything is right with the world\")', '_i47': 'my_favorite = \\'pie\\'\\n\\nif my_favorite is \\'cake\\':\\n    print(\"He likes cake!  I\\'ll start making a double chocolate velvet cake right now!\")\\nelif my_favorite is \\'pie\\':\\n    print(\"He likes pie!  I\\'ll start making a cherry pie right now!\")\\nelse:\\n    print(\"He likes \" + my_favorite + \".  I don\\'t know how to make that.\")', 'my_favorite': 'pie', '_i48': 'my_favorite = \\'pie\\'\\n\\nif my_favorite is \\'cake\\' or my_favorite is \\'pie\\':\\n    print(my_favorite + \" : I have a recipe for that!\")\\nelse:\\n    print(\"Ew!  Who eats that?\")', '_i49': \"if 'Dorkus the Clwn' in instructors:\\n    print('#fakeinstructor')\", '_i50': \"if 'Dorkus the Clown' in instructors:\\n    print('#fakeinstructor')\", '_i51': 'if \\'Jm\\' in instructors:\\n    print(\"Congratulations!  Jim is teaching, your class won\\'t stink!\")\\nelse:\\n    pass', '_i52': 'if \\'Jim\\' in instructors:\\n    print(\"Congratulations!  Jim is teaching, your class won\\'t stink!\")\\nelse:\\n    pass', '_i53': 'if True == False:\\n    print(\"I\\'m so confused\")\\nelse:\\n    print(\"Everything is right with the world\")', '_i54': 'my_favorite = \\'pie\\'\\n\\nif my_favorite is \\'cake\\' or\\'pie\\':\\n    print(my_favorite + \" : I have a recipe for that!\")\\nelse:\\n    print(\"Ew!  Who eats that?\")', '_i55': 'my_favorite = \\'pie\\'\\n\\nif my_favorite is \\'cake\\' and \\'pie\\':\\n    print(my_favorite + \" : I have a recipe for that!\")\\nelse:\\n    print(\"Ew!  Who eats that?\")', '_i56': 'my_favorite = \\'pie\\'\\n\\nif my_favorite is \\'cake\\' or \\'pie\\':\\n    print(my_favorite + \" : I have a recipe for that!\")\\nelse:\\n    print(\"Ew!  Who eats that?\")', '_i57': 'for instructor in instructors:\\n    print(instructor)', 'instructor': 'Dorkus the Clown', '_i58': 'for instructor in instructors:\\n    if instructor.endswith(\\'Clown\\'):\\n        print(instructor + \" doesn\\'t sound like a real instructor name!\")\\n    else:\\n        print(instructor + \" is so smart... all those gooey brains!\")', '_i59': 'for key in my_dict.keys():\\n    if len(key) > 5:\\n        print(my_dict[key])', 'key': 'dictionary', '_i60': 'range(3)', '_60': range(0, 3), '_i61': 'list(range(3))', '_61': [0, 1, 2], '_i62': 'for index in range(3):\\n    instructor = instructors[index]\\n    if instructor.endswith(\\'Clown\\'):\\n        print(instructor + \" doesn\\'t sound like a real instructor name!\")\\n    else:\\n        print(instructor + \" is so smart... all those gooey brains!\")', 'index': 2, '_i63': 'for index in range(len(instructors)):\\n    instructor = instructors[index]\\n    if instructor.endswith(\\'Clown\\'):\\n        print(instructor + \" doesn\\'t sound like a real instructor name!\")\\n    else:\\n        print(instructor + \" is so smart... all those gooey brains!\")', '_i64': 'print(locals())'}\n"
     ]
    }
   ],
   "source": [
    "print(locals())"
   ]
  },
  {
   "cell_type": "markdown",
   "metadata": {},
   "source": [
    "This would probably be better written as"
   ]
  },
  {
   "cell_type": "code",
   "execution_count": 63,
   "metadata": {},
   "outputs": [
    {
     "name": "stdout",
     "output_type": "stream",
     "text": [
      "Dave is so smart... all those gooey brains!\n",
      "Jim is so smart... all those gooey brains!\n",
      "Dorkus the Clown doesn't sound like a real instructor name!\n"
     ]
    }
   ],
   "source": [
    "for index in range(len(instructors)):\n",
    "    instructor = instructors[index]\n",
    "    if instructor.endswith('Clown'):\n",
    "        print(instructor + \" doesn't sound like a real instructor name!\")\n",
    "    else:\n",
    "        print(instructor + \" is so smart... all those gooey brains!\")"
   ]
  },
  {
   "cell_type": "markdown",
   "metadata": {},
   "source": [
    "But in all, it isn't very Pythonesque to use indexes like that (unless you have another reason in the loop) and you would opt instead for the `instructor in instructors` form.  \n",
    "\n",
    "More often, you are doing something with the numbers that requires them to be integers, e.g. math."
   ]
  },
  {
   "cell_type": "code",
   "execution_count": 231,
   "metadata": {},
   "outputs": [
    {
     "name": "stdout",
     "output_type": "stream",
     "text": [
      "9\n",
      "9\n"
     ]
    }
   ],
   "source": [
    "sum = 0\n",
    "for i in range(10):\n",
    "    sum =+ i\n",
    "print(sum)\n",
    "print(i)"
   ]
  },
  {
   "cell_type": "code",
   "execution_count": 229,
   "metadata": {},
   "outputs": [
    {
     "name": "stdout",
     "output_type": "stream",
     "text": [
      "45\n",
      "9\n"
     ]
    }
   ],
   "source": [
    "sum = 0\n",
    "for i in range(10):\n",
    "    sum += i\n",
    "print(sum)\n",
    "print(i)"
   ]
  },
  {
   "cell_type": "code",
   "execution_count": 70,
   "metadata": {},
   "outputs": [
    {
     "data": {
      "text/plain": [
       "[0, 1, 2]"
      ]
     },
     "execution_count": 70,
     "metadata": {},
     "output_type": "execute_result"
    }
   ],
   "source": [
    "list(range(3))"
   ]
  },
  {
   "cell_type": "code",
   "execution_count": 71,
   "metadata": {},
   "outputs": [
    {
     "data": {
      "text/plain": [
       "range"
      ]
     },
     "execution_count": 71,
     "metadata": {},
     "output_type": "execute_result"
    }
   ],
   "source": [
    "type(range(3))"
   ]
  },
  {
   "cell_type": "code",
   "execution_count": 77,
   "metadata": {},
   "outputs": [
    {
     "data": {
      "text/plain": [
       "'ate 3.141592653589793'"
      ]
     },
     "execution_count": 77,
     "metadata": {},
     "output_type": "execute_result"
    }
   ],
   "source": [
    "import math\n",
    "'ate '+ str(math.pi)"
   ]
  },
  {
   "cell_type": "markdown",
   "metadata": {},
   "source": [
    "#### For loops can be nested\n",
    "\n",
    "_Note_: for more on formatting strings, see: [https://pyformat.info](https://pyformat.info)"
   ]
  },
  {
   "cell_type": "code",
   "execution_count": 68,
   "metadata": {},
   "outputs": [
    {
     "name": "stdout",
     "output_type": "stream",
     "text": [
      "1 * 1 = 1\n",
      "1 * 2 = 2\n",
      "1 * 3 = 3\n",
      "2 * 1 = 2\n",
      "2 * 2 = 4\n",
      "2 * 3 = 6\n",
      "3 * 1 = 3\n",
      "3 * 2 = 6\n",
      "3 * 3 = 9\n"
     ]
    }
   ],
   "source": [
    "for i in range(1, 4):\n",
    "    for j in range(1, 4):\n",
    "        print('%d * %d = %d' % (i, j, i*j))  # Note string formatting here, %d means an integer"
   ]
  },
  {
   "cell_type": "code",
   "execution_count": 239,
   "metadata": {},
   "outputs": [
    {
     "name": "stdout",
     "output_type": "stream",
     "text": [
      "1 * 1 = 1\n",
      "1 * 2 = 2\n",
      "1 * 3 = 3\n",
      "2 * 1 = 2\n",
      "2 * 2 = 4\n",
      "2 * 3 = 6\n",
      "3 * 1 = 3\n",
      "3 * 2 = 6\n",
      "3 * 3 = 9\n"
     ]
    }
   ],
   "source": [
    "for i in range(1, 4):\n",
    "    for j in range(1, 4):\n",
    "        print('{} * {} = {}'.format (i, j, i*j))"
   ]
  },
  {
   "cell_type": "code",
   "execution_count": 236,
   "metadata": {},
   "outputs": [
    {
     "name": "stdout",
     "output_type": "stream",
     "text": [
      "1 * 1 = 1\n",
      "1 * 2 = 2\n",
      "1 * 3 = 3\n",
      "2 * 1 = 2\n",
      "2 * 2 = 4\n",
      "2 * 3 = 6\n",
      "3 * 1 = 3\n",
      "3 * 2 = 6\n",
      "3 * 3 = 9\n"
     ]
    }
   ],
   "source": [
    "early = False\n",
    "\n",
    "for i in range(1, 4):\n",
    "    if early:\n",
    "        break\n",
    "    for j in range(1, 4):\n",
    "        if j == 4:\n",
    "            break\n",
    "        print('%d * %d = %d' % (i, j, i*j))"
   ]
  },
  {
   "cell_type": "markdown",
   "metadata": {},
   "source": [
    "#### You can exit loops early if a condition is met:"
   ]
  },
  {
   "cell_type": "code",
   "execution_count": 69,
   "metadata": {},
   "outputs": [
    {
     "data": {
      "text/plain": [
       "4"
      ]
     },
     "execution_count": 69,
     "metadata": {},
     "output_type": "execute_result"
    }
   ],
   "source": [
    "for i in range(10):\n",
    "    if i == 4:\n",
    "        break\n",
    "i"
   ]
  },
  {
   "cell_type": "markdown",
   "metadata": {},
   "source": [
    "## Pass vs. Continue\n",
    "Continue will jump back to the top of the loop. Pass will continue processing."
   ]
  },
  {
   "cell_type": "code",
   "execution_count": 243,
   "metadata": {},
   "outputs": [
    {
     "name": "stdout",
     "output_type": "stream",
     "text": [
      "1\n",
      "1\n",
      "1\n",
      "1\n",
      "1\n",
      "1\n",
      "1\n",
      "1\n",
      "1\n",
      "1\n"
     ]
    }
   ],
   "source": [
    "\n",
    "for element in range(10):\n",
    "    if not element:\n",
    "        pass\n",
    "    print(1)\n"
   ]
  },
  {
   "cell_type": "code",
   "execution_count": 244,
   "metadata": {},
   "outputs": [
    {
     "name": "stdout",
     "output_type": "stream",
     "text": [
      "1\n",
      "1\n",
      "1\n",
      "1\n",
      "1\n",
      "1\n",
      "1\n",
      "1\n",
      "1\n"
     ]
    }
   ],
   "source": [
    "\n",
    "for element in range(10):\n",
    "   if not element:\n",
    "       continue\n",
    "   print(1)"
   ]
  },
  {
   "cell_type": "markdown",
   "metadata": {},
   "source": [
    "#### You can skip stuff in a loop with `continue`"
   ]
  },
  {
   "cell_type": "code",
   "execution_count": 240,
   "metadata": {},
   "outputs": [
    {
     "name": "stdout",
     "output_type": "stream",
     "text": [
      "40\n"
     ]
    }
   ],
   "source": [
    "sum = 0\n",
    "for i in range(10):\n",
    "    if (i == 5):\n",
    "        continue\n",
    "    else:\n",
    "        sum += i\n",
    "print(sum)"
   ]
  },
  {
   "cell_type": "markdown",
   "metadata": {},
   "source": [
    "#### There is a unique language feature call ``for...else``"
   ]
  },
  {
   "cell_type": "code",
   "execution_count": 78,
   "metadata": {},
   "outputs": [
    {
     "name": "stdout",
     "output_type": "stream",
     "text": [
      "final i = 9, and sum = 45\n"
     ]
    }
   ],
   "source": [
    "sum = 0\n",
    "for i in range(10):\n",
    "    sum += i\n",
    "else:\n",
    "    print('final i = %d, and sum = %d' % (i, sum))"
   ]
  },
  {
   "cell_type": "markdown",
   "metadata": {},
   "source": [
    "#### You can iterate over letters in a string"
   ]
  },
  {
   "cell_type": "code",
   "execution_count": 257,
   "metadata": {},
   "outputs": [
    {
     "name": "stdout",
     "output_type": "stream",
     "text": [
      "D\n",
      "I\n",
      "R\n",
      "E\n",
      "C\n",
      "T\n"
     ]
    }
   ],
   "source": [
    "my_string = \"DIRECT\"\n",
    "for c in my_string:\n",
    "    print(c)"
   ]
  },
  {
   "cell_type": "markdown",
   "metadata": {},
   "source": [
    "<hr>\n",
    "## Hacky Hack Time with Ifs, Fors, Lists, and imports!\n",
    "\n",
    "Objective: Replace the `bash magic` bits for downloading the HCEPDB data and uncompressing it with Python code.  Since the download is big, check if the zip file exists first before downloading it again.  Then load it into a pandas dataframe.\n",
    "\n",
    "Notes:\n",
    "* The `os` package has tools for checking if a file exists: ``os.path.exists``\n",
    "```\n",
    "import os\n",
    "filename = 'HCEPDB_moldata.zip'\n",
    "if os.path.exists(filename):\n",
    "    print(\"wahoo!\")\n",
    "```\n",
    "* Use the `requests` package to get the file given a url (got this from the requests docs)\n",
    "```\n",
    "import requests\n",
    "url = 'http://faculty.washington.edu/dacb/HCEPDB_moldata.zip'\n",
    "req = requests.get(url)\n",
    "assert req.status_code == 200 # if the download failed, this line will generate an error\n",
    "with open(filename, 'wb') as f:\n",
    "    f.write(req.content)\n",
    "```\n",
    "* Use the `zipfile` package to decompress the file while reading it into `pandas`\n",
    "```\n",
    "import pandas as pd\n",
    "import zipfile\n",
    "csv_filename = 'HCEPDB_moldata.csv'\n",
    "zf = zipfile.ZipFile(filename)\n",
    "data = pd.read_csv(zf.open(csv_filename))\n",
    "```\n"
   ]
  },
  {
   "cell_type": "code",
   "execution_count": 83,
   "metadata": {},
   "outputs": [
    {
     "name": "stdout",
     "output_type": "stream",
     "text": [
      "dsmcer-hw1-reconjohn\n",
      "dsmcer-hw2-reconjohn\n",
      "HCEPDB\n",
      "Jupyter Notebook In Depth.ipynb\n",
      "L2.Simple_Breakout.ipynb\n",
      "L2_Visualization.ipynb\n",
      "L3_Descriptive_Statistics.ipynb\n",
      "L4.Python.ipynb\n",
      "L5.Procedural_Python.ipynb\n",
      "molecules\n",
      "seds-hw1-reconjohn\n",
      "seds-hw2-reconjohn\n",
      "setup.sh\n"
     ]
    }
   ],
   "source": [
    "!ls"
   ]
  },
  {
   "cell_type": "code",
   "execution_count": 93,
   "metadata": {},
   "outputs": [],
   "source": [
    "import os\n",
    "import requests\n",
    "import pandas as pd\n",
    "import zipfile"
   ]
  },
  {
   "cell_type": "code",
   "execution_count": 263,
   "metadata": {},
   "outputs": [
    {
     "name": "stdout",
     "output_type": "stream",
     "text": [
      "wahoo!\n"
     ]
    }
   ],
   "source": [
    "filename = 'HCEPDB_moldata.zip'\n",
    "if os.path.exists(filename):\n",
    "  print(\"wahoo!\")"
   ]
  },
  {
   "cell_type": "code",
   "execution_count": null,
   "metadata": {},
   "outputs": [],
   "source": [
    "url = 'http://faculty.washington.edu/dacb/HCEPDB_moldata.zip'\n",
    "req = requests.get(url)\n",
    "assert req.status_code == 200 # if the download failed, this line will generate an error\n",
    "with open(filename, 'wb') as f:\n",
    "  f.write(req.content)"
   ]
  },
  {
   "cell_type": "code",
   "execution_count": 264,
   "metadata": {},
   "outputs": [],
   "source": [
    "assert os.path.exists(filename)"
   ]
  },
  {
   "cell_type": "code",
   "execution_count": 265,
   "metadata": {},
   "outputs": [
    {
     "data": {
      "text/plain": [
       "True"
      ]
     },
     "execution_count": 265,
     "metadata": {},
     "output_type": "execute_result"
    }
   ],
   "source": [
    "os.path.exists(filename)"
   ]
  },
  {
   "cell_type": "code",
   "execution_count": 90,
   "metadata": {},
   "outputs": [
    {
     "name": "stdout",
     "output_type": "stream",
     "text": [
      "Succeeded!\n"
     ]
    }
   ],
   "source": [
    "filename = 'HCEPDB_moldata.zip'\n",
    "if os.path.exists(filename):\n",
    "  print(\"Succeeded!\")"
   ]
  },
  {
   "cell_type": "code",
   "execution_count": 94,
   "metadata": {},
   "outputs": [],
   "source": [
    "csv_filename = 'HCEPDB_moldata.csv'\n",
    "zf = zipfile.ZipFile(filename)\n",
    "data = pd.read_csv(zf.open(csv_filename))"
   ]
  },
  {
   "cell_type": "code",
   "execution_count": 95,
   "metadata": {},
   "outputs": [
    {
     "data": {
      "text/html": [
       "<div>\n",
       "<style scoped>\n",
       "    .dataframe tbody tr th:only-of-type {\n",
       "        vertical-align: middle;\n",
       "    }\n",
       "\n",
       "    .dataframe tbody tr th {\n",
       "        vertical-align: top;\n",
       "    }\n",
       "\n",
       "    .dataframe thead th {\n",
       "        text-align: right;\n",
       "    }\n",
       "</style>\n",
       "<table border=\"1\" class=\"dataframe\">\n",
       "  <thead>\n",
       "    <tr style=\"text-align: right;\">\n",
       "      <th></th>\n",
       "      <th>id</th>\n",
       "      <th>SMILES_str</th>\n",
       "      <th>stoich_str</th>\n",
       "      <th>mass</th>\n",
       "      <th>pce</th>\n",
       "      <th>voc</th>\n",
       "      <th>jsc</th>\n",
       "      <th>e_homo_alpha</th>\n",
       "      <th>e_gap_alpha</th>\n",
       "      <th>e_lumo_alpha</th>\n",
       "      <th>tmp_smiles_str</th>\n",
       "    </tr>\n",
       "  </thead>\n",
       "  <tbody>\n",
       "    <tr>\n",
       "      <th>0</th>\n",
       "      <td>655365</td>\n",
       "      <td>C1C=CC=C1c1cc2[se]c3c4occc4c4nsnc4c3c2cn1</td>\n",
       "      <td>C18H9N3OSSe</td>\n",
       "      <td>394.3151</td>\n",
       "      <td>5.161953</td>\n",
       "      <td>0.867601</td>\n",
       "      <td>91.567575</td>\n",
       "      <td>-5.467601</td>\n",
       "      <td>2.022944</td>\n",
       "      <td>-3.444656</td>\n",
       "      <td>C1=CC=C(C1)c1cc2[se]c3c4occc4c4nsnc4c3c2cn1</td>\n",
       "    </tr>\n",
       "    <tr>\n",
       "      <th>1</th>\n",
       "      <td>1245190</td>\n",
       "      <td>C1C=CC=C1c1cc2[se]c3c(ncc4ccccc34)c2c2=C[SiH2]...</td>\n",
       "      <td>C22H15NSeSi</td>\n",
       "      <td>400.4135</td>\n",
       "      <td>5.261398</td>\n",
       "      <td>0.504824</td>\n",
       "      <td>160.401549</td>\n",
       "      <td>-5.104824</td>\n",
       "      <td>1.630750</td>\n",
       "      <td>-3.474074</td>\n",
       "      <td>C1=CC=C(C1)c1cc2[se]c3c(ncc4ccccc34)c2c2=C[SiH...</td>\n",
       "    </tr>\n",
       "    <tr>\n",
       "      <th>2</th>\n",
       "      <td>21847</td>\n",
       "      <td>C1C=c2ccc3c4c[nH]cc4c4c5[SiH2]C(=Cc5oc4c3c2=C1...</td>\n",
       "      <td>C24H17NOSi</td>\n",
       "      <td>363.4903</td>\n",
       "      <td>0.000000</td>\n",
       "      <td>0.000000</td>\n",
       "      <td>197.474780</td>\n",
       "      <td>-4.539526</td>\n",
       "      <td>1.462158</td>\n",
       "      <td>-3.077368</td>\n",
       "      <td>C1=CC=C(C1)C1=Cc2oc3c(c2[SiH2]1)c1c[nH]cc1c1cc...</td>\n",
       "    </tr>\n",
       "    <tr>\n",
       "      <th>3</th>\n",
       "      <td>65553</td>\n",
       "      <td>[SiH2]1C=CC2=C1C=C([SiH2]2)C1=Cc2[se]ccc2[SiH2]1</td>\n",
       "      <td>C12H12SeSi3</td>\n",
       "      <td>319.4448</td>\n",
       "      <td>6.138294</td>\n",
       "      <td>0.630274</td>\n",
       "      <td>149.887545</td>\n",
       "      <td>-5.230274</td>\n",
       "      <td>1.682250</td>\n",
       "      <td>-3.548025</td>\n",
       "      <td>C1=CC2=C([SiH2]1)C=C([SiH2]2)C1=Cc2[se]ccc2[Si...</td>\n",
       "    </tr>\n",
       "    <tr>\n",
       "      <th>4</th>\n",
       "      <td>720918</td>\n",
       "      <td>C1C=c2c3ccsc3c3[se]c4cc(oc4c3c2=C1)C1=CC=CC1</td>\n",
       "      <td>C20H12OSSe</td>\n",
       "      <td>379.3398</td>\n",
       "      <td>1.991366</td>\n",
       "      <td>0.242119</td>\n",
       "      <td>126.581347</td>\n",
       "      <td>-4.842119</td>\n",
       "      <td>1.809439</td>\n",
       "      <td>-3.032680</td>\n",
       "      <td>C1=CC=C(C1)c1cc2[se]c3c4sccc4c4=CCC=c4c3c2o1</td>\n",
       "    </tr>\n",
       "  </tbody>\n",
       "</table>\n",
       "</div>"
      ],
      "text/plain": [
       "        id                                         SMILES_str   stoich_str  \\\n",
       "0   655365          C1C=CC=C1c1cc2[se]c3c4occc4c4nsnc4c3c2cn1  C18H9N3OSSe   \n",
       "1  1245190  C1C=CC=C1c1cc2[se]c3c(ncc4ccccc34)c2c2=C[SiH2]...  C22H15NSeSi   \n",
       "2    21847  C1C=c2ccc3c4c[nH]cc4c4c5[SiH2]C(=Cc5oc4c3c2=C1...   C24H17NOSi   \n",
       "3    65553   [SiH2]1C=CC2=C1C=C([SiH2]2)C1=Cc2[se]ccc2[SiH2]1  C12H12SeSi3   \n",
       "4   720918       C1C=c2c3ccsc3c3[se]c4cc(oc4c3c2=C1)C1=CC=CC1   C20H12OSSe   \n",
       "\n",
       "       mass       pce       voc         jsc  e_homo_alpha  e_gap_alpha  \\\n",
       "0  394.3151  5.161953  0.867601   91.567575     -5.467601     2.022944   \n",
       "1  400.4135  5.261398  0.504824  160.401549     -5.104824     1.630750   \n",
       "2  363.4903  0.000000  0.000000  197.474780     -4.539526     1.462158   \n",
       "3  319.4448  6.138294  0.630274  149.887545     -5.230274     1.682250   \n",
       "4  379.3398  1.991366  0.242119  126.581347     -4.842119     1.809439   \n",
       "\n",
       "   e_lumo_alpha                                     tmp_smiles_str  \n",
       "0     -3.444656        C1=CC=C(C1)c1cc2[se]c3c4occc4c4nsnc4c3c2cn1  \n",
       "1     -3.474074  C1=CC=C(C1)c1cc2[se]c3c(ncc4ccccc34)c2c2=C[SiH...  \n",
       "2     -3.077368  C1=CC=C(C1)C1=Cc2oc3c(c2[SiH2]1)c1c[nH]cc1c1cc...  \n",
       "3     -3.548025  C1=CC2=C([SiH2]1)C=C([SiH2]2)C1=Cc2[se]ccc2[Si...  \n",
       "4     -3.032680       C1=CC=C(C1)c1cc2[se]c3c4sccc4c4=CCC=c4c3c2o1  "
      ]
     },
     "execution_count": 95,
     "metadata": {},
     "output_type": "execute_result"
    }
   ],
   "source": [
    "data.head()"
   ]
  },
  {
   "cell_type": "markdown",
   "metadata": {},
   "source": [
    "### Now, use your code from above for the following URLs and filenames\n",
    "\n",
    "| URL | filename | csv_filename |\n",
    "|-----|----------|--------------|\n",
    "| http://faculty.washington.edu/dacb/HCEPDB_moldata_set1.zip | HCEPDB_moldata_set1.zip | HCEPDB_moldata_set1.csv |\n",
    "| http://faculty.washington.edu/dacb/HCEPDB_moldata_set2.zip | HCEPDB_moldata_set2.zip | HCEPDB_moldata_set2.csv |\n",
    "| http://faculty.washington.edu/dacb/HCEPDB_moldata_set3.zip | HCEPDB_moldata_set3.zip | HCEPDB_moldata_set3.csv |\n",
    "\n",
    "What pieces of the data structures and flow control that we talked about earlier can you use?"
   ]
  },
  {
   "cell_type": "code",
   "execution_count": null,
   "metadata": {
    "collapsed": true
   },
   "outputs": [],
   "source": []
  },
  {
   "cell_type": "code",
   "execution_count": null,
   "metadata": {
    "collapsed": true
   },
   "outputs": [],
   "source": []
  },
  {
   "cell_type": "code",
   "execution_count": null,
   "metadata": {
    "collapsed": true
   },
   "outputs": [],
   "source": []
  },
  {
   "cell_type": "code",
   "execution_count": null,
   "metadata": {
    "collapsed": true
   },
   "outputs": [],
   "source": []
  },
  {
   "cell_type": "code",
   "execution_count": null,
   "metadata": {
    "collapsed": true
   },
   "outputs": [],
   "source": []
  },
  {
   "cell_type": "code",
   "execution_count": null,
   "metadata": {
    "collapsed": true
   },
   "outputs": [],
   "source": []
  },
  {
   "cell_type": "code",
   "execution_count": null,
   "metadata": {
    "collapsed": true
   },
   "outputs": [],
   "source": []
  },
  {
   "cell_type": "code",
   "execution_count": null,
   "metadata": {
    "collapsed": true
   },
   "outputs": [],
   "source": []
  },
  {
   "cell_type": "markdown",
   "metadata": {},
   "source": [
    "How did you solve this problem?"
   ]
  },
  {
   "cell_type": "markdown",
   "metadata": {},
   "source": []
  },
  {
   "cell_type": "markdown",
   "metadata": {},
   "source": [
    "<hr>"
   ]
  },
  {
   "cell_type": "markdown",
   "metadata": {},
   "source": [
    "### Functions\n",
    "\n",
    "For loops let you repeat some code for every item in a list.  Functions are similar in that they run the same lines of code for new values of some variable.  They are different in that functions are not limited to looping over items.\n",
    "\n",
    "Functions are a critical part of writing easy to read, reusable code.\n",
    "\n",
    "Create a function like:\n",
    "```\n",
    "def function_name (parameters):\n",
    "    \"\"\"\n",
    "    optional docstring\n",
    "    \"\"\"\n",
    "    function expressions\n",
    "    return [variable]\n",
    "```\n",
    "\n",
    "_Note:_ Sometimes I use the word argument in place of parameter.\n",
    "\n",
    "Here is a simple example.  It prints a string that was passed in and returns nothing."
   ]
  },
  {
   "cell_type": "code",
   "execution_count": 96,
   "metadata": {},
   "outputs": [],
   "source": [
    "def print_string(str):\n",
    "    \"\"\"This prints out a string passed as the parameter.\"\"\"\n",
    "    print(str)\n",
    "    return"
   ]
  },
  {
   "cell_type": "markdown",
   "metadata": {},
   "source": [
    "To call the function, use:\n",
    "```\n",
    "print_string(\"Dave is awesome!\")\n",
    "```\n",
    "\n",
    "_Note:_ The function has to be defined before you can call it!"
   ]
  },
  {
   "cell_type": "code",
   "execution_count": 97,
   "metadata": {},
   "outputs": [
    {
     "name": "stdout",
     "output_type": "stream",
     "text": [
      "Dave is awesome!\n"
     ]
    }
   ],
   "source": [
    "print_string(\"Dave is awesome!\")"
   ]
  },
  {
   "cell_type": "markdown",
   "metadata": {},
   "source": [
    "If you don't provide an argument or too many, you get an error."
   ]
  },
  {
   "cell_type": "code",
   "execution_count": 266,
   "metadata": {},
   "outputs": [
    {
     "data": {
      "text/plain": [
       "['I', 'love', 'furry', 'cabbages']"
      ]
     },
     "execution_count": 266,
     "metadata": {},
     "output_type": "execute_result"
    }
   ],
   "source": [
    "my_list"
   ]
  },
  {
   "cell_type": "markdown",
   "metadata": {},
   "source": [
    "Parameters (or arguments) in Python are all passed by reference.  This means that if you modify the parameters in the function, they are modified outside of the function.\n",
    "\n",
    "See the following example:\n",
    "\n",
    "```\n",
    "def change_list(my_list):\n",
    "   \"\"\"This changes a passed list into this function\"\"\"\n",
    "   my_list.append('four');\n",
    "   print('list inside the function: ', my_list)\n",
    "   return\n",
    "\n",
    "my_list = [1, 2, 3];\n",
    "print('list before the function: ', my_list)\n",
    "change_list(my_list);\n",
    "print('list after the function: ', my_list)\n",
    "```"
   ]
  },
  {
   "cell_type": "code",
   "execution_count": 102,
   "metadata": {},
   "outputs": [
    {
     "name": "stdout",
     "output_type": "stream",
     "text": [
      "list before the function:  [1, 2, 3]\n",
      "list inside the function:  [1, 2, 3, 'four']\n",
      "list after the function:  [1, 2, 3, 'four']\n"
     ]
    }
   ],
   "source": [
    "def change_list(my_list):\n",
    "   \"\"\"This changes a passed list into this function\"\"\"\n",
    "   my_list.append('four');\n",
    "   print('list inside the function: ', my_list)\n",
    "   return\n",
    "\n",
    "my_list = [1, 2, 3];\n",
    "print('list before the function: ', my_list)\n",
    "change_list(my_list);\n",
    "print('list after the function: ', my_list)"
   ]
  },
  {
   "cell_type": "markdown",
   "metadata": {},
   "source": [
    "Variables have scope: `global` and `local`\n",
    "\n",
    "In a function, new variables that you create are not saved when the function returns - these are `local` variables.  Variables defined outside of the function can be accessed but not changed - these are `global` variables, _Note_ there is a way to do this with the `global` keyword.  Generally, the use of `global` variables is not encouraged, instead use parameters.\n",
    "\n",
    "```\n",
    "my_global_1 = 'bad idea'\n",
    "my_global_2 = 'another bad one'\n",
    "my_global_3 = 'better idea'\n",
    "\n",
    "def my_function():\n",
    "    print(my_global)\n",
    "    my_global_2 = 'broke your global, man!'\n",
    "    global my_global_3\n",
    "    my_global_3 = 'still a better idea'\n",
    "    return\n",
    "    \n",
    "my_function()\n",
    "print(my_global_2)\n",
    "print(my_global_3)\n",
    "```"
   ]
  },
  {
   "cell_type": "code",
   "execution_count": 100,
   "metadata": {},
   "outputs": [
    {
     "name": "stdout",
     "output_type": "stream",
     "text": [
      "bad idea\n",
      "another bad one\n",
      "still a better idea\n"
     ]
    }
   ],
   "source": [
    "my_global_1 = 'bad idea'\n",
    "my_global_2 = 'another bad one'\n",
    "my_global_3 = 'better idea'\n",
    "\n",
    "def my_function():\n",
    "    print(my_global_1)\n",
    "    my_global_2 = 'broke your global, man!'\n",
    "    global my_global_3\n",
    "    my_global_3 = 'still a better idea'\n",
    "    return\n",
    "\n",
    "my_function()\n",
    "print(my_global_2)\n",
    "print(my_global_3)"
   ]
  },
  {
   "cell_type": "markdown",
   "metadata": {},
   "source": [
    "In general, you want to use parameters to provide data to a function and return a result with the `return`. E.g.\n",
    "\n",
    "```\n",
    "def sum(x, y):\n",
    "    my_sum = x + y\n",
    "    return my_sum\n",
    "```\n",
    "\n",
    "If you are going to return multiple objects, what data structure that we talked about can be used?  Give and example below."
   ]
  },
  {
   "cell_type": "code",
   "execution_count": null,
   "metadata": {},
   "outputs": [],
   "source": [
    "def sum(x, y):\n",
    "    my_sum = x + y\n",
    "    return my_sum"
   ]
  },
  {
   "cell_type": "code",
   "execution_count": 107,
   "metadata": {},
   "outputs": [],
   "source": [
    "xy_sum = sum(3,4)"
   ]
  },
  {
   "cell_type": "code",
   "execution_count": 108,
   "metadata": {},
   "outputs": [
    {
     "name": "stdout",
     "output_type": "stream",
     "text": [
      "7\n"
     ]
    }
   ],
   "source": [
    "print(xy_sum)"
   ]
  },
  {
   "cell_type": "markdown",
   "metadata": {},
   "source": [
    "### Parameters have four different types:\n",
    "\n",
    "| type | behavior |\n",
    "|------|----------|\n",
    "| required | positional, must be present or error, e.g. `my_func(first_name, last_name)` |\n",
    "| keyword | position independent, e.g. `my_func(first_name, last_name)` can be called `my_func(first_name='Dave', last_name='Beck')` or `my_func(last_name='Beck', first_name='Dave')` |\n",
    "| default | keyword params that default to a value if not provided |\n"
   ]
  },
  {
   "cell_type": "code",
   "execution_count": 111,
   "metadata": {},
   "outputs": [],
   "source": [
    "def print_name(first, last='the Clown'):\n",
    "    print('Your name is %s %s' % (first, last))\n",
    "    return"
   ]
  },
  {
   "cell_type": "markdown",
   "metadata": {},
   "source": [
    "Play around with the above function."
   ]
  },
  {
   "cell_type": "code",
   "execution_count": 112,
   "metadata": {},
   "outputs": [
    {
     "name": "stdout",
     "output_type": "stream",
     "text": [
      "Your name is Dave Beck\n"
     ]
    }
   ],
   "source": [
    "print_name('Dave', 'Beck')"
   ]
  },
  {
   "cell_type": "code",
   "execution_count": 113,
   "metadata": {},
   "outputs": [
    {
     "name": "stdout",
     "output_type": "stream",
     "text": [
      "Your name is Dorkus the Clown\n"
     ]
    }
   ],
   "source": [
    "print_name('Dorkus')"
   ]
  },
  {
   "cell_type": "markdown",
   "metadata": {},
   "source": [
    "Functions can contain any code that you put anywhere else including:\n",
    "* if...elif...else\n",
    "* for...else\n",
    "* while\n",
    "* other function calls"
   ]
  },
  {
   "cell_type": "code",
   "execution_count": 114,
   "metadata": {},
   "outputs": [],
   "source": [
    "def print_name_age(first, last, age):\n",
    "    print_name(first, last)\n",
    "    print('Your age is %d' % (age))\n",
    "    if age > 35:\n",
    "        print('You are really old.')\n",
    "    return"
   ]
  },
  {
   "cell_type": "code",
   "execution_count": 267,
   "metadata": {},
   "outputs": [
    {
     "name": "stdout",
     "output_type": "stream",
     "text": [
      "Your name is Dave Beck\n",
      "Your age is 40\n",
      "You are really old.\n"
     ]
    }
   ],
   "source": [
    "print_name_age(age=40, last='Beck', first='Dave')"
   ]
  },
  {
   "cell_type": "code",
   "execution_count": null,
   "metadata": {
    "collapsed": true
   },
   "outputs": [],
   "source": []
  },
  {
   "cell_type": "markdown",
   "metadata": {},
   "source": [
    "#### How would you functionalize the above code for downloading, unzipping, and making a dataframe?"
   ]
  },
  {
   "cell_type": "code",
   "execution_count": null,
   "metadata": {
    "collapsed": true
   },
   "outputs": [],
   "source": []
  },
  {
   "cell_type": "code",
   "execution_count": null,
   "metadata": {
    "collapsed": true
   },
   "outputs": [],
   "source": []
  },
  {
   "cell_type": "markdown",
   "metadata": {},
   "source": [
    "Once you have some code that is functionalized and not going to change, you can move it to a file that ends in `.py`, check it into version control, import it into your notebook and use it!\n",
    "\n"
   ]
  },
  {
   "cell_type": "code",
   "execution_count": null,
   "metadata": {
    "collapsed": true
   },
   "outputs": [],
   "source": []
  },
  {
   "cell_type": "code",
   "execution_count": null,
   "metadata": {
    "collapsed": true
   },
   "outputs": [],
   "source": []
  },
  {
   "cell_type": "markdown",
   "metadata": {},
   "source": [
    "Homework:\n",
    "Save your functions to `hcepdb_utils.py`.  Import the functions and use them to rewrite HW1.  This will be laid out in the homework repo for HW2.  Check the website."
   ]
  },
  {
   "cell_type": "code",
   "execution_count": null,
   "metadata": {
    "collapsed": true
   },
   "outputs": [],
   "source": []
  }
 ],
 "metadata": {
  "kernelspec": {
   "display_name": "Python 3",
   "language": "python",
   "name": "python3"
  },
  "language_info": {
   "codemirror_mode": {
    "name": "ipython",
    "version": 3
   },
   "file_extension": ".py",
   "mimetype": "text/x-python",
   "name": "python",
   "nbconvert_exporter": "python",
   "pygments_lexer": "ipython3",
   "version": "3.7.0"
  }
 },
 "nbformat": 4,
 "nbformat_minor": 1
}

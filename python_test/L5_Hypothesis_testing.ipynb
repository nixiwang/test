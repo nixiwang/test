{
 "cells": [
  {
   "cell_type": "markdown",
   "metadata": {},
   "source": [
    "### Statistical tests in Python\n",
    "\n",
    "Today I'm giving you some data as files in URLs.  You will need to load those data into Python.  You can do this many different ways, though some require less code than others.\n",
    "\n",
    "In this exercise, you will need to:\n",
    "* Plot some data with error bars\n",
    "* * s.d.\n",
    "* * s.e.m.\n",
    "* * 95 % CI\n",
    "* Perform one sample _t_-tests of means against a reference mean\n",
    "* Perform two sample _t_-tests of means between two treatments\n",
    "* Perform paired _t_-tests of means from before and after treatment\n",
    "\n",
    "Some modules you will probably need:\n",
    "```\n",
    "import matplotlib.pyplot as plt\n",
    "import numpy as np\n",
    "import pandas as pd\n",
    "import scipy\n",
    "```\n",
    "\n",
    "As you have noticed I'm giving you less and less starter code.  This is intentional and is meant for you to practice your Google skills for finding the right modules and example code.  Have fun!\n",
    "\n",
    "Start with your imports..."
   ]
  },
  {
   "cell_type": "code",
   "execution_count": 1,
   "metadata": {},
   "outputs": [],
   "source": [
    "import matplotlib.pyplot as plt\n",
    "import numpy as np\n",
    "import pandas as pd\n",
    "import scipy\n",
    "import scipy.stats as stats\n",
    "import seaborn as sns\n",
    "\n",
    "%matplotlib inline"
   ]
  },
  {
   "cell_type": "markdown",
   "metadata": {},
   "source": [
    "#### Data sets\n",
    "\n",
    "* Data set 1: [https://raw.githubusercontent.com/UWDIRECT/UWDIRECT.github.io/master/Wi18_content/DSMCER/L8.dataset1.txt](https://raw.githubusercontent.com/UWDIRECT/UWDIRECT.github.io/master/Wi18_content/DSMCER/L8.dataset1.txt)\n",
    "* Data set 2: [https://raw.githubusercontent.com/UWDIRECT/UWDIRECT.github.io/master/Wi18_content/DSMCER/L8.dataset2.txt](https://raw.githubusercontent.com/UWDIRECT/UWDIRECT.github.io/master/Wi18_content/DSMCER/L8.dataset2.txt)\n",
    "* Data set 3: [https://raw.githubusercontent.com/UWDIRECT/UWDIRECT.github.io/master/Wi18_content/DSMCER/L8.dataset3.txt](https://raw.githubusercontent.com/UWDIRECT/UWDIRECT.github.io/master/Wi18_content/DSMCER/L8.dataset3.txt)\n",
    "\n",
    "Begin by downloading the data sets and loading them into pandas, numpy, or whatevs floats your Python boat."
   ]
  },
  {
   "cell_type": "code",
   "execution_count": 2,
   "metadata": {},
   "outputs": [
    {
     "data": {
      "text/html": [
       "<div>\n",
       "<style scoped>\n",
       "    .dataframe tbody tr th:only-of-type {\n",
       "        vertical-align: middle;\n",
       "    }\n",
       "\n",
       "    .dataframe tbody tr th {\n",
       "        vertical-align: top;\n",
       "    }\n",
       "\n",
       "    .dataframe thead th {\n",
       "        text-align: right;\n",
       "    }\n",
       "</style>\n",
       "<table border=\"1\" class=\"dataframe\">\n",
       "  <thead>\n",
       "    <tr style=\"text-align: right;\">\n",
       "      <th></th>\n",
       "      <th>data</th>\n",
       "    </tr>\n",
       "  </thead>\n",
       "  <tbody>\n",
       "    <tr>\n",
       "      <th>0</th>\n",
       "      <td>34.490030</td>\n",
       "    </tr>\n",
       "    <tr>\n",
       "      <th>1</th>\n",
       "      <td>6.736579</td>\n",
       "    </tr>\n",
       "    <tr>\n",
       "      <th>2</th>\n",
       "      <td>19.580486</td>\n",
       "    </tr>\n",
       "    <tr>\n",
       "      <th>3</th>\n",
       "      <td>41.672809</td>\n",
       "    </tr>\n",
       "    <tr>\n",
       "      <th>4</th>\n",
       "      <td>62.622045</td>\n",
       "    </tr>\n",
       "  </tbody>\n",
       "</table>\n",
       "</div>"
      ],
      "text/plain": [
       "        data\n",
       "0  34.490030\n",
       "1   6.736579\n",
       "2  19.580486\n",
       "3  41.672809\n",
       "4  62.622045"
      ]
     },
     "execution_count": 2,
     "metadata": {},
     "output_type": "execute_result"
    }
   ],
   "source": [
    "d1 = pd.read_csv('https://raw.githubusercontent.com/UWDIRECT/UWDIRECT.github.io/master/Wi18_content/DSMCER/L8.dataset1.txt'\n",
    "                , names=['data'])\n",
    "\n",
    "d1.head()"
   ]
  },
  {
   "cell_type": "markdown",
   "metadata": {},
   "source": [
    "\n",
    "Let's continue by making three figures (one for each data set) with three panels each.  The first panel should plot the data with a error bars as the standard deviation.  The second panel should show the error bars as the s.e.m.  The final panel should show the error bar with the 95% CI. This last panel will be tough and may actually be easier to do later.  What kind of plot will you use?  Columns?  Bars?  Boxplot?  \n",
    "\n",
    "Hint: USE A FUNCTION!  Not a subtle hint.  But you will run essentially the same code for all three data sets so a function makes sense, riiiight?!\n",
    "\n",
    "Create the function:"
   ]
  },
  {
   "cell_type": "code",
   "execution_count": 4,
   "metadata": {},
   "outputs": [
    {
     "data": {
      "text/plain": [
       "(5, 1)"
      ]
     },
     "execution_count": 4,
     "metadata": {},
     "output_type": "execute_result"
    }
   ],
   "source": [
    "d1.shape"
   ]
  },
  {
   "cell_type": "code",
   "execution_count": 5,
   "metadata": {},
   "outputs": [
    {
     "data": {
      "text/plain": [
       "array([[<matplotlib.axes._subplots.AxesSubplot object at 0x000001FA4911E208>]],\n",
       "      dtype=object)"
      ]
     },
     "execution_count": 5,
     "metadata": {},
     "output_type": "execute_result"
    },
    {
     "data": {
      "image/png": "[encoded data removed]",
      "text/plain": [
       "<Figure size 432x288 with 1 Axes>"
      ]
     },
     "metadata": {
      "needs_background": "light"
     },
     "output_type": "display_data"
    }
   ],
   "source": [
    "d1.hist()"
   ]
  },
  {
   "cell_type": "code",
   "execution_count": 6,
   "metadata": {},
   "outputs": [
    {
     "data": {
      "text/plain": [
       "<matplotlib.axes._subplots.AxesSubplot at 0x1fa493eacc0>"
      ]
     },
     "execution_count": 6,
     "metadata": {},
     "output_type": "execute_result"
    },
    {
     "data": {
      "image/png": "[encoded data removed]",
      "text/plain": [
       "<Figure size 432x288 with 1 Axes>"
      ]
     },
     "metadata": {
      "needs_background": "light"
     },
     "output_type": "display_data"
    }
   ],
   "source": [
    "d1.plot()"
   ]
  },
  {
   "cell_type": "code",
   "execution_count": 26,
   "metadata": {},
   "outputs": [
    {
     "data": {
      "text/plain": [
       "data    33.02039\n",
       "dtype: float64"
      ]
     },
     "execution_count": 26,
     "metadata": {},
     "output_type": "execute_result"
    }
   ],
   "source": [
    "d1.mean().values[0]\n",
    "d1.mean()"
   ]
  },
  {
   "cell_type": "code",
   "execution_count": 30,
   "metadata": {},
   "outputs": [
    {
     "data": {
      "text/plain": [
       "1.9839715184496334"
      ]
     },
     "execution_count": 30,
     "metadata": {},
     "output_type": "execute_result"
    }
   ],
   "source": [
    "stats.t.ppf((1 + 0.95)/2, 100)"
   ]
  },
  {
   "cell_type": "code",
   "execution_count": 32,
   "metadata": {},
   "outputs": [],
   "source": [
    "def pointplot(data, label='d1'):\n",
    "    mean = data.mean().values[0]\n",
    "    std = data.std().values[0]\n",
    "    sem = data.sem().values[0]\n",
    "    n = data.count().values[0]\n",
    "    h = sem * stats.t.ppf((1 + 0.95)/2, n - 1)\n",
    "    err = [std, sem, h]\n",
    "    \n",
    "    fig, ax = plt.subplots(nrows=1, ncols=3, figsize=(9, 5))\n",
    "    x = 1\n",
    "    y = data.values\n",
    "    w = 0.1\n",
    "    xvals = x + np.random.choice(np.linspace(-w, w, n+1), replace=False, size=n)\n",
    "\n",
    "    for i in range(3):\n",
    "        ax[i].bar(x,\n",
    "               height=mean,\n",
    "               yerr=err[i],    # error bars\n",
    "               capsize=12, # error bar cap width in points\n",
    "               width=w,    # bar width\n",
    "               tick_label=[label],\n",
    "               alpha=0)\n",
    "\n",
    "        ax[i].scatter(xvals, y, color='b', s=100)\n",
    "        ax[i].set_xlim([0.75, 1.25])"
   ]
  },
  {
   "cell_type": "markdown",
   "metadata": {},
   "source": [
    "Call it on data set 1"
   ]
  },
  {
   "cell_type": "code",
   "execution_count": 33,
   "metadata": {},
   "outputs": [
    {
     "data": {
      "image/png": "[encoded data removed]",
      "text/plain": [
       "<Figure size 648x360 with 3 Axes>"
      ]
     },
     "metadata": {
      "needs_background": "light"
     },
     "output_type": "display_data"
    }
   ],
   "source": [
    "pointplot(d1, label='d1')"
   ]
  },
  {
   "cell_type": "markdown",
   "metadata": {},
   "source": [
    "Call it on data set 2"
   ]
  },
  {
   "cell_type": "code",
   "execution_count": 43,
   "metadata": {},
   "outputs": [
    {
     "data": {
      "image/png": "[encoded data removed]",
      "text/plain": [
       "<Figure size 648x360 with 3 Axes>"
      ]
     },
     "metadata": {
      "needs_background": "light"
     },
     "output_type": "display_data"
    }
   ],
   "source": [
    "d2 = pd.read_csv('https://raw.githubusercontent.com/UWDIRECT/UWDIRECT.github.io/master/Wi18_content/DSMCER/L8.dataset2.txt'\n",
    "                , names=['data'])\n",
    "pointplot(d2, label='d2')"
   ]
  },
  {
   "cell_type": "markdown",
   "metadata": {},
   "source": [
    "Call it on data set 3"
   ]
  },
  {
   "cell_type": "code",
   "execution_count": 41,
   "metadata": {},
   "outputs": [
    {
     "data": {
      "image/png": "[encoded data removed]",
      "text/plain": [
       "<Figure size 648x360 with 3 Axes>"
      ]
     },
     "metadata": {
      "needs_background": "light"
     },
     "output_type": "display_data"
    }
   ],
   "source": [
    "d3 = pd.read_csv('https://raw.githubusercontent.com/UWDIRECT/UWDIRECT.github.io/master/Wi18_content/DSMCER/L8.dataset3.txt'\n",
    "                , names=['data'])\n",
    "pointplot(d3, label='d3')"
   ]
  },
  {
   "cell_type": "markdown",
   "metadata": {},
   "source": [
    "#### Great.  Now let's start doing some hypothesis testing in Python.\n",
    "\n",
    "##### The one sided _t_-test of means.\n",
    "You have reason to believe that all the data sets, which were obtained using the same experimental method, but under different conditions, could be compared to the published literature value of the mean.  The value you find in the literature is **42.0**.  Perform a statistical test to determine the test statistic and _p_-value that compares each of the three datasets to this reference value.  \n"
   ]
  },
  {
   "cell_type": "code",
   "execution_count": 36,
   "metadata": {},
   "outputs": [
    {
     "name": "stdout",
     "output_type": "stream",
     "text": [
      "[0.40039694]\n",
      "[0.910807]\n",
      "[4.33066733e-07]\n"
     ]
    }
   ],
   "source": [
    "for datasetA in [d1, d2, d3]:\n",
    "    [t, p] = stats.ttest_1samp(datasetA, 42)\n",
    "    print(p)"
   ]
  },
  {
   "cell_type": "code",
   "execution_count": null,
   "metadata": {
    "collapsed": true
   },
   "outputs": [],
   "source": []
  },
  {
   "cell_type": "code",
   "execution_count": null,
   "metadata": {
    "collapsed": true
   },
   "outputs": [],
   "source": []
  },
  {
   "cell_type": "markdown",
   "metadata": {},
   "source": [
    "\n",
    "Were any significant?  How did you know?"
   ]
  },
  {
   "cell_type": "markdown",
   "metadata": {},
   "source": []
  },
  {
   "cell_type": "markdown",
   "metadata": {},
   "source": [
    "#### The two sided t-test of means.\n",
    "Now you want to investigate if the three different treatments' means are similar to each other.  Perform pairwise statistical tests of the means.  Do this using whatever language constructs work best for you (for loops, list comprehensions, ...).\n",
    "\n",
    "Find a way to present these data to a journal article reader.  A table?  A figure?"
   ]
  },
  {
   "cell_type": "code",
   "execution_count": 37,
   "metadata": {},
   "outputs": [
    {
     "name": "stdout",
     "output_type": "stream",
     "text": [
      "[1.]\n",
      "[0.08190099]\n",
      "[0.00098864]\n",
      "[0.08190099]\n",
      "[1.]\n",
      "[3.08384702e-05]\n",
      "[0.00098864]\n",
      "[3.08384702e-05]\n",
      "[1.]\n"
     ]
    }
   ],
   "source": [
    "for datasetA in [d1, d2, d3]:\n",
    "    for datasetB in [d1, d2, d3]:\n",
    "        [t, p] = stats.ttest_ind(datasetA, datasetB)\n",
    "        print(p)"
   ]
  },
  {
   "cell_type": "code",
   "execution_count": 38,
   "metadata": {},
   "outputs": [
    {
     "data": {
      "text/plain": [
       "Ttest_indResult(statistic=array([-1.7944896]), pvalue=array([0.08190099]))"
      ]
     },
     "execution_count": 38,
     "metadata": {},
     "output_type": "execute_result"
    }
   ],
   "source": [
    "stats.ttest_ind(d1, d2)"
   ]
  },
  {
   "cell_type": "code",
   "execution_count": null,
   "metadata": {
    "collapsed": true
   },
   "outputs": [],
   "source": []
  },
  {
   "cell_type": "markdown",
   "metadata": {},
   "source": [
    "##### Paired test of means.\n",
    "\n",
    "Now you learn that data set 2 and data set 3 are paired.  That is, the same lab samples were used with data set 2 being before treatment with some compound and data set 3 after treatment.  Perform a statistical test to see if the treatment had a statistically significant impact on the lab samples."
   ]
  },
  {
   "cell_type": "code",
   "execution_count": 16,
   "metadata": {},
   "outputs": [
    {
     "name": "stdout",
     "output_type": "stream",
     "text": [
      "[9.69019041e-06]\n"
     ]
    }
   ],
   "source": [
    "\n",
    "[t, p] = stats.ttest_rel(d2, d3)\n",
    "print(p)"
   ]
  },
  {
   "cell_type": "markdown",
   "metadata": {},
   "source": [
    "What is your conclusion about the treatment?"
   ]
  },
  {
   "cell_type": "markdown",
   "metadata": {},
   "source": []
  }
 ],
 "metadata": {
  "kernelspec": {
   "display_name": "Python 3",
   "language": "python",
   "name": "python3"
  },
  "language_info": {
   "codemirror_mode": {
    "name": "ipython",
    "version": 3
   },
   "file_extension": ".py",
   "mimetype": "text/x-python",
   "name": "python",
   "nbconvert_exporter": "python",
   "pygments_lexer": "ipython3",
   "version": "3.7.0"
  }
 },
 "nbformat": 4,
 "nbformat_minor": 1
}

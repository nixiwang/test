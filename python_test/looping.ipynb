{
 "cells": [
  {
   "cell_type": "markdown",
   "metadata": {},
   "source": [
    "# Let's create a model code for downloading a file\n",
    "## Importing libraries "
   ]
  },
  {
   "cell_type": "code",
   "execution_count": 1,
   "metadata": {},
   "outputs": [],
   "source": [
    "import os\n",
    "import requests\n",
    "import pandas as pd\n",
    "import zipfile"
   ]
  },
  {
   "cell_type": "markdown",
   "metadata": {},
   "source": [
    "## A base code "
   ]
  },
  {
   "cell_type": "code",
   "execution_count": 38,
   "metadata": {},
   "outputs": [
    {
     "name": "stdout",
     "output_type": "stream",
     "text": [
      "wahoo!\n"
     ]
    }
   ],
   "source": [
    "filename = '../HCEPDB_moldata.zip'\n",
    "if os.path.exists(filename):\n",
    "  print(\"wahoo!\")\n",
    "else:\n",
    "    url = 'http://faculty.washington.edu/dacb/HCEPDB_moldata.zip'\n",
    "    req = requests.get(url)\n",
    "    assert req.status_code == 200 # to check the download successful \n",
    "    with open(filename, 'wb') as f:\n",
    "        f.write(req.content)\n",
    "csv_filename = 'HCEPDB_moldata.csv'\n",
    "zf = zipfile.ZipFile(filename)\n",
    "data = pd.read_csv(zf.open(csv_filename))"
   ]
  },
  {
   "cell_type": "markdown",
   "metadata": {},
   "source": [
    "## Let's try several files to download together!\n",
    "\n",
    "### Create `new_name` function"
   ]
  },
  {
   "cell_type": "code",
   "execution_count": 54,
   "metadata": {},
   "outputs": [],
   "source": [
    "def new_name(name, number):\n",
    "    '''this gets a patterned file name and the number of the file name sequence\n",
    "    to create the number of file names in the same pattern\n",
    "    '''\n",
    "    new_file = []\n",
    "    for i in range(number):\n",
    "        new_file.append(name.replace(\"moldata\", \"moldata_set\"+str(i+1)))\n",
    "    return new_file "
   ]
  },
  {
   "cell_type": "code",
   "execution_count": 41,
   "metadata": {},
   "outputs": [],
   "source": [
    "filenames = new_name('HCEPDB_moldata.zip', 3)"
   ]
  },
  {
   "cell_type": "code",
   "execution_count": 42,
   "metadata": {},
   "outputs": [
    {
     "name": "stdout",
     "output_type": "stream",
     "text": [
      "wahoo!\n",
      "wahoo!\n",
      "wahoo!\n"
     ]
    }
   ],
   "source": [
    "data = []\n",
    "for filename in filenames: \n",
    "    if os.path.exists(filename):\n",
    "      print(\"wahoo!\")\n",
    "    else:\n",
    "        url = 'http://faculty.washington.edu/dacb/'+filename\n",
    "        req = requests.get(url)\n",
    "        assert req.status_code == 200 # to check the download successful \n",
    "        with open(filename, 'wb') as f:\n",
    "            f.write(req.content)\n",
    "            \n",
    "    csv_filename = filename.strip('zip')+'csv'\n",
    "    zf = zipfile.ZipFile(filename)       \n",
    "    data.append(pd.read_csv(zf.open(csv_filename)))"
   ]
  },
  {
   "cell_type": "markdown",
   "metadata": {},
   "source": [
    "> Now these three files are downloaded to the variable named data. Let's see each data file. \n",
    "\n",
    "## First data file"
   ]
  },
  {
   "cell_type": "code",
   "execution_count": 51,
   "metadata": {},
   "outputs": [
    {
     "data": {
      "text/html": [
       "<div>\n",
       "<style scoped>\n",
       "    .dataframe tbody tr th:only-of-type {\n",
       "        vertical-align: middle;\n",
       "    }\n",
       "\n",
       "    .dataframe tbody tr th {\n",
       "        vertical-align: top;\n",
       "    }\n",
       "\n",
       "    .dataframe thead th {\n",
       "        text-align: right;\n",
       "    }\n",
       "</style>\n",
       "<table border=\"1\" class=\"dataframe\">\n",
       "  <thead>\n",
       "    <tr style=\"text-align: right;\">\n",
       "      <th></th>\n",
       "      <th>id</th>\n",
       "      <th>mass</th>\n",
       "      <th>pce</th>\n",
       "      <th>voc</th>\n",
       "      <th>jsc</th>\n",
       "      <th>e_homo_alpha</th>\n",
       "      <th>e_gap_alpha</th>\n",
       "      <th>e_lumo_alpha</th>\n",
       "    </tr>\n",
       "  </thead>\n",
       "  <tbody>\n",
       "    <tr>\n",
       "      <th>count</th>\n",
       "      <td>1.106498e+06</td>\n",
       "      <td>1.106498e+06</td>\n",
       "      <td>1.106498e+06</td>\n",
       "      <td>1.106498e+06</td>\n",
       "      <td>1.106498e+06</td>\n",
       "      <td>1.106498e+06</td>\n",
       "      <td>1.106498e+06</td>\n",
       "      <td>1.106498e+06</td>\n",
       "    </tr>\n",
       "    <tr>\n",
       "      <th>mean</th>\n",
       "      <td>1.208288e+06</td>\n",
       "      <td>3.995769e+02</td>\n",
       "      <td>3.670731e+00</td>\n",
       "      <td>5.171753e-01</td>\n",
       "      <td>1.222160e+02</td>\n",
       "      <td>-5.117175e+00</td>\n",
       "      <td>1.904693e+00</td>\n",
       "      <td>-3.212482e+00</td>\n",
       "    </tr>\n",
       "    <tr>\n",
       "      <th>std</th>\n",
       "      <td>8.126608e+05</td>\n",
       "      <td>5.868785e+01</td>\n",
       "      <td>2.337513e+00</td>\n",
       "      <td>2.707951e-01</td>\n",
       "      <td>6.559076e+01</td>\n",
       "      <td>2.707951e-01</td>\n",
       "      <td>4.035945e-01</td>\n",
       "      <td>3.841084e-01</td>\n",
       "    </tr>\n",
       "    <tr>\n",
       "      <th>min</th>\n",
       "      <td>7.000000e+00</td>\n",
       "      <td>1.682378e+02</td>\n",
       "      <td>3.604066e-05</td>\n",
       "      <td>1.236100e-05</td>\n",
       "      <td>5.129359e-01</td>\n",
       "      <td>-6.695959e+00</td>\n",
       "      <td>7.448349e-01</td>\n",
       "      <td>-3.999994e+00</td>\n",
       "    </tr>\n",
       "    <tr>\n",
       "      <th>25%</th>\n",
       "      <td>5.479355e+05</td>\n",
       "      <td>3.584480e+02</td>\n",
       "      <td>1.860519e+00</td>\n",
       "      <td>3.177876e-01</td>\n",
       "      <td>6.967192e+01</td>\n",
       "      <td>-5.292169e+00</td>\n",
       "      <td>1.606785e+00</td>\n",
       "      <td>-3.512764e+00</td>\n",
       "    </tr>\n",
       "    <tr>\n",
       "      <th>50%</th>\n",
       "      <td>1.095274e+06</td>\n",
       "      <td>3.995153e+02</td>\n",
       "      <td>3.100304e+00</td>\n",
       "      <td>4.953169e-01</td>\n",
       "      <td>1.114687e+02</td>\n",
       "      <td>-5.095317e+00</td>\n",
       "      <td>1.894533e+00</td>\n",
       "      <td>-3.206734e+00</td>\n",
       "    </tr>\n",
       "    <tr>\n",
       "      <th>75%</th>\n",
       "      <td>1.645769e+06</td>\n",
       "      <td>4.433908e+02</td>\n",
       "      <td>5.148094e+00</td>\n",
       "      <td>6.921690e-01</td>\n",
       "      <td>1.641510e+02</td>\n",
       "      <td>-4.917788e+00</td>\n",
       "      <td>2.194588e+00</td>\n",
       "      <td>-2.921657e+00</td>\n",
       "    </tr>\n",
       "    <tr>\n",
       "      <th>max</th>\n",
       "      <td>3.102846e+06</td>\n",
       "      <td>6.375008e+02</td>\n",
       "      <td>1.112053e+01</td>\n",
       "      <td>2.095959e+00</td>\n",
       "      <td>3.771846e+02</td>\n",
       "      <td>-4.600012e+00</td>\n",
       "      <td>3.803964e+00</td>\n",
       "      <td>-1.148421e+00</td>\n",
       "    </tr>\n",
       "  </tbody>\n",
       "</table>\n",
       "</div>"
      ],
      "text/plain": [
       "                 id          mass           pce           voc           jsc  \\\n",
       "count  1.106498e+06  1.106498e+06  1.106498e+06  1.106498e+06  1.106498e+06   \n",
       "mean   1.208288e+06  3.995769e+02  3.670731e+00  5.171753e-01  1.222160e+02   \n",
       "std    8.126608e+05  5.868785e+01  2.337513e+00  2.707951e-01  6.559076e+01   \n",
       "min    7.000000e+00  1.682378e+02  3.604066e-05  1.236100e-05  5.129359e-01   \n",
       "25%    5.479355e+05  3.584480e+02  1.860519e+00  3.177876e-01  6.967192e+01   \n",
       "50%    1.095274e+06  3.995153e+02  3.100304e+00  4.953169e-01  1.114687e+02   \n",
       "75%    1.645769e+06  4.433908e+02  5.148094e+00  6.921690e-01  1.641510e+02   \n",
       "max    3.102846e+06  6.375008e+02  1.112053e+01  2.095959e+00  3.771846e+02   \n",
       "\n",
       "       e_homo_alpha   e_gap_alpha  e_lumo_alpha  \n",
       "count  1.106498e+06  1.106498e+06  1.106498e+06  \n",
       "mean  -5.117175e+00  1.904693e+00 -3.212482e+00  \n",
       "std    2.707951e-01  4.035945e-01  3.841084e-01  \n",
       "min   -6.695959e+00  7.448349e-01 -3.999994e+00  \n",
       "25%   -5.292169e+00  1.606785e+00 -3.512764e+00  \n",
       "50%   -5.095317e+00  1.894533e+00 -3.206734e+00  \n",
       "75%   -4.917788e+00  2.194588e+00 -2.921657e+00  \n",
       "max   -4.600012e+00  3.803964e+00 -1.148421e+00  "
      ]
     },
     "execution_count": 51,
     "metadata": {},
     "output_type": "execute_result"
    }
   ],
   "source": [
    "data[0].describe()"
   ]
  },
  {
   "cell_type": "code",
   "execution_count": 62,
   "metadata": {},
   "outputs": [
    {
     "data": {
      "text/html": [
       "<div>\n",
       "<style scoped>\n",
       "    .dataframe tbody tr th:only-of-type {\n",
       "        vertical-align: middle;\n",
       "    }\n",
       "\n",
       "    .dataframe tbody tr th {\n",
       "        vertical-align: top;\n",
       "    }\n",
       "\n",
       "    .dataframe thead th {\n",
       "        text-align: right;\n",
       "    }\n",
       "</style>\n",
       "<table border=\"1\" class=\"dataframe\">\n",
       "  <thead>\n",
       "    <tr style=\"text-align: right;\">\n",
       "      <th></th>\n",
       "      <th>id</th>\n",
       "      <th>SMILES_str</th>\n",
       "      <th>stoich_str</th>\n",
       "      <th>mass</th>\n",
       "      <th>pce</th>\n",
       "      <th>voc</th>\n",
       "      <th>jsc</th>\n",
       "      <th>e_homo_alpha</th>\n",
       "      <th>e_gap_alpha</th>\n",
       "      <th>e_lumo_alpha</th>\n",
       "      <th>tmp_smiles_str</th>\n",
       "    </tr>\n",
       "  </thead>\n",
       "  <tbody>\n",
       "    <tr>\n",
       "      <th>0</th>\n",
       "      <td>655365</td>\n",
       "      <td>C1C=CC=C1c1cc2[se]c3c4occc4c4nsnc4c3c2cn1</td>\n",
       "      <td>C18H9N3OSSe</td>\n",
       "      <td>394.3151</td>\n",
       "      <td>5.161953</td>\n",
       "      <td>0.867601</td>\n",
       "      <td>91.567575</td>\n",
       "      <td>-5.467601</td>\n",
       "      <td>2.022944</td>\n",
       "      <td>-3.444656</td>\n",
       "      <td>C1=CC=C(C1)c1cc2[se]c3c4occc4c4nsnc4c3c2cn1</td>\n",
       "    </tr>\n",
       "    <tr>\n",
       "      <th>1</th>\n",
       "      <td>1245190</td>\n",
       "      <td>C1C=CC=C1c1cc2[se]c3c(ncc4ccccc34)c2c2=C[SiH2]...</td>\n",
       "      <td>C22H15NSeSi</td>\n",
       "      <td>400.4135</td>\n",
       "      <td>5.261398</td>\n",
       "      <td>0.504824</td>\n",
       "      <td>160.401549</td>\n",
       "      <td>-5.104824</td>\n",
       "      <td>1.630750</td>\n",
       "      <td>-3.474074</td>\n",
       "      <td>C1=CC=C(C1)c1cc2[se]c3c(ncc4ccccc34)c2c2=C[SiH...</td>\n",
       "    </tr>\n",
       "    <tr>\n",
       "      <th>2</th>\n",
       "      <td>65553</td>\n",
       "      <td>[SiH2]1C=CC2=C1C=C([SiH2]2)C1=Cc2[se]ccc2[SiH2]1</td>\n",
       "      <td>C12H12SeSi3</td>\n",
       "      <td>319.4448</td>\n",
       "      <td>6.138294</td>\n",
       "      <td>0.630274</td>\n",
       "      <td>149.887545</td>\n",
       "      <td>-5.230274</td>\n",
       "      <td>1.682250</td>\n",
       "      <td>-3.548025</td>\n",
       "      <td>C1=CC2=C([SiH2]1)C=C([SiH2]2)C1=Cc2[se]ccc2[Si...</td>\n",
       "    </tr>\n",
       "    <tr>\n",
       "      <th>3</th>\n",
       "      <td>720918</td>\n",
       "      <td>C1C=c2c3ccsc3c3[se]c4cc(oc4c3c2=C1)C1=CC=CC1</td>\n",
       "      <td>C20H12OSSe</td>\n",
       "      <td>379.3398</td>\n",
       "      <td>1.991366</td>\n",
       "      <td>0.242119</td>\n",
       "      <td>126.581347</td>\n",
       "      <td>-4.842119</td>\n",
       "      <td>1.809439</td>\n",
       "      <td>-3.032680</td>\n",
       "      <td>C1=CC=C(C1)c1cc2[se]c3c4sccc4c4=CCC=c4c3c2o1</td>\n",
       "    </tr>\n",
       "    <tr>\n",
       "      <th>4</th>\n",
       "      <td>1310744</td>\n",
       "      <td>C1C=CC=C1c1cc2[se]c3c(c4nsnc4c4ccncc34)c2c2ccc...</td>\n",
       "      <td>C24H13N3SSe</td>\n",
       "      <td>454.4137</td>\n",
       "      <td>5.605135</td>\n",
       "      <td>0.951911</td>\n",
       "      <td>90.622776</td>\n",
       "      <td>-5.551911</td>\n",
       "      <td>2.029717</td>\n",
       "      <td>-3.522194</td>\n",
       "      <td>C1=CC=C(C1)c1cc2[se]c3c(c4nsnc4c4ccncc34)c2c2c...</td>\n",
       "    </tr>\n",
       "  </tbody>\n",
       "</table>\n",
       "</div>"
      ],
      "text/plain": [
       "        id                                         SMILES_str   stoich_str  \\\n",
       "0   655365          C1C=CC=C1c1cc2[se]c3c4occc4c4nsnc4c3c2cn1  C18H9N3OSSe   \n",
       "1  1245190  C1C=CC=C1c1cc2[se]c3c(ncc4ccccc34)c2c2=C[SiH2]...  C22H15NSeSi   \n",
       "2    65553   [SiH2]1C=CC2=C1C=C([SiH2]2)C1=Cc2[se]ccc2[SiH2]1  C12H12SeSi3   \n",
       "3   720918       C1C=c2c3ccsc3c3[se]c4cc(oc4c3c2=C1)C1=CC=CC1   C20H12OSSe   \n",
       "4  1310744  C1C=CC=C1c1cc2[se]c3c(c4nsnc4c4ccncc34)c2c2ccc...  C24H13N3SSe   \n",
       "\n",
       "       mass       pce       voc         jsc  e_homo_alpha  e_gap_alpha  \\\n",
       "0  394.3151  5.161953  0.867601   91.567575     -5.467601     2.022944   \n",
       "1  400.4135  5.261398  0.504824  160.401549     -5.104824     1.630750   \n",
       "2  319.4448  6.138294  0.630274  149.887545     -5.230274     1.682250   \n",
       "3  379.3398  1.991366  0.242119  126.581347     -4.842119     1.809439   \n",
       "4  454.4137  5.605135  0.951911   90.622776     -5.551911     2.029717   \n",
       "\n",
       "   e_lumo_alpha                                     tmp_smiles_str  \n",
       "0     -3.444656        C1=CC=C(C1)c1cc2[se]c3c4occc4c4nsnc4c3c2cn1  \n",
       "1     -3.474074  C1=CC=C(C1)c1cc2[se]c3c(ncc4ccccc34)c2c2=C[SiH...  \n",
       "2     -3.548025  C1=CC2=C([SiH2]1)C=C([SiH2]2)C1=Cc2[se]ccc2[Si...  \n",
       "3     -3.032680       C1=CC=C(C1)c1cc2[se]c3c4sccc4c4=CCC=c4c3c2o1  \n",
       "4     -3.522194  C1=CC=C(C1)c1cc2[se]c3c(c4nsnc4c4ccncc34)c2c2c...  "
      ]
     },
     "execution_count": 62,
     "metadata": {},
     "output_type": "execute_result"
    }
   ],
   "source": [
    "data[0].head()"
   ]
  },
  {
   "cell_type": "code",
   "execution_count": 73,
   "metadata": {},
   "outputs": [
    {
     "data": {
      "text/plain": [
       "0    394.3151\n",
       "1    400.4135\n",
       "2    319.4448\n",
       "3    379.3398\n",
       "4    454.4137\n",
       "Name: mass, dtype: float64"
      ]
     },
     "execution_count": 73,
     "metadata": {},
     "output_type": "execute_result"
    }
   ],
   "source": [
    "data[0].iloc[:,3].head()"
   ]
  },
  {
   "cell_type": "code",
   "execution_count": 72,
   "metadata": {},
   "outputs": [
    {
     "data": {
      "text/plain": [
       "[3, 4, 5]"
      ]
     },
     "execution_count": 72,
     "metadata": {},
     "output_type": "execute_result"
    }
   ],
   "source": [
    "list(range(3,6,1))"
   ]
  },
  {
   "cell_type": "code",
   "execution_count": 124,
   "metadata": {},
   "outputs": [
    {
     "data": {
      "text/plain": [
       "0    394.3151\n",
       "1    400.4135\n",
       "2    319.4448\n",
       "3    379.3398\n",
       "4    454.4137\n",
       "Name: mass, dtype: float64"
      ]
     },
     "execution_count": 124,
     "metadata": {},
     "output_type": "execute_result"
    }
   ],
   "source": [
    "list_1 = []\n",
    "for i in range(3,6,1):\n",
    "    list_1.append(data[0].iloc[:,i])\n",
    "    \n",
    "list_1[0].head()"
   ]
  },
  {
   "cell_type": "code",
   "execution_count": 88,
   "metadata": {},
   "outputs": [
    {
     "data": {
      "text/plain": [
       "[[1, 2, 3], [4, 5, 6]]"
      ]
     },
     "execution_count": 88,
     "metadata": {},
     "output_type": "execute_result"
    }
   ],
   "source": [
    "a = [1,2,3]\n",
    "b = [4,5,6]\n",
    "c = [a, b]\n",
    "c"
   ]
  },
  {
   "cell_type": "code",
   "execution_count": 119,
   "metadata": {},
   "outputs": [
    {
     "data": {
      "text/plain": [
       "[1, 2, 3, 4, 5, 6]"
      ]
     },
     "execution_count": 119,
     "metadata": {},
     "output_type": "execute_result"
    }
   ],
   "source": [
    "(a + b)"
   ]
  },
  {
   "cell_type": "code",
   "execution_count": 87,
   "metadata": {},
   "outputs": [
    {
     "name": "stdout",
     "output_type": "stream",
     "text": [
      "(1106498,)\n",
      "(1106498,)\n"
     ]
    },
    {
     "data": {
      "text/plain": [
       "(1106498,)"
      ]
     },
     "execution_count": 87,
     "metadata": {},
     "output_type": "execute_result"
    }
   ],
   "source": [
    "print(list_1[0].shape)\n",
    "print(list_1[1].shape)\n",
    "(list_1[0] + list_1[1]).shape"
   ]
  },
  {
   "cell_type": "markdown",
   "metadata": {},
   "source": [
    "> Wow, it seems this one behaves different from `list`. It turns out it is `pandas series`. "
   ]
  },
  {
   "cell_type": "markdown",
   "metadata": {},
   "source": [
    "## Second data file"
   ]
  },
  {
   "cell_type": "code",
   "execution_count": 52,
   "metadata": {},
   "outputs": [
    {
     "data": {
      "text/html": [
       "<div>\n",
       "<style scoped>\n",
       "    .dataframe tbody tr th:only-of-type {\n",
       "        vertical-align: middle;\n",
       "    }\n",
       "\n",
       "    .dataframe tbody tr th {\n",
       "        vertical-align: top;\n",
       "    }\n",
       "\n",
       "    .dataframe thead th {\n",
       "        text-align: right;\n",
       "    }\n",
       "</style>\n",
       "<table border=\"1\" class=\"dataframe\">\n",
       "  <thead>\n",
       "    <tr style=\"text-align: right;\">\n",
       "      <th></th>\n",
       "      <th>id</th>\n",
       "      <th>mass</th>\n",
       "      <th>pce</th>\n",
       "      <th>voc</th>\n",
       "      <th>jsc</th>\n",
       "      <th>e_homo_alpha</th>\n",
       "      <th>e_gap_alpha</th>\n",
       "      <th>e_lumo_alpha</th>\n",
       "    </tr>\n",
       "  </thead>\n",
       "  <tbody>\n",
       "    <tr>\n",
       "      <th>count</th>\n",
       "      <td>1.098540e+05</td>\n",
       "      <td>109854.000000</td>\n",
       "      <td>109854.0</td>\n",
       "      <td>109854.0</td>\n",
       "      <td>109854.000000</td>\n",
       "      <td>109854.000000</td>\n",
       "      <td>109854.000000</td>\n",
       "      <td>109854.000000</td>\n",
       "    </tr>\n",
       "    <tr>\n",
       "      <th>mean</th>\n",
       "      <td>1.394458e+06</td>\n",
       "      <td>426.617971</td>\n",
       "      <td>0.0</td>\n",
       "      <td>0.0</td>\n",
       "      <td>70.156833</td>\n",
       "      <td>-5.061059</td>\n",
       "      <td>1.551463</td>\n",
       "      <td>-3.509596</td>\n",
       "    </tr>\n",
       "    <tr>\n",
       "      <th>std</th>\n",
       "      <td>8.741754e+05</td>\n",
       "      <td>63.530407</td>\n",
       "      <td>0.0</td>\n",
       "      <td>0.0</td>\n",
       "      <td>88.828024</td>\n",
       "      <td>0.542847</td>\n",
       "      <td>0.318191</td>\n",
       "      <td>0.671852</td>\n",
       "    </tr>\n",
       "    <tr>\n",
       "      <th>min</th>\n",
       "      <td>2.100000e+01</td>\n",
       "      <td>170.214000</td>\n",
       "      <td>0.0</td>\n",
       "      <td>0.0</td>\n",
       "      <td>0.000000</td>\n",
       "      <td>-7.512315</td>\n",
       "      <td>-0.002940</td>\n",
       "      <td>-6.086537</td>\n",
       "    </tr>\n",
       "    <tr>\n",
       "      <th>25%</th>\n",
       "      <td>6.496908e+05</td>\n",
       "      <td>380.479200</td>\n",
       "      <td>0.0</td>\n",
       "      <td>0.0</td>\n",
       "      <td>0.000000</td>\n",
       "      <td>-5.514987</td>\n",
       "      <td>1.313818</td>\n",
       "      <td>-4.065948</td>\n",
       "    </tr>\n",
       "    <tr>\n",
       "      <th>50%</th>\n",
       "      <td>1.307578e+06</td>\n",
       "      <td>425.570900</td>\n",
       "      <td>0.0</td>\n",
       "      <td>0.0</td>\n",
       "      <td>0.000000</td>\n",
       "      <td>-5.185462</td>\n",
       "      <td>1.515183</td>\n",
       "      <td>-4.008750</td>\n",
       "    </tr>\n",
       "    <tr>\n",
       "      <th>75%</th>\n",
       "      <td>2.108075e+06</td>\n",
       "      <td>474.552700</td>\n",
       "      <td>0.0</td>\n",
       "      <td>0.0</td>\n",
       "      <td>140.062566</td>\n",
       "      <td>-4.539314</td>\n",
       "      <td>1.762868</td>\n",
       "      <td>-2.870962</td>\n",
       "    </tr>\n",
       "    <tr>\n",
       "      <th>max</th>\n",
       "      <td>3.102810e+06</td>\n",
       "      <td>636.401100</td>\n",
       "      <td>0.0</td>\n",
       "      <td>0.0</td>\n",
       "      <td>397.038257</td>\n",
       "      <td>-3.632374</td>\n",
       "      <td>3.361447</td>\n",
       "      <td>-1.173109</td>\n",
       "    </tr>\n",
       "  </tbody>\n",
       "</table>\n",
       "</div>"
      ],
      "text/plain": [
       "                 id           mass       pce       voc            jsc  \\\n",
       "count  1.098540e+05  109854.000000  109854.0  109854.0  109854.000000   \n",
       "mean   1.394458e+06     426.617971       0.0       0.0      70.156833   \n",
       "std    8.741754e+05      63.530407       0.0       0.0      88.828024   \n",
       "min    2.100000e+01     170.214000       0.0       0.0       0.000000   \n",
       "25%    6.496908e+05     380.479200       0.0       0.0       0.000000   \n",
       "50%    1.307578e+06     425.570900       0.0       0.0       0.000000   \n",
       "75%    2.108075e+06     474.552700       0.0       0.0     140.062566   \n",
       "max    3.102810e+06     636.401100       0.0       0.0     397.038257   \n",
       "\n",
       "        e_homo_alpha    e_gap_alpha   e_lumo_alpha  \n",
       "count  109854.000000  109854.000000  109854.000000  \n",
       "mean       -5.061059       1.551463      -3.509596  \n",
       "std         0.542847       0.318191       0.671852  \n",
       "min        -7.512315      -0.002940      -6.086537  \n",
       "25%        -5.514987       1.313818      -4.065948  \n",
       "50%        -5.185462       1.515183      -4.008750  \n",
       "75%        -4.539314       1.762868      -2.870962  \n",
       "max        -3.632374       3.361447      -1.173109  "
      ]
     },
     "execution_count": 52,
     "metadata": {},
     "output_type": "execute_result"
    }
   ],
   "source": [
    "data[1].describe()"
   ]
  },
  {
   "cell_type": "markdown",
   "metadata": {},
   "source": [
    "> Now, let's try `tuple data`.  "
   ]
  },
  {
   "cell_type": "code",
   "execution_count": 96,
   "metadata": {},
   "outputs": [],
   "source": [
    "tuple_1 = tuple(data[1].iloc[:,3])"
   ]
  },
  {
   "cell_type": "code",
   "execution_count": 97,
   "metadata": {},
   "outputs": [],
   "source": [
    "tuple_2 = tuple(data[1].iloc[:,4])"
   ]
  },
  {
   "cell_type": "code",
   "execution_count": 102,
   "metadata": {},
   "outputs": [
    {
     "name": "stdout",
     "output_type": "stream",
     "text": [
      "109854\n",
      "109854\n"
     ]
    }
   ],
   "source": [
    "print(len(tuple_1))\n",
    "print(len(tuple_2))"
   ]
  },
  {
   "cell_type": "code",
   "execution_count": 103,
   "metadata": {},
   "outputs": [
    {
     "name": "stdout",
     "output_type": "stream",
     "text": [
      "219708\n"
     ]
    }
   ],
   "source": [
    "print(len(tuple_1 + tuple_2))"
   ]
  },
  {
   "cell_type": "code",
   "execution_count": 94,
   "metadata": {},
   "outputs": [
    {
     "data": {
      "text/plain": [
       "(1, 2, 3, 1, 2)"
      ]
     },
     "execution_count": 94,
     "metadata": {},
     "output_type": "execute_result"
    }
   ],
   "source": [
    "(1,2,3) + (1,2)"
   ]
  },
  {
   "cell_type": "markdown",
   "metadata": {},
   "source": [
    "> Tuple behaves as expected! "
   ]
  },
  {
   "cell_type": "markdown",
   "metadata": {},
   "source": [
    "## Third data file"
   ]
  },
  {
   "cell_type": "code",
   "execution_count": 53,
   "metadata": {},
   "outputs": [
    {
     "data": {
      "text/html": [
       "<div>\n",
       "<style scoped>\n",
       "    .dataframe tbody tr th:only-of-type {\n",
       "        vertical-align: middle;\n",
       "    }\n",
       "\n",
       "    .dataframe tbody tr th {\n",
       "        vertical-align: top;\n",
       "    }\n",
       "\n",
       "    .dataframe thead th {\n",
       "        text-align: right;\n",
       "    }\n",
       "</style>\n",
       "<table border=\"1\" class=\"dataframe\">\n",
       "  <thead>\n",
       "    <tr style=\"text-align: right;\">\n",
       "      <th></th>\n",
       "      <th>id</th>\n",
       "      <th>mass</th>\n",
       "      <th>pce</th>\n",
       "      <th>voc</th>\n",
       "      <th>jsc</th>\n",
       "      <th>e_homo_alpha</th>\n",
       "      <th>e_gap_alpha</th>\n",
       "      <th>e_lumo_alpha</th>\n",
       "    </tr>\n",
       "  </thead>\n",
       "  <tbody>\n",
       "    <tr>\n",
       "      <th>count</th>\n",
       "      <td>1.106497e+06</td>\n",
       "      <td>1.106497e+06</td>\n",
       "      <td>1.106497e+06</td>\n",
       "      <td>1.106497e+06</td>\n",
       "      <td>1.106497e+06</td>\n",
       "      <td>1.106497e+06</td>\n",
       "      <td>1.106497e+06</td>\n",
       "      <td>1.106497e+06</td>\n",
       "    </tr>\n",
       "    <tr>\n",
       "      <th>mean</th>\n",
       "      <td>1.442780e+06</td>\n",
       "      <td>4.304538e+02</td>\n",
       "      <td>4.568132e+00</td>\n",
       "      <td>6.418354e-01</td>\n",
       "      <td>1.237180e+02</td>\n",
       "      <td>-5.241835e+00</td>\n",
       "      <td>1.890471e+00</td>\n",
       "      <td>-3.351364e+00</td>\n",
       "    </tr>\n",
       "    <tr>\n",
       "      <th>std</th>\n",
       "      <td>8.817543e+05</td>\n",
       "      <td>5.644533e+01</td>\n",
       "      <td>2.393552e+00</td>\n",
       "      <td>2.843694e-01</td>\n",
       "      <td>6.331331e+01</td>\n",
       "      <td>2.843694e-01</td>\n",
       "      <td>3.898511e-01</td>\n",
       "      <td>3.358991e-01</td>\n",
       "    </tr>\n",
       "    <tr>\n",
       "      <th>min</th>\n",
       "      <td>1.000000e+00</td>\n",
       "      <td>1.721822e+02</td>\n",
       "      <td>1.631420e-06</td>\n",
       "      <td>2.056039e-07</td>\n",
       "      <td>1.124616e+00</td>\n",
       "      <td>-6.778957e+00</td>\n",
       "      <td>6.650433e-01</td>\n",
       "      <td>-4.000000e+00</td>\n",
       "    </tr>\n",
       "    <tr>\n",
       "      <th>25%</th>\n",
       "      <td>6.876230e+05</td>\n",
       "      <td>3.964888e+02</td>\n",
       "      <td>2.671723e+00</td>\n",
       "      <td>4.413994e-01</td>\n",
       "      <td>7.457651e+01</td>\n",
       "      <td>-5.421049e+00</td>\n",
       "      <td>1.610790e+00</td>\n",
       "      <td>-3.617982e+00</td>\n",
       "    </tr>\n",
       "    <tr>\n",
       "      <th>50%</th>\n",
       "      <td>1.376160e+06</td>\n",
       "      <td>4.326268e+02</td>\n",
       "      <td>4.046804e+00</td>\n",
       "      <td>6.204899e-01</td>\n",
       "      <td>1.147000e+02</td>\n",
       "      <td>-5.220490e+00</td>\n",
       "      <td>1.873049e+00</td>\n",
       "      <td>-3.340769e+00</td>\n",
       "    </tr>\n",
       "    <tr>\n",
       "      <th>75%</th>\n",
       "      <td>2.187164e+06</td>\n",
       "      <td>4.655839e+02</td>\n",
       "      <td>6.222132e+00</td>\n",
       "      <td>8.210489e-01</td>\n",
       "      <td>1.632060e+02</td>\n",
       "      <td>-5.041399e+00</td>\n",
       "      <td>2.155169e+00</td>\n",
       "      <td>-3.088315e+00</td>\n",
       "    </tr>\n",
       "    <tr>\n",
       "      <th>max</th>\n",
       "      <td>3.102853e+06</td>\n",
       "      <td>6.863590e+02</td>\n",
       "      <td>1.113013e+01</td>\n",
       "      <td>2.178957e+00</td>\n",
       "      <td>3.970380e+02</td>\n",
       "      <td>-4.600000e+00</td>\n",
       "      <td>3.709872e+00</td>\n",
       "      <td>-2.094457e+00</td>\n",
       "    </tr>\n",
       "  </tbody>\n",
       "</table>\n",
       "</div>"
      ],
      "text/plain": [
       "                 id          mass           pce           voc           jsc  \\\n",
       "count  1.106497e+06  1.106497e+06  1.106497e+06  1.106497e+06  1.106497e+06   \n",
       "mean   1.442780e+06  4.304538e+02  4.568132e+00  6.418354e-01  1.237180e+02   \n",
       "std    8.817543e+05  5.644533e+01  2.393552e+00  2.843694e-01  6.331331e+01   \n",
       "min    1.000000e+00  1.721822e+02  1.631420e-06  2.056039e-07  1.124616e+00   \n",
       "25%    6.876230e+05  3.964888e+02  2.671723e+00  4.413994e-01  7.457651e+01   \n",
       "50%    1.376160e+06  4.326268e+02  4.046804e+00  6.204899e-01  1.147000e+02   \n",
       "75%    2.187164e+06  4.655839e+02  6.222132e+00  8.210489e-01  1.632060e+02   \n",
       "max    3.102853e+06  6.863590e+02  1.113013e+01  2.178957e+00  3.970380e+02   \n",
       "\n",
       "       e_homo_alpha   e_gap_alpha  e_lumo_alpha  \n",
       "count  1.106497e+06  1.106497e+06  1.106497e+06  \n",
       "mean  -5.241835e+00  1.890471e+00 -3.351364e+00  \n",
       "std    2.843694e-01  3.898511e-01  3.358991e-01  \n",
       "min   -6.778957e+00  6.650433e-01 -4.000000e+00  \n",
       "25%   -5.421049e+00  1.610790e+00 -3.617982e+00  \n",
       "50%   -5.220490e+00  1.873049e+00 -3.340769e+00  \n",
       "75%   -5.041399e+00  2.155169e+00 -3.088315e+00  \n",
       "max   -4.600000e+00  3.709872e+00 -2.094457e+00  "
      ]
     },
     "execution_count": 53,
     "metadata": {},
     "output_type": "execute_result"
    }
   ],
   "source": [
    "data[2].describe()"
   ]
  },
  {
   "cell_type": "code",
   "execution_count": 107,
   "metadata": {},
   "outputs": [
    {
     "name": "stdout",
     "output_type": "stream",
     "text": [
      "0    403.5091\n",
      "1    460.4419\n",
      "2    490.5260\n",
      "3    360.4322\n",
      "4    517.5300\n",
      "Name: mass, dtype: float64\n",
      "0    4.279665\n",
      "1    5.845911\n",
      "2    8.873984\n",
      "3    5.051803\n",
      "4    9.127722\n",
      "Name: pce, dtype: float64\n",
      "0    0.787542\n",
      "1    0.891818\n",
      "2    0.563516\n",
      "3    1.565185\n",
      "4    0.651534\n",
      "Name: voc, dtype: float64\n"
     ]
    }
   ],
   "source": [
    "dict_1 = {}\n",
    "for i in range(3,6,1):\n",
    "    dict_1[i-3] = data[2].iloc[:,i]\n",
    "    \n",
    "print(dict_1[0].head())\n",
    "print(dict_1[1].head())\n",
    "print(dict_1[2].head())"
   ]
  },
  {
   "cell_type": "code",
   "execution_count": 108,
   "metadata": {},
   "outputs": [
    {
     "data": {
      "text/plain": [
       "dict_keys([0, 1, 2])"
      ]
     },
     "execution_count": 108,
     "metadata": {},
     "output_type": "execute_result"
    }
   ],
   "source": [
    "dict_1.keys()"
   ]
  },
  {
   "cell_type": "code",
   "execution_count": 111,
   "metadata": {},
   "outputs": [
    {
     "data": {
      "text/plain": [
       "dict_values([0          403.5091\n",
       "1          460.4419\n",
       "2          490.5260\n",
       "3          360.4322\n",
       "4          517.5300\n",
       "5          515.4382\n",
       "6          514.5657\n",
       "7          447.5487\n",
       "8          480.4515\n",
       "9          447.4508\n",
       "10         453.5689\n",
       "11         476.6188\n",
       "12         450.6246\n",
       "13         432.4618\n",
       "14         450.6166\n",
       "15         430.4994\n",
       "16         416.4183\n",
       "17         459.5517\n",
       "18         470.6240\n",
       "19         447.4428\n",
       "20         477.5050\n",
       "21         495.5661\n",
       "22         518.4122\n",
       "23         434.4380\n",
       "24         410.5214\n",
       "25         459.5637\n",
       "26         442.5006\n",
       "27         443.4887\n",
       "28         530.5171\n",
       "29         403.5171\n",
       "             ...   \n",
       "1106467    567.6668\n",
       "1106468    483.7863\n",
       "1106469    520.7728\n",
       "1106470    520.7728\n",
       "1106471    485.7625\n",
       "1106472    427.6983\n",
       "1106473    467.7193\n",
       "1106474    467.7113\n",
       "1106475    472.7514\n",
       "1106476    467.7193\n",
       "1106477    504.7058\n",
       "1106478    503.7217\n",
       "1106479    471.7753\n",
       "1106480    534.8756\n",
       "1106481    508.4810\n",
       "1106482    472.7634\n",
       "1106483    535.8557\n",
       "1106484    501.7495\n",
       "1106485    504.7058\n",
       "1106486    408.6768\n",
       "1106487    448.6840\n",
       "1106488    465.7471\n",
       "1106489    472.7634\n",
       "1106490    473.7475\n",
       "1106491    484.7744\n",
       "1106492    536.8398\n",
       "1106493    486.7506\n",
       "1106494    482.7982\n",
       "1106495    519.6454\n",
       "1106496    519.7887\n",
       "Name: mass, Length: 1106497, dtype: float64, 0           4.279665\n",
       "1           5.845911\n",
       "2           8.873984\n",
       "3           5.051803\n",
       "4           9.127722\n",
       "5          10.748332\n",
       "6           6.874934\n",
       "7           7.718303\n",
       "8           3.027716\n",
       "9           6.512166\n",
       "10          4.101553\n",
       "11          9.410508\n",
       "12          6.555359\n",
       "13          4.520694\n",
       "14          6.030656\n",
       "15          5.976629\n",
       "16          6.070326\n",
       "17          4.991018\n",
       "18          4.008416\n",
       "19          4.089200\n",
       "20          7.645695\n",
       "21          7.677072\n",
       "22          5.505273\n",
       "23          6.140024\n",
       "24          4.508706\n",
       "25         10.218593\n",
       "26          5.173471\n",
       "27          7.860504\n",
       "28          8.938498\n",
       "29          7.209135\n",
       "             ...    \n",
       "1106467     3.205805\n",
       "1106468     2.976815\n",
       "1106469     3.687312\n",
       "1106470     3.036407\n",
       "1106471     5.766431\n",
       "1106472     2.569183\n",
       "1106473     3.651471\n",
       "1106474     3.294399\n",
       "1106475     3.297434\n",
       "1106476     3.581623\n",
       "1106477     2.780562\n",
       "1106478     1.063303\n",
       "1106479     2.802896\n",
       "1106480     3.770352\n",
       "1106481     2.887419\n",
       "1106482     2.814019\n",
       "1106483     2.445740\n",
       "1106484     2.143418\n",
       "1106485     2.656897\n",
       "1106486     7.594213\n",
       "1106487     3.743223\n",
       "1106488     4.881051\n",
       "1106489     3.353182\n",
       "1106490     4.263377\n",
       "1106491     6.662663\n",
       "1106492     2.951709\n",
       "1106493     9.335485\n",
       "1106494     2.498209\n",
       "1106495     2.679067\n",
       "1106496     1.272400\n",
       "Name: pce, Length: 1106497, dtype: float64, 0          0.787542\n",
       "1          0.891818\n",
       "2          0.563516\n",
       "3          1.565185\n",
       "4          0.651534\n",
       "5          0.960378\n",
       "6          0.855961\n",
       "7          0.731931\n",
       "8          0.242490\n",
       "9          0.452019\n",
       "10         0.485560\n",
       "11         1.027286\n",
       "12         0.646154\n",
       "13         0.624166\n",
       "14         0.445622\n",
       "15         1.616877\n",
       "16         0.926053\n",
       "17         0.884413\n",
       "18         0.640859\n",
       "19         0.720726\n",
       "20         1.008735\n",
       "21         0.510010\n",
       "22         0.607008\n",
       "23         0.689034\n",
       "24         0.659430\n",
       "25         0.887220\n",
       "26         0.557008\n",
       "27         0.774800\n",
       "28         1.069437\n",
       "29         0.771490\n",
       "             ...   \n",
       "1106467    0.303165\n",
       "1106468    0.892533\n",
       "1106469    0.323482\n",
       "1106470    0.280599\n",
       "1106471    1.000112\n",
       "1106472    1.021842\n",
       "1106473    0.838712\n",
       "1106474    0.667854\n",
       "1106475    0.473489\n",
       "1106476    0.762095\n",
       "1106477    0.264955\n",
       "1106478    0.087194\n",
       "1106479    0.911719\n",
       "1106480    0.412894\n",
       "1106481    0.549016\n",
       "1106482    0.556938\n",
       "1106483    0.207560\n",
       "1106484    0.227460\n",
       "1106485    0.274521\n",
       "1106486    0.993521\n",
       "1106487    0.466049\n",
       "1106488    0.657693\n",
       "1106489    0.461167\n",
       "1106490    0.688326\n",
       "1106491    0.850060\n",
       "1106492    0.279912\n",
       "1106493    1.120744\n",
       "1106494    0.834995\n",
       "1106495    0.659243\n",
       "1106496    0.102802\n",
       "Name: voc, Length: 1106497, dtype: float64])"
      ]
     },
     "execution_count": 111,
     "metadata": {},
     "output_type": "execute_result"
    }
   ],
   "source": [
    "dict_1.values()"
   ]
  },
  {
   "cell_type": "markdown",
   "metadata": {},
   "source": [
    "> By creating a function named `new_name`, the three series of subfiles were created. Furthermore, using the for loop, the three files having the created subfile names were downloaded, unziped and stored into the variable named data in the form of a list of `pandas` dataframes. "
   ]
  },
  {
   "cell_type": "markdown",
   "metadata": {},
   "source": [
    "## Now, let's try to plot to figure out the differences of the three sets."
   ]
  },
  {
   "cell_type": "code",
   "execution_count": 112,
   "metadata": {},
   "outputs": [],
   "source": [
    "import matplotlib.pyplot as plt\n",
    "%matplotlib inline"
   ]
  },
  {
   "cell_type": "markdown",
   "metadata": {},
   "source": [
    "> Be careful! list `sort()` doesn't work here for pandas series sort. Instead, use `sort_values()`! "
   ]
  },
  {
   "cell_type": "code",
   "execution_count": 157,
   "metadata": {},
   "outputs": [
    {
     "data": {
      "image/png": "[encoded data removed]",
      "text/plain": [
       "<Figure size 432x288 with 1 Axes>"
      ]
     },
     "metadata": {
      "needs_background": "light"
     },
     "output_type": "display_data"
    }
   ],
   "source": [
    "plt.plot(data[0]['mass'].sample(n=100).sort_values(ascending=True), \n",
    "         data[1]['mass'].sample(n=100).sort_values(ascending=True), 'g:', linestyle='dashed', linewidth=3)\n",
    "plt.plot(data[0]['mass'].sample(n=100).sort_values(ascending=True), \n",
    "         data[2]['mass'].sample(n=100).sort_values(ascending=True), 'r-', linewidth=3)\n",
    "plt.xlabel('mass(set_1)', fontweight='bold', fontsize = 20)\n",
    "_ = plt.ylabel('mass(set_2 and set_3 )', fontsize=15)"
   ]
  },
  {
   "cell_type": "markdown",
   "metadata": {},
   "source": [
    "## Let's try to use `for loop` for the several plots!"
   ]
  },
  {
   "cell_type": "code",
   "execution_count": 143,
   "metadata": {},
   "outputs": [
    {
     "data": {
      "text/plain": [
       "'pce(set_1)'"
      ]
     },
     "execution_count": 143,
     "metadata": {},
     "output_type": "execute_result"
    }
   ],
   "source": [
    "list[i]+'(set_1)'"
   ]
  },
  {
   "cell_type": "code",
   "execution_count": 159,
   "metadata": {},
   "outputs": [
    {
     "data": {
      "image/png": "[encoded data removed]",
      "text/plain": [
       "<Figure size 648x288 with 3 Axes>"
      ]
     },
     "metadata": {
      "needs_background": "light"
     },
     "output_type": "display_data"
    }
   ],
   "source": [
    "fig = plt.figure(figsize=(9, 4))\n",
    "ax = fig.add_axes([0, 0, 0.4, 0.8])\n",
    "ax1 = fig.add_axes([0.5, 0, 0.3, 0.4])\n",
    "ax2 = fig.add_axes([0.5, 0.5, 0.3, 0.3])\n",
    "\n",
    "list = ['pce', 'voc', 'jsc']\n",
    "pl = [ax, ax1, ax2]\n",
    "\n",
    "for i in range(3):\n",
    "    pl[i].plot(data[0][list[i]].sample(n=100).sort_values(ascending=True), \n",
    "         data[1][list[i]].sample(n=100).sort_values(ascending=True), 'g:', linestyle='dashed', linewidth=3)\n",
    "    pl[i].plot(data[0][list[i]].sample(n=100).sort_values(ascending=True), \n",
    "         data[2][list[i]].sample(n=100).sort_values(ascending=True), 'r-', linewidth=3)\n",
    "    pl[i].set_xlabel(list[i]+'(set_1)', fontweight='bold', fontsize = 20)\n",
    "    pl[i].set_ylabel(list[i]+'\\n(set_2, set_3 )', fontsize=15)\n"
   ]
  },
  {
   "cell_type": "markdown",
   "metadata": {},
   "source": [
    "> Now, it is clear that the data_set2 has `zero` in the columns, `pce` and `voc`. We need to investigate why the set2 has complete `zeros`. "
   ]
  }
 ],
 "metadata": {
  "kernelspec": {
   "display_name": "Python 3",
   "language": "python",
   "name": "python3"
  },
  "language_info": {
   "codemirror_mode": {
    "name": "ipython",
    "version": 3
   },
   "file_extension": ".py",
   "mimetype": "text/x-python",
   "name": "python",
   "nbconvert_exporter": "python",
   "pygments_lexer": "ipython3",
   "version": "3.7.0"
  }
 },
 "nbformat": 4,
 "nbformat_minor": 2
}
